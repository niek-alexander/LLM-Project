{
 "cells": [
  {
   "cell_type": "code",
   "execution_count": 1,
   "id": "532eede1",
   "metadata": {
    "collapsed": true,
    "execution": {
     "iopub.execute_input": "2025-10-17T12:14:50.794157Z",
     "iopub.status.busy": "2025-10-17T12:14:50.793939Z",
     "iopub.status.idle": "2025-10-17T12:16:04.596002Z",
     "shell.execute_reply": "2025-10-17T12:16:04.595267Z"
    },
    "executionInfo": {
     "elapsed": 13545,
     "status": "ok",
     "timestamp": 1760602004944,
     "user": {
      "displayName": "Yi Wang",
      "userId": "16774077774184782214"
     },
     "user_tz": -120
    },
    "id": "QApEWaGEU41c",
    "jupyter": {
     "outputs_hidden": true
    },
    "papermill": {
     "duration": 73.819215,
     "end_time": "2025-10-17T12:16:04.597553",
     "exception": false,
     "start_time": "2025-10-17T12:14:50.778338",
     "status": "completed"
    },
    "tags": []
   },
   "outputs": [
    {
     "name": "stdout",
     "output_type": "stream",
     "text": [
      "\u001b[2K   \u001b[90m━━━━━━━━━━━━━━━━━━━━━━━━━━━━━━━━━━━━━━━━\u001b[0m \u001b[32m564.3/564.3 kB\u001b[0m \u001b[31m12.7 MB/s\u001b[0m eta \u001b[36m0:00:00\u001b[0m\r\n",
      "\u001b[2K   \u001b[90m━━━━━━━━━━━━━━━━━━━━━━━━━━━━━━━━━━━━━━━━\u001b[0m \u001b[32m42.8/42.8 MB\u001b[0m \u001b[31m43.9 MB/s\u001b[0m eta \u001b[36m0:00:00\u001b[0m\r\n",
      "\u001b[2K   \u001b[90m━━━━━━━━━━━━━━━━━━━━━━━━━━━━━━━━━━━━━━━━\u001b[0m \u001b[32m363.4/363.4 MB\u001b[0m \u001b[31m4.9 MB/s\u001b[0m eta \u001b[36m0:00:00\u001b[0m\r\n",
      "\u001b[2K   \u001b[90m━━━━━━━━━━━━━━━━━━━━━━━━━━━━━━━━━━━━━━━━\u001b[0m \u001b[32m13.8/13.8 MB\u001b[0m \u001b[31m94.7 MB/s\u001b[0m eta \u001b[36m0:00:00\u001b[0m\r\n",
      "\u001b[2K   \u001b[90m━━━━━━━━━━━━━━━━━━━━━━━━━━━━━━━━━━━━━━━━\u001b[0m \u001b[32m24.6/24.6 MB\u001b[0m \u001b[31m74.2 MB/s\u001b[0m eta \u001b[36m0:00:00\u001b[0m\r\n",
      "\u001b[2K   \u001b[90m━━━━━━━━━━━━━━━━━━━━━━━━━━━━━━━━━━━━━━━━\u001b[0m \u001b[32m883.7/883.7 kB\u001b[0m \u001b[31m46.7 MB/s\u001b[0m eta \u001b[36m0:00:00\u001b[0m\r\n",
      "\u001b[2K   \u001b[90m━━━━━━━━━━━━━━━━━━━━━━━━━━━━━━━━━━━━━━━━\u001b[0m \u001b[32m664.8/664.8 MB\u001b[0m \u001b[31m2.5 MB/s\u001b[0m eta \u001b[36m0:00:00\u001b[0m\r\n",
      "\u001b[2K   \u001b[90m━━━━━━━━━━━━━━━━━━━━━━━━━━━━━━━━━━━━━━━━\u001b[0m \u001b[32m211.5/211.5 MB\u001b[0m \u001b[31m8.0 MB/s\u001b[0m eta \u001b[36m0:00:00\u001b[0m\r\n",
      "\u001b[2K   \u001b[90m━━━━━━━━━━━━━━━━━━━━━━━━━━━━━━━━━━━━━━━━\u001b[0m \u001b[32m56.3/56.3 MB\u001b[0m \u001b[31m30.6 MB/s\u001b[0m eta \u001b[36m0:00:00\u001b[0m\r\n",
      "\u001b[2K   \u001b[90m━━━━━━━━━━━━━━━━━━━━━━━━━━━━━━━━━━━━━━━━\u001b[0m \u001b[32m127.9/127.9 MB\u001b[0m \u001b[31m5.4 MB/s\u001b[0m eta \u001b[36m0:00:00\u001b[0m\r\n",
      "\u001b[2K   \u001b[90m━━━━━━━━━━━━━━━━━━━━━━━━━━━━━━━━━━━━━━━━\u001b[0m \u001b[32m207.5/207.5 MB\u001b[0m \u001b[31m8.2 MB/s\u001b[0m eta \u001b[36m0:00:00\u001b[0m\r\n",
      "\u001b[2K   \u001b[90m━━━━━━━━━━━━━━━━━━━━━━━━━━━━━━━━━━━━━━━━\u001b[0m \u001b[32m21.1/21.1 MB\u001b[0m \u001b[31m83.5 MB/s\u001b[0m eta \u001b[36m0:00:00\u001b[0m\r\n",
      "\u001b[?25h\u001b[31mERROR: pip's dependency resolver does not currently take into account all the packages that are installed. This behaviour is the source of the following dependency conflicts.\r\n",
      "bigframes 2.12.0 requires google-cloud-bigquery-storage<3.0.0,>=2.30.0, which is not installed.\r\n",
      "pylibcudf-cu12 25.2.2 requires pyarrow<20.0.0a0,>=14.0.0; platform_machine == \"x86_64\", but you have pyarrow 21.0.0 which is incompatible.\r\n",
      "cudf-cu12 25.2.2 requires pyarrow<20.0.0a0,>=14.0.0; platform_machine == \"x86_64\", but you have pyarrow 21.0.0 which is incompatible.\r\n",
      "bigframes 2.12.0 requires google-cloud-bigquery[bqstorage,pandas]>=3.31.0, but you have google-cloud-bigquery 3.25.0 which is incompatible.\r\n",
      "bigframes 2.12.0 requires rich<14,>=12.4.4, but you have rich 14.1.0 which is incompatible.\r\n",
      "libcugraph-cu12 25.6.0 requires libraft-cu12==25.6.*, but you have libraft-cu12 25.2.0 which is incompatible.\r\n",
      "gradio 5.38.1 requires pydantic<2.12,>=2.0, but you have pydantic 2.12.0a1 which is incompatible.\r\n",
      "cudf-polars-cu12 25.6.0 requires pylibcudf-cu12==25.6.*, but you have pylibcudf-cu12 25.2.2 which is incompatible.\r\n",
      "pandas-gbq 0.29.2 requires google-api-core<3.0.0,>=2.10.2, but you have google-api-core 1.34.1 which is incompatible.\r\n",
      "pylibcugraph-cu12 25.6.0 requires pylibraft-cu12==25.6.*, but you have pylibraft-cu12 25.2.0 which is incompatible.\r\n",
      "pylibcugraph-cu12 25.6.0 requires rmm-cu12==25.6.*, but you have rmm-cu12 25.2.0 which is incompatible.\u001b[0m\u001b[31m\r\n",
      "\u001b[0m"
     ]
    }
   ],
   "source": [
    "!pip install -q transformers datasets peft accelerate scikit-learn tqdm"
   ]
  },
  {
   "cell_type": "code",
   "execution_count": 2,
   "id": "59fb27f8",
   "metadata": {
    "collapsed": true,
    "execution": {
     "iopub.execute_input": "2025-10-17T12:16:04.658345Z",
     "iopub.status.busy": "2025-10-17T12:16:04.657763Z",
     "iopub.status.idle": "2025-10-17T12:16:06.128423Z",
     "shell.execute_reply": "2025-10-17T12:16:06.127664Z"
    },
    "executionInfo": {
     "elapsed": 415,
     "status": "ok",
     "timestamp": 1760602005393,
     "user": {
      "displayName": "Yi Wang",
      "userId": "16774077774184782214"
     },
     "user_tz": -120
    },
    "id": "3BIWWuiIVIHP",
    "jupyter": {
     "outputs_hidden": true
    },
    "papermill": {
     "duration": 1.501708,
     "end_time": "2025-10-17T12:16:06.129808",
     "exception": false,
     "start_time": "2025-10-17T12:16:04.628100",
     "status": "completed"
    },
    "tags": []
   },
   "outputs": [],
   "source": [
    "import pandas as pd\n",
    "eng_dataset = pd.read_csv('/kaggle/input/english-annotated-dataset/en-annotated.tsv', sep='\\t', header=None)"
   ]
  },
  {
   "cell_type": "code",
   "execution_count": 3,
   "id": "b8aa23f3",
   "metadata": {
    "execution": {
     "iopub.execute_input": "2025-10-17T12:16:06.188943Z",
     "iopub.status.busy": "2025-10-17T12:16:06.188711Z",
     "iopub.status.idle": "2025-10-17T12:16:06.203142Z",
     "shell.execute_reply": "2025-10-17T12:16:06.202463Z"
    },
    "executionInfo": {
     "elapsed": 17,
     "status": "ok",
     "timestamp": 1760602005422,
     "user": {
      "displayName": "Yi Wang",
      "userId": "16774077774184782214"
     },
     "user_tz": -120
    },
    "id": "uThKec0_Vmxf",
    "outputId": "36143559-de15-41e4-dce0-53a4c657a761",
    "papermill": {
     "duration": 0.044751,
     "end_time": "2025-10-17T12:16:06.204299",
     "exception": false,
     "start_time": "2025-10-17T12:16:06.159548",
     "status": "completed"
    },
    "tags": []
   },
   "outputs": [
    {
     "name": "stdout",
     "output_type": "stream",
     "text": [
      "                                                       0        1\n",
      "0                                                  , ...        1\n",
      "1                                                      !  1, 4, 7\n",
      "2      ... And I don't think we need to discuss the T...     8, 1\n",
      "3                            * So get up out of your bed        1\n",
      "4      A confession that you hired [PERSON] ... and a...     1, 6\n",
      "...                                                  ...      ...\n",
      "17523                   Your opinion might be valuable .        8\n",
      "17524                                      Your orders .        8\n",
      "17525              Your ship's been in lots of battles .        8\n",
      "17526                         Your wine , your Majesty .        8\n",
      "17527                                            Yours ?        8\n",
      "\n",
      "[17528 rows x 2 columns]\n"
     ]
    }
   ],
   "source": [
    "print(eng_dataset)"
   ]
  },
  {
   "cell_type": "code",
   "execution_count": 4,
   "id": "060cfba2",
   "metadata": {
    "execution": {
     "iopub.execute_input": "2025-10-17T12:16:06.262280Z",
     "iopub.status.busy": "2025-10-17T12:16:06.261762Z",
     "iopub.status.idle": "2025-10-17T12:16:07.536504Z",
     "shell.execute_reply": "2025-10-17T12:16:07.535876Z"
    },
    "executionInfo": {
     "elapsed": 1105,
     "status": "ok",
     "timestamp": 1760602006547,
     "user": {
      "displayName": "Yi Wang",
      "userId": "16774077774184782214"
     },
     "user_tz": -120
    },
    "id": "wbtOitPyVnlJ",
    "papermill": {
     "duration": 1.305095,
     "end_time": "2025-10-17T12:16:07.537875",
     "exception": false,
     "start_time": "2025-10-17T12:16:06.232780",
     "status": "completed"
    },
    "tags": []
   },
   "outputs": [],
   "source": [
    "from sklearn.model_selection import train_test_split\n",
    "\n",
    "train_val, test = train_test_split(eng_dataset, test_size=0.1, random_state=42)\n",
    "train, val = train_test_split(train_val, test_size=(1/9), random_state=42)\n",
    "\n",
    "train = train.rename(columns={0: 'text', 1: 'labels'})\n",
    "test = test.rename(columns={0: 'text', 1: 'labels'})\n",
    "val = val.rename(columns={0: \"text\", 1: \"labels\"})"
   ]
  },
  {
   "cell_type": "code",
   "execution_count": 5,
   "id": "6d23e7c4",
   "metadata": {
    "execution": {
     "iopub.execute_input": "2025-10-17T12:16:07.598416Z",
     "iopub.status.busy": "2025-10-17T12:16:07.597663Z",
     "iopub.status.idle": "2025-10-17T12:16:07.603975Z",
     "shell.execute_reply": "2025-10-17T12:16:07.603230Z"
    },
    "executionInfo": {
     "elapsed": 11,
     "status": "ok",
     "timestamp": 1760602006565,
     "user": {
      "displayName": "Yi Wang",
      "userId": "16774077774184782214"
     },
     "user_tz": -120
    },
    "id": "y5CFuangVz2r",
    "outputId": "e9089ff6-4ef9-4d04-e69f-26ca3768a6ba",
    "papermill": {
     "duration": 0.037579,
     "end_time": "2025-10-17T12:16:07.605084",
     "exception": false,
     "start_time": "2025-10-17T12:16:07.567505",
     "status": "completed"
    },
    "tags": []
   },
   "outputs": [
    {
     "name": "stdout",
     "output_type": "stream",
     "text": [
      "                                                    text labels\n",
      "2235                                  ♪ For me and you ♪      5\n",
      "14531  I'd be so happy if that were really true , [PE...      6\n",
      "13553                                That was the hope .      5\n",
      "1670                  Don't lie to me , you pepper gut .      3\n",
      "5884   I know that when there's something wrong , you...   1, 4\n"
     ]
    }
   ],
   "source": [
    "print(train.head())"
   ]
  },
  {
   "cell_type": "code",
   "execution_count": 6,
   "id": "f8009ea2",
   "metadata": {
    "execution": {
     "iopub.execute_input": "2025-10-17T12:16:07.666410Z",
     "iopub.status.busy": "2025-10-17T12:16:07.665763Z",
     "iopub.status.idle": "2025-10-17T12:16:07.670874Z",
     "shell.execute_reply": "2025-10-17T12:16:07.670057Z"
    },
    "executionInfo": {
     "elapsed": 8,
     "status": "ok",
     "timestamp": 1760602006576,
     "user": {
      "displayName": "Yi Wang",
      "userId": "16774077774184782214"
     },
     "user_tz": -120
    },
    "id": "0bCLpkU9V15a",
    "outputId": "e224417c-6faa-4b6f-8b26-d90181947edd",
    "papermill": {
     "duration": 0.036877,
     "end_time": "2025-10-17T12:16:07.672028",
     "exception": false,
     "start_time": "2025-10-17T12:16:07.635151",
     "status": "completed"
    },
    "tags": []
   },
   "outputs": [
    {
     "name": "stdout",
     "output_type": "stream",
     "text": [
      "                                                    text labels\n",
      "3282   But are they telling me , or are they asking me ?      7\n",
      "3024                                         Forget me .      6\n",
      "17050                The [PERSON]'s a floating mistake .      8\n",
      "1039                                   Where did he go ?   2, 7\n",
      "7068                                That is not true .        1\n"
     ]
    }
   ],
   "source": [
    "print(test.head())"
   ]
  },
  {
   "cell_type": "code",
   "execution_count": 7,
   "id": "a0e0e149",
   "metadata": {
    "execution": {
     "iopub.execute_input": "2025-10-17T12:16:07.731031Z",
     "iopub.status.busy": "2025-10-17T12:16:07.730366Z",
     "iopub.status.idle": "2025-10-17T12:16:07.734026Z",
     "shell.execute_reply": "2025-10-17T12:16:07.733319Z"
    },
    "executionInfo": {
     "elapsed": 2,
     "status": "ok",
     "timestamp": 1760602006580,
     "user": {
      "displayName": "Yi Wang",
      "userId": "16774077774184782214"
     },
     "user_tz": -120
    },
    "id": "8kjZE013YyQ2",
    "papermill": {
     "duration": 0.034318,
     "end_time": "2025-10-17T12:16:07.735064",
     "exception": false,
     "start_time": "2025-10-17T12:16:07.700746",
     "status": "completed"
    },
    "tags": []
   },
   "outputs": [],
   "source": [
    "emotions_mapping = {1: \"anger\", 2: \"anticipation\", 3: \"disgust\", 4: \"fear\", 5: \"joy\", 6: \"sadness\", 7: \"surprise\", 8: \"trust\"}"
   ]
  },
  {
   "cell_type": "code",
   "execution_count": 8,
   "id": "f92a1dba",
   "metadata": {
    "execution": {
     "iopub.execute_input": "2025-10-17T12:16:07.793039Z",
     "iopub.status.busy": "2025-10-17T12:16:07.792859Z",
     "iopub.status.idle": "2025-10-17T12:16:07.979553Z",
     "shell.execute_reply": "2025-10-17T12:16:07.978991Z"
    },
    "executionInfo": {
     "elapsed": 8,
     "status": "ok",
     "timestamp": 1760602006602,
     "user": {
      "displayName": "Yi Wang",
      "userId": "16774077774184782214"
     },
     "user_tz": -120
    },
    "id": "sPk9hxPVV5H4",
    "papermill": {
     "duration": 0.217143,
     "end_time": "2025-10-17T12:16:07.980904",
     "exception": false,
     "start_time": "2025-10-17T12:16:07.763761",
     "status": "completed"
    },
    "tags": []
   },
   "outputs": [],
   "source": [
    "def format_data(row):\n",
    "  labels = row['labels']\n",
    "  labels = labels.split(\",\")\n",
    "  labels = [int(label) for label in labels]\n",
    "  emotions = [emotions_mapping[label] for label in labels]\n",
    "\n",
    "  return {\n",
    "      \"instruction\": \"Identify the emotion(s) in the following sentence:\",\n",
    "      \"input\": row['text'],\n",
    "      \"output\": emotions\n",
    "  }\n",
    "\n",
    "\n",
    "train_data = train.apply(format_data, axis=1).tolist()\n",
    "test_data = test.apply(format_data, axis=1).tolist()\n",
    "val_data = val.apply(format_data, axis=1).tolist()\n"
   ]
  },
  {
   "cell_type": "code",
   "execution_count": 9,
   "id": "2dc63ae9",
   "metadata": {
    "execution": {
     "iopub.execute_input": "2025-10-17T12:16:08.041007Z",
     "iopub.status.busy": "2025-10-17T12:16:08.040538Z",
     "iopub.status.idle": "2025-10-17T12:16:08.045200Z",
     "shell.execute_reply": "2025-10-17T12:16:08.044678Z"
    },
    "papermill": {
     "duration": 0.035403,
     "end_time": "2025-10-17T12:16:08.046206",
     "exception": false,
     "start_time": "2025-10-17T12:16:08.010803",
     "status": "completed"
    },
    "tags": []
   },
   "outputs": [
    {
     "data": {
      "text/plain": [
       "list"
      ]
     },
     "execution_count": 9,
     "metadata": {},
     "output_type": "execute_result"
    }
   ],
   "source": [
    "type(val_data)"
   ]
  },
  {
   "cell_type": "code",
   "execution_count": 10,
   "id": "00d3ce6b",
   "metadata": {
    "execution": {
     "iopub.execute_input": "2025-10-17T12:16:08.104861Z",
     "iopub.status.busy": "2025-10-17T12:16:08.104684Z",
     "iopub.status.idle": "2025-10-17T12:16:08.108164Z",
     "shell.execute_reply": "2025-10-17T12:16:08.107568Z"
    },
    "executionInfo": {
     "elapsed": 31,
     "status": "ok",
     "timestamp": 1760602006637,
     "user": {
      "displayName": "Yi Wang",
      "userId": "16774077774184782214"
     },
     "user_tz": -120
    },
    "id": "sL8iNMOFXQTW",
    "outputId": "dea65881-35b1-469f-ec1f-c3b53415c091",
    "papermill": {
     "duration": 0.034028,
     "end_time": "2025-10-17T12:16:08.109151",
     "exception": false,
     "start_time": "2025-10-17T12:16:08.075123",
     "status": "completed"
    },
    "tags": []
   },
   "outputs": [
    {
     "name": "stdout",
     "output_type": "stream",
     "text": [
      "{'instruction': 'Identify the emotion(s) in the following sentence:', 'input': '♪ For me and you ♪', 'output': ['joy']}\n"
     ]
    }
   ],
   "source": [
    "print(train_data[0])"
   ]
  },
  {
   "cell_type": "code",
   "execution_count": 11,
   "id": "a1b618f6",
   "metadata": {
    "execution": {
     "iopub.execute_input": "2025-10-17T12:16:08.167791Z",
     "iopub.status.busy": "2025-10-17T12:16:08.167595Z",
     "iopub.status.idle": "2025-10-17T12:16:08.170976Z",
     "shell.execute_reply": "2025-10-17T12:16:08.170401Z"
    },
    "executionInfo": {
     "elapsed": 8,
     "status": "ok",
     "timestamp": 1760602006647,
     "user": {
      "displayName": "Yi Wang",
      "userId": "16774077774184782214"
     },
     "user_tz": -120
    },
    "id": "yQ42kvJ8X4kj",
    "outputId": "0c8f90ac-fdba-459c-9032-099c5ae6eed0",
    "papermill": {
     "duration": 0.034,
     "end_time": "2025-10-17T12:16:08.171966",
     "exception": false,
     "start_time": "2025-10-17T12:16:08.137966",
     "status": "completed"
    },
    "tags": []
   },
   "outputs": [
    {
     "name": "stdout",
     "output_type": "stream",
     "text": [
      "{'instruction': 'Identify the emotion(s) in the following sentence:', 'input': 'But are they telling me , or are they asking me ?', 'output': ['surprise']}\n"
     ]
    }
   ],
   "source": [
    "print(test_data[0])"
   ]
  },
  {
   "cell_type": "code",
   "execution_count": 12,
   "id": "b9918482",
   "metadata": {
    "execution": {
     "iopub.execute_input": "2025-10-17T12:16:08.231443Z",
     "iopub.status.busy": "2025-10-17T12:16:08.230869Z",
     "iopub.status.idle": "2025-10-17T12:16:29.221452Z",
     "shell.execute_reply": "2025-10-17T12:16:29.220823Z"
    },
    "executionInfo": {
     "elapsed": 46050,
     "status": "ok",
     "timestamp": 1760602052716,
     "user": {
      "displayName": "Yi Wang",
      "userId": "16774077774184782214"
     },
     "user_tz": -120
    },
    "id": "vFGmswNZbEUJ",
    "outputId": "b6b33a24-13c3-4019-c1f5-ce47b63712be",
    "papermill": {
     "duration": 21.021515,
     "end_time": "2025-10-17T12:16:29.222546",
     "exception": false,
     "start_time": "2025-10-17T12:16:08.201031",
     "status": "completed"
    },
    "tags": []
   },
   "outputs": [
    {
     "data": {
      "application/vnd.jupyter.widget-view+json": {
       "model_id": "483ed6e5530b47678ff4e5955a6548a7",
       "version_major": 2,
       "version_minor": 0
      },
      "text/plain": [
       "tokenizer_config.json:   0%|          | 0.00/376 [00:00<?, ?B/s]"
      ]
     },
     "metadata": {},
     "output_type": "display_data"
    },
    {
     "data": {
      "application/vnd.jupyter.widget-view+json": {
       "model_id": "25868153abda42c99da01cbe47b7ea05",
       "version_major": 2,
       "version_minor": 0
      },
      "text/plain": [
       "config.json:   0%|          | 0.00/702 [00:00<?, ?B/s]"
      ]
     },
     "metadata": {},
     "output_type": "display_data"
    },
    {
     "data": {
      "application/vnd.jupyter.widget-view+json": {
       "model_id": "1723653dc57149739314c4a7ca755e87",
       "version_major": 2,
       "version_minor": 0
      },
      "text/plain": [
       "spiece.model:   0%|          | 0.00/4.31M [00:00<?, ?B/s]"
      ]
     },
     "metadata": {},
     "output_type": "display_data"
    },
    {
     "data": {
      "application/vnd.jupyter.widget-view+json": {
       "model_id": "60d7a167c6cf4e6dac4f43db91bb9356",
       "version_major": 2,
       "version_minor": 0
      },
      "text/plain": [
       "special_tokens_map.json:   0%|          | 0.00/65.0 [00:00<?, ?B/s]"
      ]
     },
     "metadata": {},
     "output_type": "display_data"
    },
    {
     "name": "stderr",
     "output_type": "stream",
     "text": [
      "You are using the default legacy behaviour of the <class 'transformers.models.t5.tokenization_t5.T5Tokenizer'>. This is expected, and simply means that the `legacy` (previous) behavior will be used so nothing changes for you. If you want to use the new behaviour, set `legacy=False`. This should only be set if you understand what it means, and thoroughly read the reason why this was added as explained in https://github.com/huggingface/transformers/pull/24565\n",
      "/usr/local/lib/python3.11/dist-packages/transformers/convert_slow_tokenizer.py:564: UserWarning: The sentencepiece tokenizer that you are converting to a fast tokenizer uses the byte fallback option which is not implemented in the fast tokenizers. In practice this means that the fast version of the tokenizer can produce unknown tokens whereas the sentencepiece version would have converted these unknown tokens into a sequence of byte tokens matching the original piece of text.\n",
      "  warnings.warn(\n"
     ]
    },
    {
     "data": {
      "application/vnd.jupyter.widget-view+json": {
       "model_id": "00952b8ef91b4941b0f3eba8b6b062ce",
       "version_major": 2,
       "version_minor": 0
      },
      "text/plain": [
       "Map:   0%|          | 0/14022 [00:00<?, ? examples/s]"
      ]
     },
     "metadata": {},
     "output_type": "display_data"
    },
    {
     "data": {
      "application/vnd.jupyter.widget-view+json": {
       "model_id": "f701a83576284db6b6dd90fcf30283fd",
       "version_major": 2,
       "version_minor": 0
      },
      "text/plain": [
       "Map:   0%|          | 0/1753 [00:00<?, ? examples/s]"
      ]
     },
     "metadata": {},
     "output_type": "display_data"
    },
    {
     "data": {
      "application/vnd.jupyter.widget-view+json": {
       "model_id": "2e1de77195c5435e8ba01a484934b7f1",
       "version_major": 2,
       "version_minor": 0
      },
      "text/plain": [
       "Map:   0%|          | 0/1753 [00:00<?, ? examples/s]"
      ]
     },
     "metadata": {},
     "output_type": "display_data"
    }
   ],
   "source": [
    "from datasets import Dataset\n",
    "from transformers import AutoTokenizer\n",
    "\n",
    "# Convert lists to Hugging Face datasets\n",
    "train_dataset = Dataset.from_list(train_data)\n",
    "test_dataset = Dataset.from_list(test_data)\n",
    "val_dataset = Dataset.from_list(val_data)\n",
    "\n",
    "# Load tokenizer\n",
    "model_name = \"google/mt5-base\" \n",
    "tokenizer = AutoTokenizer.from_pretrained(model_name)\n",
    "\n",
    "def tokenize_function(batch):\n",
    "    # Combine instruction and input\n",
    "    combined_texts = [f\"{inst} {inp}\" for inst, inp in zip(batch[\"instruction\"], batch[\"input\"])]\n",
    "\n",
    "    # Convert output lists to strings (important!)\n",
    "    output_texts = [\", \".join(output) for output in batch[\"output\"]]\n",
    "\n",
    "    # Tokenize inputs\n",
    "    model_inputs = tokenizer(\n",
    "        combined_texts,\n",
    "        truncation=True,\n",
    "        padding=\"max_length\",\n",
    "        max_length=256\n",
    "    )\n",
    "\n",
    "    # Tokenize outputs\n",
    "    labels = tokenizer(\n",
    "        output_texts,\n",
    "        truncation=True,\n",
    "        padding=\"max_length\",\n",
    "        max_length=64\n",
    "    )\n",
    "\n",
    "    model_inputs[\"labels\"] = labels[\"input_ids\"]\n",
    "    return model_inputs\n",
    "\n",
    "# Apply tokenization\n",
    "tokenized_train = train_dataset.map(tokenize_function, batched=True)\n",
    "tokenized_test = test_dataset.map(tokenize_function, batched=True)\n",
    "tokenized_val = val_dataset.map(tokenize_function, batched=True)"
   ]
  },
  {
   "cell_type": "code",
   "execution_count": 13,
   "id": "d3a6cceb",
   "metadata": {
    "execution": {
     "iopub.execute_input": "2025-10-17T12:16:29.283801Z",
     "iopub.status.busy": "2025-10-17T12:16:29.283248Z",
     "iopub.status.idle": "2025-10-17T12:16:29.288163Z",
     "shell.execute_reply": "2025-10-17T12:16:29.287357Z"
    },
    "executionInfo": {
     "elapsed": 18,
     "status": "ok",
     "timestamp": 1760602052748,
     "user": {
      "displayName": "Yi Wang",
      "userId": "16774077774184782214"
     },
     "user_tz": -120
    },
    "id": "m6H2DphHdBbH",
    "outputId": "abf1c9b7-a01a-4c4e-857e-fb9c2018e2fa",
    "papermill": {
     "duration": 0.036134,
     "end_time": "2025-10-17T12:16:29.289185",
     "exception": false,
     "start_time": "2025-10-17T12:16:29.253051",
     "status": "completed"
    },
    "tags": []
   },
   "outputs": [
    {
     "name": "stdout",
     "output_type": "stream",
     "text": [
      "{'instruction': 'Identify the emotion(s) in the following sentence:', 'input': '♪ For me and you ♪', 'output': ['joy'], 'input_ids': [48675, 30077, 287, 83802, 312, 263, 271, 281, 287, 259, 9877, 259, 98923, 267, 259, 6990, 1102, 416, 305, 521, 259, 6990, 1, 0, 0, 0, 0, 0, 0, 0, 0, 0, 0, 0, 0, 0, 0, 0, 0, 0, 0, 0, 0, 0, 0, 0, 0, 0, 0, 0, 0, 0, 0, 0, 0, 0, 0, 0, 0, 0, 0, 0, 0, 0, 0, 0, 0, 0, 0, 0, 0, 0, 0, 0, 0, 0, 0, 0, 0, 0, 0, 0, 0, 0, 0, 0, 0, 0, 0, 0, 0, 0, 0, 0, 0, 0, 0, 0, 0, 0, 0, 0, 0, 0, 0, 0, 0, 0, 0, 0, 0, 0, 0, 0, 0, 0, 0, 0, 0, 0, 0, 0, 0, 0, 0, 0, 0, 0, 0, 0, 0, 0, 0, 0, 0, 0, 0, 0, 0, 0, 0, 0, 0, 0, 0, 0, 0, 0, 0, 0, 0, 0, 0, 0, 0, 0, 0, 0, 0, 0, 0, 0, 0, 0, 0, 0, 0, 0, 0, 0, 0, 0, 0, 0, 0, 0, 0, 0, 0, 0, 0, 0, 0, 0, 0, 0, 0, 0, 0, 0, 0, 0, 0, 0, 0, 0, 0, 0, 0, 0, 0, 0, 0, 0, 0, 0, 0, 0, 0, 0, 0, 0, 0, 0, 0, 0, 0, 0, 0, 0, 0, 0, 0, 0, 0, 0, 0, 0, 0, 0, 0, 0, 0, 0, 0, 0, 0, 0, 0, 0, 0, 0, 0, 0, 0, 0, 0, 0, 0, 0, 0, 0, 0, 0, 0, 0], 'attention_mask': [1, 1, 1, 1, 1, 1, 1, 1, 1, 1, 1, 1, 1, 1, 1, 1, 1, 1, 1, 1, 1, 1, 1, 0, 0, 0, 0, 0, 0, 0, 0, 0, 0, 0, 0, 0, 0, 0, 0, 0, 0, 0, 0, 0, 0, 0, 0, 0, 0, 0, 0, 0, 0, 0, 0, 0, 0, 0, 0, 0, 0, 0, 0, 0, 0, 0, 0, 0, 0, 0, 0, 0, 0, 0, 0, 0, 0, 0, 0, 0, 0, 0, 0, 0, 0, 0, 0, 0, 0, 0, 0, 0, 0, 0, 0, 0, 0, 0, 0, 0, 0, 0, 0, 0, 0, 0, 0, 0, 0, 0, 0, 0, 0, 0, 0, 0, 0, 0, 0, 0, 0, 0, 0, 0, 0, 0, 0, 0, 0, 0, 0, 0, 0, 0, 0, 0, 0, 0, 0, 0, 0, 0, 0, 0, 0, 0, 0, 0, 0, 0, 0, 0, 0, 0, 0, 0, 0, 0, 0, 0, 0, 0, 0, 0, 0, 0, 0, 0, 0, 0, 0, 0, 0, 0, 0, 0, 0, 0, 0, 0, 0, 0, 0, 0, 0, 0, 0, 0, 0, 0, 0, 0, 0, 0, 0, 0, 0, 0, 0, 0, 0, 0, 0, 0, 0, 0, 0, 0, 0, 0, 0, 0, 0, 0, 0, 0, 0, 0, 0, 0, 0, 0, 0, 0, 0, 0, 0, 0, 0, 0, 0, 0, 0, 0, 0, 0, 0, 0, 0, 0, 0, 0, 0, 0, 0, 0, 0, 0, 0, 0, 0, 0, 0, 0, 0, 0], 'labels': [23119, 1, 0, 0, 0, 0, 0, 0, 0, 0, 0, 0, 0, 0, 0, 0, 0, 0, 0, 0, 0, 0, 0, 0, 0, 0, 0, 0, 0, 0, 0, 0, 0, 0, 0, 0, 0, 0, 0, 0, 0, 0, 0, 0, 0, 0, 0, 0, 0, 0, 0, 0, 0, 0, 0, 0, 0, 0, 0, 0, 0, 0, 0, 0]}\n"
     ]
    }
   ],
   "source": [
    "print(tokenized_train[0])"
   ]
  },
  {
   "cell_type": "code",
   "execution_count": 14,
   "id": "ae5c5d1b",
   "metadata": {
    "execution": {
     "iopub.execute_input": "2025-10-17T12:16:29.349999Z",
     "iopub.status.busy": "2025-10-17T12:16:29.349411Z",
     "iopub.status.idle": "2025-10-17T12:16:29.353882Z",
     "shell.execute_reply": "2025-10-17T12:16:29.353263Z"
    },
    "executionInfo": {
     "elapsed": 10,
     "status": "ok",
     "timestamp": 1760602052778,
     "user": {
      "displayName": "Yi Wang",
      "userId": "16774077774184782214"
     },
     "user_tz": -120
    },
    "id": "h51QeQL0fkX7",
    "outputId": "245fc1d4-72b6-4239-a6b0-ab46a070efe3",
    "papermill": {
     "duration": 0.035876,
     "end_time": "2025-10-17T12:16:29.354833",
     "exception": false,
     "start_time": "2025-10-17T12:16:29.318957",
     "status": "completed"
    },
    "tags": []
   },
   "outputs": [
    {
     "name": "stdout",
     "output_type": "stream",
     "text": [
      "{'instruction': 'Identify the emotion(s) in the following sentence:', 'input': 'But are they telling me , or are they asking me ?', 'output': ['surprise'], 'input_ids': [48675, 30077, 287, 83802, 312, 263, 271, 281, 287, 259, 9877, 259, 98923, 267, 4837, 418, 287, 276, 259, 47612, 416, 259, 261, 631, 418, 287, 276, 259, 65925, 416, 259, 291, 1, 0, 0, 0, 0, 0, 0, 0, 0, 0, 0, 0, 0, 0, 0, 0, 0, 0, 0, 0, 0, 0, 0, 0, 0, 0, 0, 0, 0, 0, 0, 0, 0, 0, 0, 0, 0, 0, 0, 0, 0, 0, 0, 0, 0, 0, 0, 0, 0, 0, 0, 0, 0, 0, 0, 0, 0, 0, 0, 0, 0, 0, 0, 0, 0, 0, 0, 0, 0, 0, 0, 0, 0, 0, 0, 0, 0, 0, 0, 0, 0, 0, 0, 0, 0, 0, 0, 0, 0, 0, 0, 0, 0, 0, 0, 0, 0, 0, 0, 0, 0, 0, 0, 0, 0, 0, 0, 0, 0, 0, 0, 0, 0, 0, 0, 0, 0, 0, 0, 0, 0, 0, 0, 0, 0, 0, 0, 0, 0, 0, 0, 0, 0, 0, 0, 0, 0, 0, 0, 0, 0, 0, 0, 0, 0, 0, 0, 0, 0, 0, 0, 0, 0, 0, 0, 0, 0, 0, 0, 0, 0, 0, 0, 0, 0, 0, 0, 0, 0, 0, 0, 0, 0, 0, 0, 0, 0, 0, 0, 0, 0, 0, 0, 0, 0, 0, 0, 0, 0, 0, 0, 0, 0, 0, 0, 0, 0, 0, 0, 0, 0, 0, 0, 0, 0, 0, 0, 0, 0, 0, 0, 0, 0, 0, 0, 0, 0, 0, 0, 0, 0, 0, 0, 0], 'attention_mask': [1, 1, 1, 1, 1, 1, 1, 1, 1, 1, 1, 1, 1, 1, 1, 1, 1, 1, 1, 1, 1, 1, 1, 1, 1, 1, 1, 1, 1, 1, 1, 1, 1, 0, 0, 0, 0, 0, 0, 0, 0, 0, 0, 0, 0, 0, 0, 0, 0, 0, 0, 0, 0, 0, 0, 0, 0, 0, 0, 0, 0, 0, 0, 0, 0, 0, 0, 0, 0, 0, 0, 0, 0, 0, 0, 0, 0, 0, 0, 0, 0, 0, 0, 0, 0, 0, 0, 0, 0, 0, 0, 0, 0, 0, 0, 0, 0, 0, 0, 0, 0, 0, 0, 0, 0, 0, 0, 0, 0, 0, 0, 0, 0, 0, 0, 0, 0, 0, 0, 0, 0, 0, 0, 0, 0, 0, 0, 0, 0, 0, 0, 0, 0, 0, 0, 0, 0, 0, 0, 0, 0, 0, 0, 0, 0, 0, 0, 0, 0, 0, 0, 0, 0, 0, 0, 0, 0, 0, 0, 0, 0, 0, 0, 0, 0, 0, 0, 0, 0, 0, 0, 0, 0, 0, 0, 0, 0, 0, 0, 0, 0, 0, 0, 0, 0, 0, 0, 0, 0, 0, 0, 0, 0, 0, 0, 0, 0, 0, 0, 0, 0, 0, 0, 0, 0, 0, 0, 0, 0, 0, 0, 0, 0, 0, 0, 0, 0, 0, 0, 0, 0, 0, 0, 0, 0, 0, 0, 0, 0, 0, 0, 0, 0, 0, 0, 0, 0, 0, 0, 0, 0, 0, 0, 0, 0, 0, 0, 0, 0, 0, 0, 0, 0, 0, 0, 0], 'labels': [35336, 1, 0, 0, 0, 0, 0, 0, 0, 0, 0, 0, 0, 0, 0, 0, 0, 0, 0, 0, 0, 0, 0, 0, 0, 0, 0, 0, 0, 0, 0, 0, 0, 0, 0, 0, 0, 0, 0, 0, 0, 0, 0, 0, 0, 0, 0, 0, 0, 0, 0, 0, 0, 0, 0, 0, 0, 0, 0, 0, 0, 0, 0, 0]}\n"
     ]
    }
   ],
   "source": [
    "print(tokenized_test[0])"
   ]
  },
  {
   "cell_type": "code",
   "execution_count": 15,
   "id": "95db8912",
   "metadata": {
    "execution": {
     "iopub.execute_input": "2025-10-17T12:16:29.416047Z",
     "iopub.status.busy": "2025-10-17T12:16:29.415774Z",
     "iopub.status.idle": "2025-10-17T12:16:58.836339Z",
     "shell.execute_reply": "2025-10-17T12:16:58.835712Z"
    },
    "executionInfo": {
     "elapsed": 99769,
     "status": "ok",
     "timestamp": 1760602152550,
     "user": {
      "displayName": "Yi Wang",
      "userId": "16774077774184782214"
     },
     "user_tz": -120
    },
    "id": "Ca6yBBGTflwM",
    "outputId": "d817d52b-5930-4cb6-e865-89a6ca3ecd46",
    "papermill": {
     "duration": 29.452662,
     "end_time": "2025-10-17T12:16:58.837760",
     "exception": false,
     "start_time": "2025-10-17T12:16:29.385098",
     "status": "completed"
    },
    "tags": []
   },
   "outputs": [
    {
     "name": "stderr",
     "output_type": "stream",
     "text": [
      "2025-10-17 12:16:33.511724: E external/local_xla/xla/stream_executor/cuda/cuda_fft.cc:477] Unable to register cuFFT factory: Attempting to register factory for plugin cuFFT when one has already been registered\n",
      "WARNING: All log messages before absl::InitializeLog() is called are written to STDERR\n",
      "E0000 00:00:1760703393.747349      19 cuda_dnn.cc:8310] Unable to register cuDNN factory: Attempting to register factory for plugin cuDNN when one has already been registered\n",
      "E0000 00:00:1760703393.817348      19 cuda_blas.cc:1418] Unable to register cuBLAS factory: Attempting to register factory for plugin cuBLAS when one has already been registered\n"
     ]
    },
    {
     "data": {
      "application/vnd.jupyter.widget-view+json": {
       "model_id": "f504bfc8bd4749eda8824756b9dd6d1c",
       "version_major": 2,
       "version_minor": 0
      },
      "text/plain": [
       "pytorch_model.bin:   0%|          | 0.00/2.33G [00:00<?, ?B/s]"
      ]
     },
     "metadata": {},
     "output_type": "display_data"
    },
    {
     "data": {
      "application/vnd.jupyter.widget-view+json": {
       "model_id": "8dbb8fb9799c40f6ab28aa4da16982cd",
       "version_major": 2,
       "version_minor": 0
      },
      "text/plain": [
       "generation_config.json:   0%|          | 0.00/147 [00:00<?, ?B/s]"
      ]
     },
     "metadata": {},
     "output_type": "display_data"
    }
   ],
   "source": [
    "from peft import LoraConfig, get_peft_model\n",
    "from transformers import AutoModelForSeq2SeqLM\n",
    "\n",
    "model = AutoModelForSeq2SeqLM.from_pretrained(model_name)\n",
    "\n",
    "lora_config = LoraConfig(\n",
    "    r=16,\n",
    "    lora_alpha=32,\n",
    "    target_modules=[\"q\", \"k\", \"v\", \"o\"],  \n",
    "    lora_dropout=0.05,\n",
    "    bias=\"none\",\n",
    "    task_type=\"SEQ_2_SEQ_LM\"\n",
    ")\n",
    "\n",
    "model = get_peft_model(model, lora_config)\n"
   ]
  },
  {
   "cell_type": "code",
   "execution_count": 16,
   "id": "30e4b858",
   "metadata": {
    "execution": {
     "iopub.execute_input": "2025-10-17T12:16:58.902536Z",
     "iopub.status.busy": "2025-10-17T12:16:58.901990Z",
     "iopub.status.idle": "2025-10-17T12:16:58.960360Z",
     "shell.execute_reply": "2025-10-17T12:16:58.959745Z"
    },
    "executionInfo": {
     "elapsed": 29,
     "status": "ok",
     "timestamp": 1760602152626,
     "user": {
      "displayName": "Yi Wang",
      "userId": "16774077774184782214"
     },
     "user_tz": -120
    },
    "id": "ifaI155d4MOI",
    "papermill": {
     "duration": 0.090619,
     "end_time": "2025-10-17T12:16:58.961377",
     "exception": false,
     "start_time": "2025-10-17T12:16:58.870758",
     "status": "completed"
    },
    "tags": []
   },
   "outputs": [],
   "source": [
    "from transformers import DataCollatorForSeq2Seq\n",
    "\n",
    "# we want to ignore tokenizer pad token in the loss\n",
    "label_pad_token_id = -100\n",
    "# Data collator\n",
    "data_collator = DataCollatorForSeq2Seq(\n",
    "    tokenizer,\n",
    "    model=model,\n",
    "    label_pad_token_id=label_pad_token_id,\n",
    "    pad_to_multiple_of=8\n",
    ")"
   ]
  },
  {
   "cell_type": "code",
   "execution_count": 17,
   "id": "eebd4211",
   "metadata": {
    "execution": {
     "iopub.execute_input": "2025-10-17T12:16:59.023209Z",
     "iopub.status.busy": "2025-10-17T12:16:59.022962Z",
     "iopub.status.idle": "2025-10-17T12:17:02.234894Z",
     "shell.execute_reply": "2025-10-17T12:17:02.234157Z"
    },
    "executionInfo": {
     "elapsed": 16096,
     "status": "ok",
     "timestamp": 1760602168730,
     "user": {
      "displayName": "Yi Wang",
      "userId": "16774077774184782214"
     },
     "user_tz": -120
    },
    "id": "Rkt98zC8g8W4",
    "papermill": {
     "duration": 3.244467,
     "end_time": "2025-10-17T12:17:02.235999",
     "exception": false,
     "start_time": "2025-10-17T12:16:58.991532",
     "status": "completed"
    },
    "tags": []
   },
   "outputs": [
    {
     "name": "stderr",
     "output_type": "stream",
     "text": [
      "No label_names provided for model class `PeftModelForSeq2SeqLM`. Since `PeftModel` hides base models input arguments, if label_names is not given, label_names can't be set automatically within `Trainer`. Note that empty label_names list will be used instead.\n"
     ]
    }
   ],
   "source": [
    "from transformers import Seq2SeqTrainer, Seq2SeqTrainingArguments\n",
    "\n",
    "output_dir = \"/kaggle/working/transformer_outputs\"\n",
    "\n",
    "\n",
    "# Define training args\n",
    "training_args = Seq2SeqTrainingArguments(\n",
    "    output_dir=output_dir,\n",
    "\tauto_find_batch_size=True,\n",
    "    learning_rate=2e-4, \n",
    "    num_train_epochs=15,\n",
    "    # num_train_epochs=1,\n",
    "    \n",
    "    eval_strategy=\"epoch\",\n",
    "    save_strategy=\"epoch\",\n",
    "    load_best_model_at_end=True,\n",
    "    metric_for_best_model=\"eval_loss\",\n",
    "    save_total_limit=1,\n",
    "    \n",
    "    logging_dir='/kaggle/working/logs',\n",
    "    logging_strategy=\"steps\",\n",
    "    logging_steps=500,\n",
    "    report_to=\"tensorboard\", \n",
    ")\n",
    "\n",
    "# Create Trainer instance\n",
    "trainer = Seq2SeqTrainer(\n",
    "    model=model,\n",
    "    args=training_args,\n",
    "    data_collator=data_collator,\n",
    "    train_dataset=tokenized_train,\n",
    "    eval_dataset =tokenized_val\n",
    ")"
   ]
  },
  {
   "cell_type": "code",
   "execution_count": 18,
   "id": "7c4a6f55",
   "metadata": {
    "collapsed": true,
    "execution": {
     "iopub.execute_input": "2025-10-17T12:17:02.304278Z",
     "iopub.status.busy": "2025-10-17T12:17:02.304015Z",
     "iopub.status.idle": "2025-10-17T17:05:51.873536Z",
     "shell.execute_reply": "2025-10-17T17:05:51.872794Z"
    },
    "executionInfo": {
     "elapsed": 1091945,
     "status": "ok",
     "timestamp": 1760603260685,
     "user": {
      "displayName": "Yi Wang",
      "userId": "16774077774184782214"
     },
     "user_tz": -120
    },
    "id": "sEvLyetE5cph",
    "jupyter": {
     "outputs_hidden": true
    },
    "outputId": "fc8fe460-29a2-4b53-ab06-8b55a1b5b023",
    "papermill": {
     "duration": 17329.603754,
     "end_time": "2025-10-17T17:05:51.874754",
     "exception": false,
     "start_time": "2025-10-17T12:17:02.271000",
     "status": "completed"
    },
    "tags": []
   },
   "outputs": [
    {
     "name": "stderr",
     "output_type": "stream",
     "text": [
      "Passing a tuple of `past_key_values` is deprecated and will be removed in Transformers v4.48.0. You should pass an instance of `EncoderDecoderCache` instead, e.g. `past_key_values=EncoderDecoderCache.from_legacy_cache(past_key_values)`.\n",
      "/usr/local/lib/python3.11/dist-packages/torch/nn/parallel/_functions.py:70: UserWarning: Was asked to gather along dimension 0, but all input tensors were scalars; will instead unsqueeze and return a vector.\n",
      "  warnings.warn(\n"
     ]
    },
    {
     "data": {
      "text/html": [
       "\n",
       "    <div>\n",
       "      \n",
       "      <progress value='13155' max='13155' style='width:300px; height:20px; vertical-align: middle;'></progress>\n",
       "      [13155/13155 4:48:45, Epoch 15/15]\n",
       "    </div>\n",
       "    <table border=\"1\" class=\"dataframe\">\n",
       "  <thead>\n",
       " <tr style=\"text-align: left;\">\n",
       "      <th>Epoch</th>\n",
       "      <th>Training Loss</th>\n",
       "      <th>Validation Loss</th>\n",
       "    </tr>\n",
       "  </thead>\n",
       "  <tbody>\n",
       "    <tr>\n",
       "      <td>1</td>\n",
       "      <td>8.582800</td>\n",
       "      <td>0.179942</td>\n",
       "    </tr>\n",
       "    <tr>\n",
       "      <td>2</td>\n",
       "      <td>0.068000</td>\n",
       "      <td>0.048352</td>\n",
       "    </tr>\n",
       "    <tr>\n",
       "      <td>3</td>\n",
       "      <td>0.057000</td>\n",
       "      <td>0.046455</td>\n",
       "    </tr>\n",
       "    <tr>\n",
       "      <td>4</td>\n",
       "      <td>0.051300</td>\n",
       "      <td>0.043719</td>\n",
       "    </tr>\n",
       "    <tr>\n",
       "      <td>5</td>\n",
       "      <td>0.050200</td>\n",
       "      <td>0.041622</td>\n",
       "    </tr>\n",
       "    <tr>\n",
       "      <td>6</td>\n",
       "      <td>0.050300</td>\n",
       "      <td>0.040404</td>\n",
       "    </tr>\n",
       "    <tr>\n",
       "      <td>7</td>\n",
       "      <td>0.046200</td>\n",
       "      <td>0.039810</td>\n",
       "    </tr>\n",
       "    <tr>\n",
       "      <td>8</td>\n",
       "      <td>0.044800</td>\n",
       "      <td>0.039646</td>\n",
       "    </tr>\n",
       "    <tr>\n",
       "      <td>9</td>\n",
       "      <td>0.044100</td>\n",
       "      <td>0.038896</td>\n",
       "    </tr>\n",
       "    <tr>\n",
       "      <td>10</td>\n",
       "      <td>0.043100</td>\n",
       "      <td>0.038645</td>\n",
       "    </tr>\n",
       "    <tr>\n",
       "      <td>11</td>\n",
       "      <td>0.042900</td>\n",
       "      <td>0.038715</td>\n",
       "    </tr>\n",
       "    <tr>\n",
       "      <td>12</td>\n",
       "      <td>0.042700</td>\n",
       "      <td>0.038295</td>\n",
       "    </tr>\n",
       "    <tr>\n",
       "      <td>13</td>\n",
       "      <td>0.041700</td>\n",
       "      <td>0.038359</td>\n",
       "    </tr>\n",
       "    <tr>\n",
       "      <td>14</td>\n",
       "      <td>0.041500</td>\n",
       "      <td>0.038185</td>\n",
       "    </tr>\n",
       "    <tr>\n",
       "      <td>15</td>\n",
       "      <td>0.041400</td>\n",
       "      <td>0.038002</td>\n",
       "    </tr>\n",
       "  </tbody>\n",
       "</table><p>"
      ],
      "text/plain": [
       "<IPython.core.display.HTML object>"
      ]
     },
     "metadata": {},
     "output_type": "display_data"
    },
    {
     "name": "stderr",
     "output_type": "stream",
     "text": [
      "/usr/local/lib/python3.11/dist-packages/torch/nn/parallel/_functions.py:70: UserWarning: Was asked to gather along dimension 0, but all input tensors were scalars; will instead unsqueeze and return a vector.\n",
      "  warnings.warn(\n",
      "/usr/local/lib/python3.11/dist-packages/torch/nn/parallel/_functions.py:70: UserWarning: Was asked to gather along dimension 0, but all input tensors were scalars; will instead unsqueeze and return a vector.\n",
      "  warnings.warn(\n",
      "/usr/local/lib/python3.11/dist-packages/torch/nn/parallel/_functions.py:70: UserWarning: Was asked to gather along dimension 0, but all input tensors were scalars; will instead unsqueeze and return a vector.\n",
      "  warnings.warn(\n",
      "/usr/local/lib/python3.11/dist-packages/torch/nn/parallel/_functions.py:70: UserWarning: Was asked to gather along dimension 0, but all input tensors were scalars; will instead unsqueeze and return a vector.\n",
      "  warnings.warn(\n",
      "/usr/local/lib/python3.11/dist-packages/torch/nn/parallel/_functions.py:70: UserWarning: Was asked to gather along dimension 0, but all input tensors were scalars; will instead unsqueeze and return a vector.\n",
      "  warnings.warn(\n",
      "/usr/local/lib/python3.11/dist-packages/torch/nn/parallel/_functions.py:70: UserWarning: Was asked to gather along dimension 0, but all input tensors were scalars; will instead unsqueeze and return a vector.\n",
      "  warnings.warn(\n",
      "/usr/local/lib/python3.11/dist-packages/torch/nn/parallel/_functions.py:70: UserWarning: Was asked to gather along dimension 0, but all input tensors were scalars; will instead unsqueeze and return a vector.\n",
      "  warnings.warn(\n",
      "/usr/local/lib/python3.11/dist-packages/torch/nn/parallel/_functions.py:70: UserWarning: Was asked to gather along dimension 0, but all input tensors were scalars; will instead unsqueeze and return a vector.\n",
      "  warnings.warn(\n",
      "/usr/local/lib/python3.11/dist-packages/torch/nn/parallel/_functions.py:70: UserWarning: Was asked to gather along dimension 0, but all input tensors were scalars; will instead unsqueeze and return a vector.\n",
      "  warnings.warn(\n",
      "/usr/local/lib/python3.11/dist-packages/torch/nn/parallel/_functions.py:70: UserWarning: Was asked to gather along dimension 0, but all input tensors were scalars; will instead unsqueeze and return a vector.\n",
      "  warnings.warn(\n",
      "/usr/local/lib/python3.11/dist-packages/torch/nn/parallel/_functions.py:70: UserWarning: Was asked to gather along dimension 0, but all input tensors were scalars; will instead unsqueeze and return a vector.\n",
      "  warnings.warn(\n",
      "/usr/local/lib/python3.11/dist-packages/torch/nn/parallel/_functions.py:70: UserWarning: Was asked to gather along dimension 0, but all input tensors were scalars; will instead unsqueeze and return a vector.\n",
      "  warnings.warn(\n",
      "/usr/local/lib/python3.11/dist-packages/torch/nn/parallel/_functions.py:70: UserWarning: Was asked to gather along dimension 0, but all input tensors were scalars; will instead unsqueeze and return a vector.\n",
      "  warnings.warn(\n",
      "/usr/local/lib/python3.11/dist-packages/torch/nn/parallel/_functions.py:70: UserWarning: Was asked to gather along dimension 0, but all input tensors were scalars; will instead unsqueeze and return a vector.\n",
      "  warnings.warn(\n"
     ]
    },
    {
     "data": {
      "text/plain": [
       "TrainOutput(global_step=13155, training_loss=0.37757559112612626, metrics={'train_runtime': 17328.2632, 'train_samples_per_second': 12.138, 'train_steps_per_second': 0.759, 'total_flos': 1.272410020380672e+17, 'train_loss': 0.37757559112612626, 'epoch': 15.0})"
      ]
     },
     "execution_count": 18,
     "metadata": {},
     "output_type": "execute_result"
    }
   ],
   "source": [
    "trainer.train()"
   ]
  },
  {
   "cell_type": "code",
   "execution_count": 19,
   "id": "cf10ea73",
   "metadata": {
    "collapsed": true,
    "execution": {
     "iopub.execute_input": "2025-10-17T17:05:51.938838Z",
     "iopub.status.busy": "2025-10-17T17:05:51.938120Z",
     "iopub.status.idle": "2025-10-17T17:05:52.232772Z",
     "shell.execute_reply": "2025-10-17T17:05:52.232059Z"
    },
    "executionInfo": {
     "elapsed": 477,
     "status": "ok",
     "timestamp": 1760603261168,
     "user": {
      "displayName": "Yi Wang",
      "userId": "16774077774184782214"
     },
     "user_tz": -120
    },
    "id": "587w7-A66-Ep",
    "jupyter": {
     "outputs_hidden": true
    },
    "outputId": "7213ea42-d4c8-4197-fec5-e9c75ff49506",
    "papermill": {
     "duration": 0.327053,
     "end_time": "2025-10-17T17:05:52.233879",
     "exception": false,
     "start_time": "2025-10-17T17:05:51.906826",
     "status": "completed"
    },
    "tags": []
   },
   "outputs": [
    {
     "data": {
      "text/plain": [
       "('path_to_trained_model/tokenizer_config.json',\n",
       " 'path_to_trained_model/special_tokens_map.json',\n",
       " 'path_to_trained_model/spiece.model',\n",
       " 'path_to_trained_model/added_tokens.json',\n",
       " 'path_to_trained_model/tokenizer.json')"
      ]
     },
     "execution_count": 19,
     "metadata": {},
     "output_type": "execute_result"
    }
   ],
   "source": [
    "peft_model_id=\"path_to_trained_model\"\n",
    "trainer.model.save_pretrained(peft_model_id)\n",
    "tokenizer.save_pretrained(peft_model_id)"
   ]
  },
  {
   "cell_type": "code",
   "execution_count": 20,
   "id": "0443a0f9",
   "metadata": {
    "collapsed": true,
    "execution": {
     "iopub.execute_input": "2025-10-17T17:05:52.298406Z",
     "iopub.status.busy": "2025-10-17T17:05:52.298152Z",
     "iopub.status.idle": "2025-10-17T17:06:07.305799Z",
     "shell.execute_reply": "2025-10-17T17:06:07.305097Z"
    },
    "executionInfo": {
     "elapsed": 11771,
     "status": "ok",
     "timestamp": 1760603272944,
     "user": {
      "displayName": "Yi Wang",
      "userId": "16774077774184782214"
     },
     "user_tz": -120
    },
    "id": "Eto8LBi77NiQ",
    "jupyter": {
     "outputs_hidden": true
    },
    "outputId": "417bfefd-a4b5-4ca2-80a1-840195ddbd88",
    "papermill": {
     "duration": 15.040877,
     "end_time": "2025-10-17T17:06:07.306937",
     "exception": false,
     "start_time": "2025-10-17T17:05:52.266060",
     "status": "completed"
    },
    "tags": []
   },
   "outputs": [
    {
     "data": {
      "application/vnd.jupyter.widget-view+json": {
       "model_id": "c73cda9d590f4d8e959b4783b09e95c2",
       "version_major": 2,
       "version_minor": 0
      },
      "text/plain": [
       "model.safetensors:   0%|          | 0.00/2.33G [00:00<?, ?B/s]"
      ]
     },
     "metadata": {},
     "output_type": "display_data"
    },
    {
     "name": "stderr",
     "output_type": "stream",
     "text": [
      "/usr/local/lib/python3.11/dist-packages/transformers/convert_slow_tokenizer.py:564: UserWarning: The sentencepiece tokenizer that you are converting to a fast tokenizer uses the byte fallback option which is not implemented in the fast tokenizers. In practice this means that the fast version of the tokenizer can produce unknown tokens whereas the sentencepiece version would have converted these unknown tokens into a sequence of byte tokens matching the original piece of text.\n",
      "  warnings.warn(\n"
     ]
    },
    {
     "name": "stdout",
     "output_type": "stream",
     "text": [
      "Peft model loaded\n"
     ]
    }
   ],
   "source": [
    "import torch\n",
    "from peft import PeftModel, PeftConfig\n",
    "from transformers import AutoModelForSeq2SeqLM, AutoTokenizer\n",
    "\n",
    "peft_model_id = \"path_to_trained_model\"\n",
    "config = PeftConfig.from_pretrained(peft_model_id)\n",
    "\n",
    "# load base LLM model and tokenizer\n",
    "model = AutoModelForSeq2SeqLM.from_pretrained(config.base_model_name_or_path, device_map={\"\":0})\n",
    "tokenizer = AutoTokenizer.from_pretrained(config.base_model_name_or_path)\n",
    "\n",
    "# Load the Lora model\n",
    "model = PeftModel.from_pretrained(model, peft_model_id, device_map={\"\":0})\n",
    "model.eval()\n",
    "\n",
    "print(\"Peft model loaded\")"
   ]
  },
  {
   "cell_type": "code",
   "execution_count": 21,
   "id": "fe6aaeef",
   "metadata": {
    "collapsed": true,
    "execution": {
     "iopub.execute_input": "2025-10-17T17:06:07.382311Z",
     "iopub.status.busy": "2025-10-17T17:06:07.381790Z",
     "iopub.status.idle": "2025-10-17T17:06:07.918091Z",
     "shell.execute_reply": "2025-10-17T17:06:07.917364Z"
    },
    "executionInfo": {
     "elapsed": 711,
     "status": "ok",
     "timestamp": 1760603273659,
     "user": {
      "displayName": "Yi Wang",
      "userId": "16774077774184782214"
     },
     "user_tz": -120
    },
    "id": "UCny0m4i7rP2",
    "jupyter": {
     "outputs_hidden": true
    },
    "outputId": "a0d7c941-a862-403f-a4a8-d07601b4398e",
    "papermill": {
     "duration": 0.579229,
     "end_time": "2025-10-17T17:06:07.919373",
     "exception": false,
     "start_time": "2025-10-17T17:06:07.340144",
     "status": "completed"
    },
    "tags": []
   },
   "outputs": [
    {
     "name": "stdout",
     "output_type": "stream",
     "text": [
      "input sentence: Help yourself .\n",
      "------------------------------------------------------------\n",
      "summary:\n",
      "anger\n"
     ]
    }
   ],
   "source": [
    "# use the first sample of the test set\n",
    "import torch\n",
    "\n",
    "sample = tokenized_test[20]\n",
    "\n",
    "input_ids = torch.tensor(sample[\"input_ids\"]).unsqueeze(0).to(model.device)\n",
    "\n",
    "\n",
    "# with torch.inference_mode():\n",
    "outputs = model.generate(input_ids=input_ids, max_new_tokens=10, do_sample=True, top_p=0.9)\n",
    "print(f\"input sentence: {sample['input']}\\n{'---'* 20}\")\n",
    "\n",
    "print(f\"summary:\\n{tokenizer.batch_decode(outputs.detach().cpu().numpy(), skip_special_tokens=True)[0]}\")"
   ]
  },
  {
   "cell_type": "code",
   "execution_count": 22,
   "id": "a744a255",
   "metadata": {
    "collapsed": true,
    "execution": {
     "iopub.execute_input": "2025-10-17T17:06:07.986945Z",
     "iopub.status.busy": "2025-10-17T17:06:07.986399Z",
     "iopub.status.idle": "2025-10-17T17:09:22.380145Z",
     "shell.execute_reply": "2025-10-17T17:09:22.379500Z"
    },
    "executionInfo": {
     "elapsed": 154202,
     "status": "ok",
     "timestamp": 1760603427864,
     "user": {
      "displayName": "Yi Wang",
      "userId": "16774077774184782214"
     },
     "user_tz": -120
    },
    "id": "wpBT_m3rsrGC",
    "jupyter": {
     "outputs_hidden": true
    },
    "papermill": {
     "duration": 194.428276,
     "end_time": "2025-10-17T17:09:22.381681",
     "exception": false,
     "start_time": "2025-10-17T17:06:07.953405",
     "status": "completed"
    },
    "tags": []
   },
   "outputs": [],
   "source": [
    "true_labels = [sample['output'] for sample in tokenized_test]\n",
    "predict_labels = []\n",
    "\n",
    "for sample in tokenized_test:\n",
    "  input_ids = torch.tensor(sample['input_ids']).unsqueeze(0).to(model.device)\n",
    "  with torch.inference_mode():\n",
    "    outputs = model.generate(input_ids=input_ids, max_new_tokens=10, do_sample=True, top_p=0.9)\n",
    "    predict_text = tokenizer.batch_decode(outputs.detach().cpu().numpy(), skip_special_tokens=True)[0]\n",
    "    predict_labels.append(predict_text.split(\", \"))\n",
    "\n"
   ]
  },
  {
   "cell_type": "code",
   "execution_count": 23,
   "id": "8d6165ec",
   "metadata": {
    "collapsed": true,
    "execution": {
     "iopub.execute_input": "2025-10-17T17:09:22.446255Z",
     "iopub.status.busy": "2025-10-17T17:09:22.445989Z",
     "iopub.status.idle": "2025-10-17T17:09:22.450836Z",
     "shell.execute_reply": "2025-10-17T17:09:22.450157Z"
    },
    "executionInfo": {
     "elapsed": 13,
     "status": "ok",
     "timestamp": 1760603427886,
     "user": {
      "displayName": "Yi Wang",
      "userId": "16774077774184782214"
     },
     "user_tz": -120
    },
    "id": "ctRYESlnwRzk",
    "jupyter": {
     "outputs_hidden": true
    },
    "outputId": "a70047bb-965c-4a32-9da4-37cd5877405d",
    "papermill": {
     "duration": 0.037839,
     "end_time": "2025-10-17T17:09:22.452012",
     "exception": false,
     "start_time": "2025-10-17T17:09:22.414173",
     "status": "completed"
    },
    "tags": []
   },
   "outputs": [
    {
     "name": "stdout",
     "output_type": "stream",
     "text": [
      "[['anticipation', 'fear'], ['anger'], ['anger'], ['surprise'], ['surprise'], ['anger'], ['fear'], ['anticipation'], ['anger'], ['anger'], ['anger', 'anticipation'], ['joy'], ['anger'], ['anger'], ['fear'], ['sadness'], ['anger', 'disgust'], ['fear'], ['anger'], ['disgust'], ['trust'], ['anger'], ['surprise'], ['anger'], ['fear'], ['surprise'], ['sadness'], ['anticipation'], ['anger'], ['surprise'], ['trust'], ['joy'], ['anticipation'], ['joy'], ['anger'], ['sadness'], ['trust'], ['fear'], ['surprise'], ['anticipation'], ['anger', 'disgust'], ['anger'], ['anger', 'anticipation'], ['trust'], ['anticipation'], ['disgust'], ['fear'], ['trust', 'joy', 'surprise'], ['disgust'], ['trust'], ['trust'], ['joy'], ['sadness'], ['joy'], ['sadness', 'surprise'], ['surprise'], ['joy'], ['anticipation', 'joy'], ['trust', 'anticipation'], ['joy'], ['anger'], ['anger'], ['anticipation'], ['sadness'], ['joy'], ['joy'], ['anticipation', 'joy', 'surprise'], ['anticipation', 'surprise'], ['anticipation'], ['trust'], ['joy'], ['fear'], ['disgust'], ['anticipation'], ['anticipation'], ['anger'], ['trust'], ['surprise'], ['anger'], ['sadness'], ['trust', 'anticipation'], ['joy'], ['anticipation'], ['sadness'], ['disgust'], ['anger'], ['surprise'], ['sadness'], ['joy'], ['anticipation'], ['fear'], ['anticipation'], ['anger'], ['fear'], ['sadness'], ['anticipation'], ['disgust'], ['anger'], ['disgust'], ['trust'], ['trust'], ['surprise'], ['sadness'], ['anger', 'fear', 'sadness'], ['trust'], ['trust'], ['fear'], ['disgust'], ['fear'], ['surprise'], ['disgust'], ['surprise'], ['fear', 'sadness', 'surprise'], ['anger'], ['joy'], ['fear'], ['surprise'], ['anger'], ['surprise'], ['anticipation'], ['joy'], ['anger', 'disgust', 'fear'], ['anticipation'], ['trust'], ['anger', 'fear'], ['anger'], ['trust', 'joy'], ['trust'], ['trust'], ['sadness'], ['anticipation'], ['anticipation'], ['fear'], ['disgust'], ['anticipation'], ['joy'], ['anger'], ['trust'], ['anger', 'anticipation', 'fear'], ['trust', 'joy'], ['anticipation'], ['sadness'], ['fear', 'surprise'], ['joy'], ['trust'], ['anger'], ['anger'], ['fear'], ['anger'], ['anger'], ['anticipation', 'surprise'], ['anticipation'], ['trust'], ['joy'], ['joy'], ['anticipation', 'fear'], ['joy'], ['disgust'], ['fear'], ['trust'], ['sadness'], ['anger'], ['fear'], ['fear'], ['sadness'], ['surprise'], ['anticipation', 'surprise'], ['sadness'], ['sadness'], ['disgust'], ['anger'], ['anger'], ['anger'], ['sadness', 'surprise'], ['trust'], ['sadness'], ['sadness'], ['anticipation', 'joy'], ['anticipation'], ['anger', 'disgust'], ['anger'], ['trust'], ['anticipation'], ['anticipation'], ['trust', 'joy'], ['anticipation', 'joy'], ['sadness'], ['joy'], ['sadness'], ['joy'], ['anticipation'], ['anger'], ['anticipation'], ['trust', 'joy'], ['anger'], ['anger'], ['fear'], ['disgust'], ['anticipation', 'joy'], ['disgust', 'sadness'], ['surprise'], ['trust'], ['joy'], ['joy'], ['disgust'], ['sadness'], ['surprise'], ['sadness'], ['anger', 'disgust'], ['anticipation'], ['sadness'], ['trust', 'anger'], ['anger'], ['joy'], ['anger'], ['fear', 'surprise'], ['surprise'], ['joy'], ['joy'], ['trust'], ['joy'], ['joy'], ['sadness'], ['trust'], ['trust', 'anger'], ['sadness'], ['fear'], ['fear'], ['anger'], ['anger', 'anticipation', 'disgust'], ['joy'], ['fear'], ['anticipation'], ['anticipation'], ['fear'], ['anger'], ['trust'], ['sadness'], ['fear'], ['joy'], ['anticipation'], ['anticipation'], ['fear'], ['trust'], ['joy'], ['trust'], ['sadness'], ['joy'], ['anticipation'], ['anger'], ['disgust'], ['fear'], ['anger'], ['anticipation'], ['anticipation', 'fear'], ['trust'], ['anger'], ['disgust'], ['anger'], ['trust'], ['trust'], ['joy'], ['sadness'], ['joy'], ['anger', 'sadness'], ['anger'], ['trust', 'anticipation', 'joy'], ['trust'], ['joy'], ['anger'], ['sadness'], ['anger'], ['surprise'], ['anger', 'sadness'], ['anger'], ['disgust'], ['anger', 'anticipation'], ['disgust'], ['disgust'], ['disgust'], ['trust'], ['anger', 'disgust'], ['anger'], ['joy'], ['joy'], ['joy'], ['disgust'], ['anger'], ['sadness'], ['anticipation'], ['anticipation', 'joy'], ['sadness'], ['joy'], ['anticipation'], ['sadness'], ['trust'], ['surprise'], ['sadness'], ['anger'], ['surprise'], ['anger'], ['disgust'], ['disgust'], ['anger'], ['joy'], ['sadness'], ['fear'], ['disgust'], ['fear'], ['sadness'], ['sadness'], ['sadness'], ['fear'], ['fear'], ['anticipation', 'fear'], ['anticipation'], ['surprise'], ['fear'], ['disgust'], ['sadness'], ['trust'], ['anger', 'anticipation'], ['disgust'], ['fear'], ['sadness'], ['sadness'], ['anticipation'], ['anger'], ['fear'], ['anticipation', 'fear', 'surprise'], ['fear'], ['anticipation'], ['joy'], ['trust'], ['trust', 'anticipation', 'joy'], ['anger'], ['anger', 'anticipation', 'fear', 'surprise'], ['anger'], ['disgust', 'fear'], ['joy'], ['disgust'], ['sadness'], ['anger', 'sadness'], ['surprise'], ['anticipation'], ['trust', 'anticipation'], ['joy'], ['anticipation'], ['anger', 'fear'], ['trust'], ['joy'], ['anticipation', 'fear', 'sadness'], ['anger'], ['anticipation'], ['fear'], ['trust', 'joy'], ['disgust'], ['surprise'], ['joy'], ['anger'], ['sadness'], ['disgust'], ['sadness'], ['anticipation'], ['trust', 'joy'], ['joy'], ['disgust'], ['surprise'], ['trust'], ['anger'], ['surprise'], ['fear'], ['surprise'], ['fear'], ['fear'], ['trust'], ['trust'], ['trust'], ['anger'], ['trust'], ['sadness'], ['trust'], ['disgust', 'fear', 'surprise'], ['anger', 'disgust', 'fear', 'surprise'], ['sadness'], ['fear'], ['anticipation', 'joy'], ['trust'], ['anger'], ['trust'], ['fear'], ['anger', 'disgust'], ['surprise'], ['anticipation', 'fear'], ['anticipation'], ['anger', 'disgust'], ['joy'], ['surprise'], ['fear'], ['surprise'], ['anger', 'disgust', 'fear'], ['trust'], ['fear'], ['anger', 'disgust', 'sadness'], ['anticipation'], ['anger'], ['trust', 'disgust'], ['anticipation', 'surprise'], ['anger'], ['anticipation'], ['fear'], ['anger'], ['anger'], ['trust'], ['anger'], ['anger', 'fear'], ['trust'], ['trust', 'joy'], ['surprise'], ['surprise'], ['joy'], ['anticipation'], ['anger'], ['fear'], ['fear'], ['trust'], ['trust', 'anticipation'], ['disgust'], ['anger'], ['anger'], ['sadness'], ['anticipation', 'fear'], ['anger', 'disgust'], ['anger'], ['anticipation'], ['anger', 'fear', 'surprise'], ['fear'], ['surprise'], ['anticipation'], ['joy'], ['trust', 'joy'], ['anticipation'], ['joy'], ['anger'], ['fear', 'sadness', 'surprise'], ['trust'], ['fear'], ['trust'], ['disgust'], ['anger'], ['fear'], ['anticipation'], ['trust', 'joy'], ['anticipation'], ['anger'], ['disgust'], ['disgust'], ['trust'], ['trust', 'joy'], ['joy'], ['fear'], ['disgust'], ['sadness'], ['disgust'], ['anger', 'disgust', 'fear', 's'], ['surprise'], ['sadness'], ['sadness'], ['anger'], ['anger'], ['fear'], ['anticipation', 'joy'], ['anticipation', 'surprise'], ['fear'], ['joy'], ['sadness'], ['anger'], ['anger'], ['anticipation', 'joy'], ['anger'], ['trust'], ['joy'], ['fear'], ['anger'], ['fear', 'sadness', 'surprise'], ['sadness'], ['trust'], ['sadness'], ['sadness'], ['anticipation'], ['anger'], ['anticipation'], ['anticipation', 'joy'], ['anger'], ['sadness'], ['anticipation'], ['anger'], ['anger'], ['disgust'], ['sadness'], ['trust'], ['trust', 'joy'], ['fear', 'sadness'], ['trust'], ['joy'], ['anger', 'sadness'], ['trust', 'anticipation'], ['anger', 'disgust', 'fear', 's'], ['anger', 'anticipation'], ['joy'], ['anger'], ['fear'], ['anger', 'sadness'], ['disgust'], ['anger'], ['anticipation'], ['fear'], ['anger'], ['fear'], ['anger'], ['anger', 'disgust'], ['anger'], ['trust'], ['joy'], ['joy'], ['anticipation'], ['trust'], ['anger'], ['anger'], ['anger'], ['anger'], ['anger'], ['anger'], ['fear', 'sadness', 'surprise'], ['trust', 'joy'], ['trust'], ['sadness'], ['trust'], ['disgust'], ['trust', 'sadness'], ['anger'], ['anticipation'], ['sadness'], ['anticipation', 'joy'], ['trust'], ['anger'], ['joy'], ['joy'], ['trust', 'fear'], ['disgust'], ['sadness'], ['anger'], ['disgust'], ['fear'], ['anticipation', 'joy'], ['joy'], ['joy'], ['sadness'], ['anger', 'anticipation'], ['surprise'], ['anticipation'], ['disgust'], ['anger', 'disgust'], ['fear'], ['fear'], ['trust', 'joy'], ['joy'], ['anger'], ['disgust'], ['surprise'], ['anticipation', 'joy'], ['trust', 'anticipation'], ['anger', 'disgust', 'fear', 's'], ['anger'], ['trust', 'joy'], ['fear'], ['fear'], ['joy'], ['fear'], ['disgust'], ['surprise'], ['disgust'], ['surprise'], ['fear'], ['anger'], ['anger', 'disgust'], ['joy'], ['surprise'], ['fear'], ['fear'], ['surprise'], ['surprise'], ['anger'], ['disgust'], ['anticipation'], ['anger'], ['anticipation'], ['anger'], ['fear', 'sadness'], ['sadness'], ['anger'], ['joy'], ['anger'], ['surprise'], ['trust', 'fear', 'joy'], ['anger'], ['anger', 'anticipation'], ['anger'], ['anger'], ['fear'], ['joy'], ['trust'], ['fear'], ['disgust'], ['disgust', 'sadness', 'surprise'], ['sadness'], ['joy'], ['joy'], ['surprise'], ['anger'], ['trust'], ['anticipation'], ['surprise'], ['disgust'], ['trust', 'anger'], ['joy'], ['trust'], ['fear'], ['trust'], ['anticipation'], ['fear'], ['trust'], ['anticipation'], ['disgust', 'sadness'], ['joy'], ['fear'], ['joy'], ['trust'], ['anticipation'], ['fear'], ['disgust', 'sadness'], ['fear', 'sadness'], ['anger', 'anticipation', 'disgust'], ['anger'], ['disgust'], ['anger'], ['anticipation'], ['anticipation'], ['anger', 'fear'], ['anticipation', 'joy'], ['trust'], ['anticipation'], ['anticipation'], ['disgust'], ['anticipation'], ['anger'], ['surprise'], ['trust', 'joy'], ['joy'], ['anger', 'disgust', 'fear'], ['anticipation', 'joy'], ['joy'], ['surprise'], ['anger', 'disgust'], ['anger'], ['surprise'], ['anticipation'], ['trust', 'anger', 'joy'], ['anticipation'], ['anger'], ['trust'], ['joy'], ['anticipation', 'joy'], ['trust', 'joy'], ['anger', 'fear', 'sadness'], ['anticipation'], ['anticipation'], ['sadness'], ['anger', 'surprise'], ['anger', 'disgust', 'disgust'], ['anticipation'], ['sadness'], ['anticipation'], ['trust', 'sadness'], ['anticipation'], ['anticipation'], ['anger', 'disgust'], ['trust'], ['anticipation'], ['sadness'], ['anticipation'], ['sadness'], ['anger', 'sadness'], ['trust', 'joy'], ['trust', 'joy'], ['joy'], ['trust', 'anticipation'], ['anger', 'fear'], ['anger'], ['fear'], ['anger', 'disgust', 'fear'], ['anger', 'disgust'], ['trust', 'joy'], ['sadness'], ['anger', 'anticipation'], ['fear'], ['joy'], ['joy'], ['surprise'], ['disgust'], ['surprise'], ['disgust'], ['joy'], ['anticipation'], ['disgust'], ['joy'], ['sadness'], ['trust', 'anticipation', 'joy'], ['sadness'], ['fear'], ['sadness'], ['anger', 'anticipation'], ['joy'], ['anticipation'], ['anticipation'], ['fear'], ['sadness'], ['disgust'], ['trust'], ['anticipation'], ['anger'], ['anticipation'], ['trust'], ['anticipation'], ['anger'], ['trust'], ['trust'], ['anger'], ['anger', 'anticipation', 'surprise'], ['anger', 'disgust'], ['surprise'], ['disgust'], ['joy'], ['trust', 'joy'], ['anticipation'], ['anger'], ['disgust'], ['trust'], ['anticipation', 'fear', 'surprise'], ['sadness'], ['anticipation'], ['anger'], ['anticipation'], ['disgust'], ['anger', 'anticipation'], ['anticipation', 'joy'], ['disgust'], ['anger', 'disgust'], ['anger', 'fear', 'sadness'], ['joy'], ['trust'], ['joy'], ['trust', 'anger', 'fear'], ['disgust'], ['anticipation'], ['joy'], ['anger'], ['anticipation'], ['anger'], ['anticipation'], ['joy'], ['trust', 'anticipation'], ['joy'], ['trust'], ['trust', 'surprise'], ['trust', 'joy'], ['trust', 'fear'], ['sadness'], ['joy'], ['anticipation'], ['anticipation'], ['surprise'], ['trust'], ['anticipation'], ['sadness'], ['anger'], ['anger', 'fear'], ['surprise'], ['anger'], ['anticipation'], ['surprise'], ['anticipation'], ['surprise'], ['sadness'], ['fear'], ['fear'], ['trust'], ['sadness'], ['joy'], ['anticipation'], ['fear'], ['fear', 'sadness', 'surprise'], ['trust'], ['sadness'], ['joy'], ['anticipation'], ['disgust'], ['anger', 'disgust'], ['anger', 'disgust'], ['anger', 'anticipation'], ['surprise'], ['anger'], ['trust'], ['anticipation'], ['anticipation'], ['trust'], ['anger'], ['trust'], ['surprise'], ['trust', 'joy'], ['anticipation', 'fear', 'surprise'], ['anger', 'sadness'], ['trust', 'joy'], ['joy'], ['anger'], ['joy'], ['disgust', 'sadness'], ['surprise'], ['anger', 'disgust'], ['anger', 'surprise'], ['disgust'], ['anger', 'disgust'], ['trust', 'anticipation', 'fear'], ['disgust'], ['anticipation'], ['trust', 'anger'], ['surprise'], ['surprise'], ['anger', 'disgust'], ['fear'], ['sadness'], ['anger', 'disgust', 'sadness'], ['anger'], ['joy'], ['trust'], ['fear'], ['anticipation'], ['fear'], ['fear'], ['anger', 'surprise'], ['surprise'], ['anger'], ['disgust'], ['anger'], ['surprise'], ['anger'], ['sadness'], ['trust', 'joy'], ['anger'], ['trust'], ['disgust', 'sadness'], ['joy'], ['anger', 'anticipation'], ['fear'], ['anger', 'disgust'], ['anticipation'], ['surprise'], ['joy'], ['anger', 'anticipation', 'joy'], ['trust'], ['anger', 'disgust', 'surprise'], ['anger'], ['disgust'], ['trust'], ['disgust'], ['fear'], ['anticipation', 'joy'], ['joy'], ['trust', 'anticipation', 'joy'], ['trust'], ['trust', 'joy'], ['anticipation', 'fear'], ['trust', 'joy'], ['anger'], ['anger'], ['joy'], ['sadness'], ['anticipation'], ['joy'], ['fear'], ['disgust'], ['trust'], ['joy'], ['anticipation'], ['anger'], ['fear'], ['sadness'], ['fear'], ['anticipation'], ['fear'], ['disgust'], ['joy'], ['anticipation', 'fear'], ['disgust'], ['joy'], ['fear'], ['sadness'], ['anger', 'anticipation'], ['disgust'], ['trust', 'anticipation'], ['surprise'], ['anticipation', 'joy'], ['anger'], ['surprise'], ['fear'], ['fear'], ['trust'], ['anger', 'disgust'], ['disgust', 'sadness'], ['fear'], ['fear', 'sadness'], ['sadness'], ['fear'], ['fear'], ['trust', 'anticipation', 'fear'], ['disgust'], ['joy'], ['surprise'], ['anger'], ['trust'], ['disgust'], ['sadness'], ['sadness'], ['anger'], ['fear', 'sadness'], ['anger', 'anticipation'], ['anticipation'], ['sadness'], ['anger'], ['sadness'], ['fear'], ['anger'], ['sadness'], ['anticipation'], ['fear', 'surprise'], ['sadness'], ['sadness'], ['disgust'], ['joy'], ['anger'], ['sadness'], ['surprise'], ['joy'], ['anger', 'disgust'], ['anger', 'disgust'], ['trust'], ['anger', 'anticipation', 'surprise'], ['anticipation'], ['trust'], ['trust', 'anger'], ['anger', 'disgust'], ['surprise'], ['sadness'], ['anger'], ['anger'], ['fear'], ['fear'], ['joy'], ['anticipation', 'fear', 'sadness'], ['surprise'], ['anger'], ['anticipation'], ['joy'], ['sadness'], ['fear'], ['anticipation'], ['disgust'], ['surprise'], ['anger'], ['trust', 'surprise'], ['anger', 'sadness'], ['anger', 'disgust'], ['anger'], ['disgust'], ['trust'], ['anticipation'], ['anger', 'disgust'], ['disgust'], ['anticipation'], ['joy'], ['anticipation'], ['anger'], ['disgust'], ['sadness'], ['trust', 'joy'], ['trust'], ['sadness'], ['fear'], ['trust', 'joy'], ['anger', 'disgust'], ['joy'], ['anger', 'surprise'], ['anticipation'], ['trust'], ['trust'], ['trust', 'anger', 'sadness'], ['anticipation'], ['sadness'], ['trust', 'anticipation', 'fear'], ['fear'], ['sadness'], ['anticipation'], ['trust', 'joy'], ['disgust'], ['anticipation'], ['surprise'], ['anticipation'], ['anticipation'], ['disgust'], ['anticipation'], ['sadness'], ['joy'], ['surprise'], ['fear'], ['anticipation', 'joy'], ['trust'], ['anger', 'disgust'], ['anger', 'fear', 'surprise'], ['anger'], ['anticipation'], ['fear', 'sadness', 'surprise'], ['anger'], ['anger', 'disgust'], ['anticipation'], ['fear'], ['anticipation'], ['trust'], ['trust'], ['anticipation'], ['disgust'], ['anticipation'], ['disgust'], ['anticipation', 'joy'], ['disgust'], ['anticipation'], ['fear'], ['anger'], ['trust'], ['disgust'], ['trust'], ['anticipation'], ['anger', 'disgust'], ['sadness'], ['fear'], ['anticipation'], ['anger', 'disgust'], ['joy'], ['anticipation'], ['anticipation'], ['fear'], ['disgust'], ['joy'], ['trust', 'joy'], ['surprise'], ['trust', 'anticipation'], ['anger'], ['disgust'], ['trust'], ['anger'], ['sadness'], ['fear'], ['anger'], ['joy'], ['fear'], ['joy'], ['sadness'], ['anger', 'anticipation'], ['surprise'], ['joy'], ['anger'], ['anger'], ['anger'], ['surprise'], ['sadness'], ['fear'], ['surprise'], ['anticipation'], ['sadness', 'surprise'], ['sadness'], ['disgust'], ['disgust'], ['anger'], ['trust'], ['joy'], ['anticipation', 'fear'], ['anger', 'surprise'], ['trust', 'joy'], ['trust'], ['anticipation'], ['joy'], ['anticipation'], ['joy'], ['anger'], ['trust', 'joy'], ['trust', 'joy'], ['anger'], ['anticipation'], ['anticipation'], ['anticipation'], ['joy'], ['anger'], ['sadness'], ['fear'], ['fear'], ['anger', 'fear', 'surprise'], ['trust'], ['anger', 'sadness'], ['anger'], ['trust', 'anticipation', 'disgust', 'fear'], ['joy'], ['anticipation'], ['fear'], ['sadness'], ['fear'], ['anticipation'], ['joy'], ['anger'], ['joy'], ['trust'], ['sadness'], ['joy'], ['anger'], ['anger'], ['disgust'], ['fear'], ['disgust'], ['anger'], ['trust', 'joy'], ['trust'], ['sadness'], ['anticipation'], ['trust', 'joy'], ['anticipation'], ['anger'], ['trust', 'joy'], ['surprise'], ['fear'], ['anticipation'], ['disgust'], ['sadness'], ['anger', 'fear'], ['anticipation'], ['fear'], ['anger'], ['disgust'], ['anticipation'], ['anger'], ['joy'], ['trust', 'anticipation'], ['anger', 'disgust'], ['trust'], ['anger'], ['anger', 'anticipation', 'joy'], ['surprise'], ['anticipation'], ['fear'], ['disgust'], ['trust', 'joy'], ['fear'], ['sadness'], ['joy'], ['joy'], ['anticipation', 'joy'], ['sadness'], ['anger'], ['anger'], ['fear'], ['fear'], ['disgust'], ['surprise'], ['sadness'], ['trust'], ['anticipation'], ['trust', 'anticipation'], ['joy'], ['anger'], ['trust', 'surprise'], ['anticipation'], ['trust'], ['anticipation'], ['anticipation'], ['anticipation', 'joy', 'surprise'], ['anticipation'], ['sadness'], ['anticipation'], ['anticipation'], ['anger'], ['trust'], ['anticipation'], ['sadness'], ['joy'], ['sadness'], ['joy'], ['anger'], ['trust'], ['trust', 'fear', 'surprise'], ['trust'], ['anticipation'], ['surprise'], ['anger'], ['joy'], ['anger'], ['trust', 'joy'], ['joy'], ['trust', 'anticipation', 'joy'], ['surprise'], ['anger'], ['sadness'], ['joy'], ['anger', 'anticipation', 'disgust'], ['trust', 'anticipation'], ['anticipation', 'surprise'], ['anticipation'], ['disgust', 'fear'], ['joy'], ['trust'], ['trust'], ['fear', 'surprise'], ['fear'], ['anticipation'], ['sadness'], ['fear'], ['anger'], ['anger'], ['disgust'], ['anticipation'], ['sadness'], ['anger'], ['anticipation'], ['anger'], ['anger', 'disgust', 'surprise'], ['anger', 'disgust'], ['anticipation'], ['fear'], ['joy'], ['sadness'], ['surprise'], ['fear', 'surprise'], ['trust'], ['joy'], ['anticipation'], ['trust'], ['fear'], ['fear'], ['anger'], ['anger'], ['surprise'], ['disgust'], ['trust'], ['trust'], ['anticipation'], ['sadness'], ['fear'], ['sadness'], ['anger'], ['anger'], ['fear'], ['anticipation'], ['surprise'], ['fear'], ['disgust'], ['disgust'], ['anger', 'anticipation'], ['trust', 'anticipation'], ['sadness'], ['anticipation'], ['trust'], ['anticipation'], ['surprise'], ['anticipation', 'fear'], ['anger', 'anticipation', 'fear', 'surprise'], ['anger', 'anticipation', 'fear'], ['anger', 'disgust'], ['anger'], ['trust', 'anticipation'], ['trust'], ['anticipation'], ['joy'], ['joy'], ['anticipation'], ['sadness'], ['fear'], ['anticipation'], ['trust'], ['trust'], ['joy'], ['trust'], ['joy'], ['trust', 'joy'], ['fear'], ['anticipation'], ['fear'], ['surprise'], ['anticipation'], ['anger', 'disgust'], ['disgust'], ['disgust'], ['trust'], ['anger'], ['joy'], ['anger'], ['joy'], ['anticipation', 'joy'], ['sadness'], ['fear'], ['trust'], ['joy'], ['trust'], ['joy'], ['surprise'], ['surprise'], ['surprise'], ['surprise'], ['anger'], ['fear'], ['joy'], ['anticipation', 'joy'], ['surprise'], ['surprise'], ['trust', 'joy'], ['trust'], ['anger'], ['trust'], ['anticipation'], ['fear'], ['trust'], ['sadness'], ['disgust', 'sadness'], ['fear'], ['joy'], ['sadness'], ['sadness'], ['fear'], ['fear'], ['anticipation'], ['trust'], ['anger'], ['fear', 'sadness'], ['disgust'], ['joy'], ['joy'], ['trust'], ['trust'], ['anger'], ['disgust'], ['trust'], ['disgust'], ['anger'], ['fear'], ['fear'], ['surprise'], ['fear'], ['joy'], ['fear'], ['sadness'], ['anticipation'], ['disgust'], ['anticipation'], ['fear'], ['surprise'], ['trust'], ['trust'], ['anger'], ['joy'], ['surprise'], ['anticipation'], ['trust'], ['trust', 'joy'], ['joy'], ['sadness'], ['anticipation'], ['fear'], ['fear', 'sadness', 'surprise'], ['surprise'], ['anger', 'anticipation', 'fear'], ['anger', 'disgust'], ['anger'], ['anger'], ['fear'], ['sadness'], ['anger'], ['trust'], ['joy'], ['sadness'], ['disgust'], ['anticipation'], ['trust'], ['anticipation', 'joy'], ['disgust'], ['anger', 'surprise'], ['anger', 'anticipation'], ['disgust'], ['fear'], ['anger'], ['anticipation'], ['surprise'], ['surprise'], ['joy'], ['anticipation', 'fear'], ['surprise'], ['surprise'], ['anticipation'], ['trust'], ['joy'], ['surprise'], ['disgust'], ['anticipation'], ['anger'], ['joy'], ['trust'], ['anger', 'disgust'], ['anticipation', 'surprise'], ['sadness'], ['surprise'], ['joy'], ['trust'], ['anger'], ['anticipation', 'joy'], ['anger'], ['anticipation'], ['anticipation'], ['fear'], ['fear'], ['surprise'], ['sadness'], ['surprise'], ['anger', 'disgust'], ['fear', 'surprise'], ['joy'], ['trust'], ['joy'], ['anger'], ['trust'], ['anger'], ['fear'], ['anger'], ['anger', 'surprise'], ['surprise'], ['anger', 'anticipation', 'fear', 'surprise'], ['fear'], ['trust', 'anticipation'], ['anger'], ['anger'], ['joy'], ['anger'], ['anticipation', 'joy'], ['fear'], ['trust'], ['anticipation'], ['trust'], ['fear'], ['anger'], ['fear'], ['anger'], ['joy'], ['anticipation'], ['disgust'], ['anger', 'anticipation'], ['sadness'], ['sadness'], ['fear'], ['trust'], ['surprise'], ['disgust'], ['anger'], ['trust'], ['trust'], ['trust'], ['fear'], ['anger', 'anticipation'], ['trust'], ['trust'], ['disgust'], ['fear'], ['anticipation'], ['sadness'], ['anticipation', 'joy', 'surprise'], ['anticipation'], ['anger', 'anticipation'], ['anticipation'], ['anticipation'], ['fear'], ['joy'], ['trust'], ['surprise'], ['sadness'], ['anger', 'disgust', 'fear', 's'], ['joy'], ['fear'], ['anger', 'disgust'], ['fear'], ['disgust'], ['joy'], ['anticipation'], ['joy'], ['anger'], ['anticipation'], ['anticipation'], ['disgust'], ['anticipation'], ['anger'], ['joy'], ['anger', 'disgust'], ['anticipation'], ['anger'], ['anticipation'], ['disgust'], ['trust'], ['sadness'], ['anticipation'], ['fear'], ['fear'], ['joy'], ['trust', 'anticipation'], ['surprise'], ['anger', 'fear'], ['sadness'], ['joy'], ['anger'], ['fear'], ['anger'], ['joy'], ['anger', 'disgust'], ['anticipation', 'fear'], ['joy'], ['disgust'], ['anger', 'disgust'], ['surprise'], ['trust', 'joy'], ['anger'], ['disgust', 'surprise'], ['anger', 'disgust'], ['anger'], ['joy'], ['anger', 'fear'], ['sadness'], ['joy'], ['trust'], ['disgust', 'surprise'], ['trust'], ['joy'], ['sadness'], ['joy'], ['anger'], ['trust'], ['anger'], ['disgust'], ['joy'], ['disgust'], ['fear'], ['anger'], ['fear', 'sadness'], ['fear'], ['trust', 'anger'], ['joy'], ['anger'], ['anger', 'anticipation'], ['disgust'], ['disgust'], ['surprise'], ['anticipation'], ['trust', 'anticipation'], ['anger', 'disgust'], ['anger'], ['fear', 'surprise'], ['anger', 'disgust', 'sadness,'], ['anger'], ['anticipation', 'fear'], ['anger'], ['anger', 'disgust'], ['sadness'], ['joy'], ['surprise'], ['disgust'], ['trust'], ['anticipation', 'joy'], ['anticipation'], ['anticipation', 'joy', 'surprise'], ['anger'], ['sadness'], ['trust'], ['anger'], ['anticipation', 'surprise'], ['sadness'], ['disgust'], ['trust'], ['joy'], ['sadness'], ['anticipation'], ['anger'], ['anger', 'disgust'], ['fear'], ['anticipation'], ['sadness'], ['joy'], ['anticipation'], ['anger'], ['surprise'], ['trust'], ['sadness'], ['anticipation', 'surprise'], ['anger'], ['disgust'], ['joy'], ['anger'], ['anticipation'], ['trust'], ['anger', 'disgust'], ['sadness'], ['sadness'], ['fear'], ['sadness'], ['joy'], ['anger', 'anticipation', 'fear'], ['sadness'], ['surprise'], ['anticipation', 'surprise'], ['trust', 'anticipation', 'disgust'], ['trust', 'joy'], ['anticipation'], ['joy'], ['trust'], ['anger', 'disgust'], ['sadness', 'surprise'], ['sadness'], ['joy'], ['disgust'], ['anger', 'anticipation'], ['fear'], ['sadness'], ['trust'], ['anger', 'anticipation', 'fear'], ['disgust'], ['surprise'], ['anticipation', 'joy'], ['disgust'], ['trust', 'anticipation'], ['surprise'], ['sadness'], ['anger', 'disgust'], ['trust', 'joy'], ['sadness'], ['anger', 'disgust'], ['anticipation', 'joy'], ['joy'], ['surprise'], ['anticipation'], ['fear'], ['anticipation'], ['fear'], ['anger'], ['fear'], ['anticipation', 'joy'], ['anger', 'disgust'], ['anger'], ['trust'], ['trust'], ['anger'], ['fear'], ['anticipation', 'joy', 'surprise'], ['anticipation'], ['fear', 'sadness', 'surprise'], ['anger', 'disgust'], ['sadness'], ['anger', 'surprise'], ['fear'], ['anger', 'disgust', 'fear'], ['surprise'], ['trust'], ['anger', 'disgust'], ['trust', 'sadness'], ['anticipation'], ['anger'], ['joy'], ['anticipation'], ['trust'], ['trust'], ['anger'], ['fear'], ['joy'], ['joy'], ['anger', 'disgust'], ['anger'], ['anticipation'], ['sadness'], ['anger', 'anticipation', 'surprise'], ['fear'], ['anger'], ['joy'], ['sadness'], ['disgust'], ['joy'], ['anticipation'], ['disgust'], ['joy'], ['anger', 'disgust'], ['joy'], ['joy'], ['joy'], ['anger', 'fear'], ['sadness'], ['sadness'], ['anger'], ['anticipation'], ['surprise'], ['joy'], ['trust'], ['joy'], ['surprise'], ['anticipation', 'joy'], ['surprise'], ['anger', 'disgust'], ['disgust'], ['disgust'], ['surprise'], ['disgust'], ['trust'], ['trust', 'joy'], ['disgust'], ['fear'], ['sadness'], ['trust'], ['joy'], ['joy'], ['anger', 'disgust'], ['trust'], ['joy'], ['disgust'], ['sadness'], ['anticipation'], ['anger', 'disgust'], ['anticipation'], ['surprise'], ['sadness'], ['trust', 'anticipation', 'joy'], ['anticipation', 'joy'], ['anticipation'], ['anger', 'fear'], ['trust', 'joy'], ['trust'], ['anger'], ['joy'], ['disgust']]\n"
     ]
    }
   ],
   "source": [
    "print(predict_labels)"
   ]
  },
  {
   "cell_type": "code",
   "execution_count": 24,
   "id": "f4100bee",
   "metadata": {
    "collapsed": true,
    "execution": {
     "iopub.execute_input": "2025-10-17T17:09:22.516533Z",
     "iopub.status.busy": "2025-10-17T17:09:22.516313Z",
     "iopub.status.idle": "2025-10-17T17:09:22.531483Z",
     "shell.execute_reply": "2025-10-17T17:09:22.530733Z"
    },
    "executionInfo": {
     "elapsed": 14,
     "status": "ok",
     "timestamp": 1760603427899,
     "user": {
      "displayName": "Yi Wang",
      "userId": "16774077774184782214"
     },
     "user_tz": -120
    },
    "id": "wx2nofpHwuyO",
    "jupyter": {
     "outputs_hidden": true
    },
    "outputId": "9d825c55-1934-48f7-92c8-b6d45accccd3",
    "papermill": {
     "duration": 0.04864,
     "end_time": "2025-10-17T17:09:22.532500",
     "exception": false,
     "start_time": "2025-10-17T17:09:22.483860",
     "status": "completed"
    },
    "tags": []
   },
   "outputs": [
    {
     "name": "stderr",
     "output_type": "stream",
     "text": [
      "/usr/local/lib/python3.11/dist-packages/sklearn/preprocessing/_label.py:895: UserWarning: unknown class(es) ['s', 'sadness,'] will be ignored\n",
      "  warnings.warn(\n"
     ]
    }
   ],
   "source": [
    "from sklearn.preprocessing import MultiLabelBinarizer\n",
    "\n",
    "mlb = MultiLabelBinarizer(classes=list(emotions_mapping.values()))\n",
    "true_binarized = mlb.fit_transform(true_labels)\n",
    "pred_binarized = mlb.transform(predict_labels)"
   ]
  },
  {
   "cell_type": "code",
   "execution_count": 25,
   "id": "57b34164",
   "metadata": {
    "collapsed": true,
    "execution": {
     "iopub.execute_input": "2025-10-17T17:09:22.596741Z",
     "iopub.status.busy": "2025-10-17T17:09:22.596511Z",
     "iopub.status.idle": "2025-10-17T17:09:22.613750Z",
     "shell.execute_reply": "2025-10-17T17:09:22.613105Z"
    },
    "executionInfo": {
     "elapsed": 5,
     "status": "ok",
     "timestamp": 1760603427905,
     "user": {
      "displayName": "Yi Wang",
      "userId": "16774077774184782214"
     },
     "user_tz": -120
    },
    "id": "aIC5WVNzxZa7",
    "jupyter": {
     "outputs_hidden": true
    },
    "outputId": "1b13c991-b3f2-4bf9-f961-3e83994ba649",
    "papermill": {
     "duration": 0.05062,
     "end_time": "2025-10-17T17:09:22.614770",
     "exception": false,
     "start_time": "2025-10-17T17:09:22.564150",
     "status": "completed"
    },
    "tags": []
   },
   "outputs": [
    {
     "name": "stdout",
     "output_type": "stream",
     "text": [
      "Micro F1-score: 0.3847\n",
      "Jaccard Index: 0.3480\n"
     ]
    }
   ],
   "source": [
    "from sklearn.metrics import f1_score, jaccard_score\n",
    "\n",
    "micro_f1 = f1_score(true_binarized, pred_binarized, average='micro')\n",
    "jaccard = jaccard_score(true_binarized, pred_binarized, average='samples')\n",
    "\n",
    "print(f\"Micro F1-score: {micro_f1:.4f}\")\n",
    "print(f\"Jaccard Index: {jaccard:.4f}\")\n"
   ]
  },
  {
   "cell_type": "code",
   "execution_count": 26,
   "id": "1615cd7b",
   "metadata": {
    "collapsed": true,
    "execution": {
     "iopub.execute_input": "2025-10-17T17:09:22.679332Z",
     "iopub.status.busy": "2025-10-17T17:09:22.679108Z",
     "iopub.status.idle": "2025-10-17T17:09:22.695013Z",
     "shell.execute_reply": "2025-10-17T17:09:22.694254Z"
    },
    "executionInfo": {
     "elapsed": 4,
     "status": "ok",
     "timestamp": 1760603427910,
     "user": {
      "displayName": "Yi Wang",
      "userId": "16774077774184782214"
     },
     "user_tz": -120
    },
    "id": "orDrlTKTxfBt",
    "jupyter": {
     "outputs_hidden": true
    },
    "outputId": "4ce670f4-1de3-409e-b878-423fe161823f",
    "papermill": {
     "duration": 0.049319,
     "end_time": "2025-10-17T17:09:22.696057",
     "exception": false,
     "start_time": "2025-10-17T17:09:22.646738",
     "status": "completed"
    },
    "tags": []
   },
   "outputs": [
    {
     "name": "stdout",
     "output_type": "stream",
     "text": [
      "Macro F1-score: 0.3795\n",
      "Precision: 0.3881\n",
      "Recall: 0.3814\n",
      "Hamming Loss: 0.1930\n"
     ]
    }
   ],
   "source": [
    "from sklearn.metrics import precision_score, recall_score, hamming_loss\n",
    "\n",
    "macro_f1 = f1_score(true_binarized, pred_binarized, average='macro')\n",
    "precision = precision_score(true_binarized, pred_binarized, average='micro')\n",
    "recall = recall_score(true_binarized, pred_binarized, average='micro')\n",
    "hamming = hamming_loss(true_binarized, pred_binarized)\n",
    "\n",
    "print(f\"Macro F1-score: {macro_f1:.4f}\")\n",
    "print(f\"Precision: {precision:.4f}\")\n",
    "print(f\"Recall: {recall:.4f}\")\n",
    "print(f\"Hamming Loss: {hamming:.4f}\")\n"
   ]
  }
 ],
 "metadata": {
  "accelerator": "GPU",
  "colab": {
   "authorship_tag": "ABX9TyP5tA/5kJ3AsLqcWo70pigV",
   "gpuType": "T4",
   "provenance": []
  },
  "kaggle": {
   "accelerator": "nvidiaTeslaT4",
   "dataSources": [
    {
     "datasetId": 8505327,
     "sourceId": 13402392,
     "sourceType": "datasetVersion"
    }
   ],
   "dockerImageVersionId": 31153,
   "isGpuEnabled": true,
   "isInternetEnabled": true,
   "language": "python",
   "sourceType": "notebook"
  },
  "kernelspec": {
   "display_name": "Python 3",
   "language": "python",
   "name": "python3"
  },
  "language_info": {
   "codemirror_mode": {
    "name": "ipython",
    "version": 3
   },
   "file_extension": ".py",
   "mimetype": "text/x-python",
   "name": "python",
   "nbconvert_exporter": "python",
   "pygments_lexer": "ipython3",
   "version": "3.11.13"
  },
  "papermill": {
   "default_parameters": {},
   "duration": 17679.155567,
   "end_time": "2025-10-17T17:09:26.183109",
   "environment_variables": {},
   "exception": null,
   "input_path": "__notebook__.ipynb",
   "output_path": "__notebook__.ipynb",
   "parameters": {},
   "start_time": "2025-10-17T12:14:47.027542",
   "version": "2.6.0"
  },
  "widgets": {
   "application/vnd.jupyter.widget-state+json": {
    "state": {
     "0009e70b95f6463baa62c340cdfd2267": {
      "model_module": "@jupyter-widgets/controls",
      "model_module_version": "2.0.0",
      "model_name": "HTMLStyleModel",
      "state": {
       "_model_module": "@jupyter-widgets/controls",
       "_model_module_version": "2.0.0",
       "_model_name": "HTMLStyleModel",
       "_view_count": null,
       "_view_module": "@jupyter-widgets/base",
       "_view_module_version": "2.0.0",
       "_view_name": "StyleView",
       "background": null,
       "description_width": "",
       "font_size": null,
       "text_color": null
      }
     },
     "000d61e6965f4ad999786e545cf35b2f": {
      "model_module": "@jupyter-widgets/base",
      "model_module_version": "2.0.0",
      "model_name": "LayoutModel",
      "state": {
       "_model_module": "@jupyter-widgets/base",
       "_model_module_version": "2.0.0",
       "_model_name": "LayoutModel",
       "_view_count": null,
       "_view_module": "@jupyter-widgets/base",
       "_view_module_version": "2.0.0",
       "_view_name": "LayoutView",
       "align_content": null,
       "align_items": null,
       "align_self": null,
       "border_bottom": null,
       "border_left": null,
       "border_right": null,
       "border_top": null,
       "bottom": null,
       "display": null,
       "flex": null,
       "flex_flow": null,
       "grid_area": null,
       "grid_auto_columns": null,
       "grid_auto_flow": null,
       "grid_auto_rows": null,
       "grid_column": null,
       "grid_gap": null,
       "grid_row": null,
       "grid_template_areas": null,
       "grid_template_columns": null,
       "grid_template_rows": null,
       "height": null,
       "justify_content": null,
       "justify_items": null,
       "left": null,
       "margin": null,
       "max_height": null,
       "max_width": null,
       "min_height": null,
       "min_width": null,
       "object_fit": null,
       "object_position": null,
       "order": null,
       "overflow": null,
       "padding": null,
       "right": null,
       "top": null,
       "visibility": null,
       "width": null
      }
     },
     "00952b8ef91b4941b0f3eba8b6b062ce": {
      "model_module": "@jupyter-widgets/controls",
      "model_module_version": "2.0.0",
      "model_name": "HBoxModel",
      "state": {
       "_dom_classes": [],
       "_model_module": "@jupyter-widgets/controls",
       "_model_module_version": "2.0.0",
       "_model_name": "HBoxModel",
       "_view_count": null,
       "_view_module": "@jupyter-widgets/controls",
       "_view_module_version": "2.0.0",
       "_view_name": "HBoxView",
       "box_style": "",
       "children": [
        "IPY_MODEL_0fcc8604669047568c0ee5071df76642",
        "IPY_MODEL_99bd2decb8614324afa19a299357c153",
        "IPY_MODEL_515cf621d18c44d48cdaeaa08cba1432"
       ],
       "layout": "IPY_MODEL_fa74acac1af34d30b551cb0b831bc759",
       "tabbable": null,
       "tooltip": null
      }
     },
     "01c22862432c4abab366ca00e50c4e21": {
      "model_module": "@jupyter-widgets/base",
      "model_module_version": "2.0.0",
      "model_name": "LayoutModel",
      "state": {
       "_model_module": "@jupyter-widgets/base",
       "_model_module_version": "2.0.0",
       "_model_name": "LayoutModel",
       "_view_count": null,
       "_view_module": "@jupyter-widgets/base",
       "_view_module_version": "2.0.0",
       "_view_name": "LayoutView",
       "align_content": null,
       "align_items": null,
       "align_self": null,
       "border_bottom": null,
       "border_left": null,
       "border_right": null,
       "border_top": null,
       "bottom": null,
       "display": null,
       "flex": null,
       "flex_flow": null,
       "grid_area": null,
       "grid_auto_columns": null,
       "grid_auto_flow": null,
       "grid_auto_rows": null,
       "grid_column": null,
       "grid_gap": null,
       "grid_row": null,
       "grid_template_areas": null,
       "grid_template_columns": null,
       "grid_template_rows": null,
       "height": null,
       "justify_content": null,
       "justify_items": null,
       "left": null,
       "margin": null,
       "max_height": null,
       "max_width": null,
       "min_height": null,
       "min_width": null,
       "object_fit": null,
       "object_position": null,
       "order": null,
       "overflow": null,
       "padding": null,
       "right": null,
       "top": null,
       "visibility": null,
       "width": null
      }
     },
     "048644b7789a400297f959b194021b3b": {
      "model_module": "@jupyter-widgets/controls",
      "model_module_version": "2.0.0",
      "model_name": "FloatProgressModel",
      "state": {
       "_dom_classes": [],
       "_model_module": "@jupyter-widgets/controls",
       "_model_module_version": "2.0.0",
       "_model_name": "FloatProgressModel",
       "_view_count": null,
       "_view_module": "@jupyter-widgets/controls",
       "_view_module_version": "2.0.0",
       "_view_name": "ProgressView",
       "bar_style": "success",
       "description": "",
       "description_allow_html": false,
       "layout": "IPY_MODEL_7d75729ccf9e444daedcfa9b69a1f567",
       "max": 4309802.0,
       "min": 0.0,
       "orientation": "horizontal",
       "style": "IPY_MODEL_0f882d3594fe4e80ad56e66804337cfa",
       "tabbable": null,
       "tooltip": null,
       "value": 4309802.0
      }
     },
     "0a67b2c141654e3ea5e3e69ab272c19e": {
      "model_module": "@jupyter-widgets/controls",
      "model_module_version": "2.0.0",
      "model_name": "HTMLModel",
      "state": {
       "_dom_classes": [],
       "_model_module": "@jupyter-widgets/controls",
       "_model_module_version": "2.0.0",
       "_model_name": "HTMLModel",
       "_view_count": null,
       "_view_module": "@jupyter-widgets/controls",
       "_view_module_version": "2.0.0",
       "_view_name": "HTMLView",
       "description": "",
       "description_allow_html": false,
       "layout": "IPY_MODEL_4347057f9b9a487a917fc92f6a9dde94",
       "placeholder": "​",
       "style": "IPY_MODEL_5d1d428cced54cc3a237f048749d5e14",
       "tabbable": null,
       "tooltip": null,
       "value": " 1753/1753 [00:00&lt;00:00, 6676.94 examples/s]"
      }
     },
     "0b204957e1b2453692cf98fa9d55c493": {
      "model_module": "@jupyter-widgets/base",
      "model_module_version": "2.0.0",
      "model_name": "LayoutModel",
      "state": {
       "_model_module": "@jupyter-widgets/base",
       "_model_module_version": "2.0.0",
       "_model_name": "LayoutModel",
       "_view_count": null,
       "_view_module": "@jupyter-widgets/base",
       "_view_module_version": "2.0.0",
       "_view_name": "LayoutView",
       "align_content": null,
       "align_items": null,
       "align_self": null,
       "border_bottom": null,
       "border_left": null,
       "border_right": null,
       "border_top": null,
       "bottom": null,
       "display": null,
       "flex": null,
       "flex_flow": null,
       "grid_area": null,
       "grid_auto_columns": null,
       "grid_auto_flow": null,
       "grid_auto_rows": null,
       "grid_column": null,
       "grid_gap": null,
       "grid_row": null,
       "grid_template_areas": null,
       "grid_template_columns": null,
       "grid_template_rows": null,
       "height": null,
       "justify_content": null,
       "justify_items": null,
       "left": null,
       "margin": null,
       "max_height": null,
       "max_width": null,
       "min_height": null,
       "min_width": null,
       "object_fit": null,
       "object_position": null,
       "order": null,
       "overflow": null,
       "padding": null,
       "right": null,
       "top": null,
       "visibility": null,
       "width": null
      }
     },
     "0f882d3594fe4e80ad56e66804337cfa": {
      "model_module": "@jupyter-widgets/controls",
      "model_module_version": "2.0.0",
      "model_name": "ProgressStyleModel",
      "state": {
       "_model_module": "@jupyter-widgets/controls",
       "_model_module_version": "2.0.0",
       "_model_name": "ProgressStyleModel",
       "_view_count": null,
       "_view_module": "@jupyter-widgets/base",
       "_view_module_version": "2.0.0",
       "_view_name": "StyleView",
       "bar_color": null,
       "description_width": ""
      }
     },
     "0fcc8604669047568c0ee5071df76642": {
      "model_module": "@jupyter-widgets/controls",
      "model_module_version": "2.0.0",
      "model_name": "HTMLModel",
      "state": {
       "_dom_classes": [],
       "_model_module": "@jupyter-widgets/controls",
       "_model_module_version": "2.0.0",
       "_model_name": "HTMLModel",
       "_view_count": null,
       "_view_module": "@jupyter-widgets/controls",
       "_view_module_version": "2.0.0",
       "_view_name": "HTMLView",
       "description": "",
       "description_allow_html": false,
       "layout": "IPY_MODEL_3b9c1e2d8a09424ea7a8cc7d16a8cc36",
       "placeholder": "​",
       "style": "IPY_MODEL_760bb5c6431c4d33b752aee4b517d0cb",
       "tabbable": null,
       "tooltip": null,
       "value": "Map: 100%"
      }
     },
     "106e567932884d1495ccbc521e303239": {
      "model_module": "@jupyter-widgets/controls",
      "model_module_version": "2.0.0",
      "model_name": "ProgressStyleModel",
      "state": {
       "_model_module": "@jupyter-widgets/controls",
       "_model_module_version": "2.0.0",
       "_model_name": "ProgressStyleModel",
       "_view_count": null,
       "_view_module": "@jupyter-widgets/base",
       "_view_module_version": "2.0.0",
       "_view_name": "StyleView",
       "bar_color": null,
       "description_width": ""
      }
     },
     "1220fde98a744fcfad6f52ee21fc43ed": {
      "model_module": "@jupyter-widgets/controls",
      "model_module_version": "2.0.0",
      "model_name": "FloatProgressModel",
      "state": {
       "_dom_classes": [],
       "_model_module": "@jupyter-widgets/controls",
       "_model_module_version": "2.0.0",
       "_model_name": "FloatProgressModel",
       "_view_count": null,
       "_view_module": "@jupyter-widgets/controls",
       "_view_module_version": "2.0.0",
       "_view_name": "ProgressView",
       "bar_style": "success",
       "description": "",
       "description_allow_html": false,
       "layout": "IPY_MODEL_61769b56d41f4df59da7e7c8174f2cb5",
       "max": 376.0,
       "min": 0.0,
       "orientation": "horizontal",
       "style": "IPY_MODEL_853d1c2ba81f45d598d483b28d6c1489",
       "tabbable": null,
       "tooltip": null,
       "value": 376.0
      }
     },
     "13e26a257e494ed8bdf502c5e99cc376": {
      "model_module": "@jupyter-widgets/controls",
      "model_module_version": "2.0.0",
      "model_name": "ProgressStyleModel",
      "state": {
       "_model_module": "@jupyter-widgets/controls",
       "_model_module_version": "2.0.0",
       "_model_name": "ProgressStyleModel",
       "_view_count": null,
       "_view_module": "@jupyter-widgets/base",
       "_view_module_version": "2.0.0",
       "_view_name": "StyleView",
       "bar_color": null,
       "description_width": ""
      }
     },
     "14bca69e39274620b203916de4dee12f": {
      "model_module": "@jupyter-widgets/controls",
      "model_module_version": "2.0.0",
      "model_name": "HTMLModel",
      "state": {
       "_dom_classes": [],
       "_model_module": "@jupyter-widgets/controls",
       "_model_module_version": "2.0.0",
       "_model_name": "HTMLModel",
       "_view_count": null,
       "_view_module": "@jupyter-widgets/controls",
       "_view_module_version": "2.0.0",
       "_view_name": "HTMLView",
       "description": "",
       "description_allow_html": false,
       "layout": "IPY_MODEL_77eea445aa3a48b68966dde3a7b089cb",
       "placeholder": "​",
       "style": "IPY_MODEL_be63e26cc5cb4b56896ddfd7858db688",
       "tabbable": null,
       "tooltip": null,
       "value": " 65.0/65.0 [00:00&lt;00:00, 8.56kB/s]"
      }
     },
     "16a88816e1854e4d9b585d60a6982c4e": {
      "model_module": "@jupyter-widgets/controls",
      "model_module_version": "2.0.0",
      "model_name": "HTMLStyleModel",
      "state": {
       "_model_module": "@jupyter-widgets/controls",
       "_model_module_version": "2.0.0",
       "_model_name": "HTMLStyleModel",
       "_view_count": null,
       "_view_module": "@jupyter-widgets/base",
       "_view_module_version": "2.0.0",
       "_view_name": "StyleView",
       "background": null,
       "description_width": "",
       "font_size": null,
       "text_color": null
      }
     },
     "16c397a7e6644cdf83404c7b54289a2c": {
      "model_module": "@jupyter-widgets/controls",
      "model_module_version": "2.0.0",
      "model_name": "HTMLStyleModel",
      "state": {
       "_model_module": "@jupyter-widgets/controls",
       "_model_module_version": "2.0.0",
       "_model_name": "HTMLStyleModel",
       "_view_count": null,
       "_view_module": "@jupyter-widgets/base",
       "_view_module_version": "2.0.0",
       "_view_name": "StyleView",
       "background": null,
       "description_width": "",
       "font_size": null,
       "text_color": null
      }
     },
     "17165cd74e8b43a7b42898e2aa0caf00": {
      "model_module": "@jupyter-widgets/controls",
      "model_module_version": "2.0.0",
      "model_name": "HTMLModel",
      "state": {
       "_dom_classes": [],
       "_model_module": "@jupyter-widgets/controls",
       "_model_module_version": "2.0.0",
       "_model_name": "HTMLModel",
       "_view_count": null,
       "_view_module": "@jupyter-widgets/controls",
       "_view_module_version": "2.0.0",
       "_view_name": "HTMLView",
       "description": "",
       "description_allow_html": false,
       "layout": "IPY_MODEL_01c22862432c4abab366ca00e50c4e21",
       "placeholder": "​",
       "style": "IPY_MODEL_36c6fd7616d44e43a247969a5b567f05",
       "tabbable": null,
       "tooltip": null,
       "value": "model.safetensors: 100%"
      }
     },
     "1723653dc57149739314c4a7ca755e87": {
      "model_module": "@jupyter-widgets/controls",
      "model_module_version": "2.0.0",
      "model_name": "HBoxModel",
      "state": {
       "_dom_classes": [],
       "_model_module": "@jupyter-widgets/controls",
       "_model_module_version": "2.0.0",
       "_model_name": "HBoxModel",
       "_view_count": null,
       "_view_module": "@jupyter-widgets/controls",
       "_view_module_version": "2.0.0",
       "_view_name": "HBoxView",
       "box_style": "",
       "children": [
        "IPY_MODEL_f7cfdc9c042b4e8abe88cfcf2e1737f9",
        "IPY_MODEL_048644b7789a400297f959b194021b3b",
        "IPY_MODEL_cc55b685a0b546e5afb292af2ce6cfae"
       ],
       "layout": "IPY_MODEL_da4bad5bf3464a6780c2af3798b732cd",
       "tabbable": null,
       "tooltip": null
      }
     },
     "1a7fe8eaec8242d2a0659455f556f45b": {
      "model_module": "@jupyter-widgets/controls",
      "model_module_version": "2.0.0",
      "model_name": "HTMLModel",
      "state": {
       "_dom_classes": [],
       "_model_module": "@jupyter-widgets/controls",
       "_model_module_version": "2.0.0",
       "_model_name": "HTMLModel",
       "_view_count": null,
       "_view_module": "@jupyter-widgets/controls",
       "_view_module_version": "2.0.0",
       "_view_name": "HTMLView",
       "description": "",
       "description_allow_html": false,
       "layout": "IPY_MODEL_b5fc77f4607c4b8285ce3848228d870d",
       "placeholder": "​",
       "style": "IPY_MODEL_ebebab07a96f4f2f911ed0175d661bfc",
       "tabbable": null,
       "tooltip": null,
       "value": "config.json: 100%"
      }
     },
     "25868153abda42c99da01cbe47b7ea05": {
      "model_module": "@jupyter-widgets/controls",
      "model_module_version": "2.0.0",
      "model_name": "HBoxModel",
      "state": {
       "_dom_classes": [],
       "_model_module": "@jupyter-widgets/controls",
       "_model_module_version": "2.0.0",
       "_model_name": "HBoxModel",
       "_view_count": null,
       "_view_module": "@jupyter-widgets/controls",
       "_view_module_version": "2.0.0",
       "_view_name": "HBoxView",
       "box_style": "",
       "children": [
        "IPY_MODEL_1a7fe8eaec8242d2a0659455f556f45b",
        "IPY_MODEL_63f839f3c7ae49a8a818fa9e968d45de",
        "IPY_MODEL_4c1df40bca67484db2accc28ca654101"
       ],
       "layout": "IPY_MODEL_f613c5bb28824b2db1380232c63fb9dd",
       "tabbable": null,
       "tooltip": null
      }
     },
     "2651adf6f42a4eadb249bdcce2914c70": {
      "model_module": "@jupyter-widgets/controls",
      "model_module_version": "2.0.0",
      "model_name": "HTMLStyleModel",
      "state": {
       "_model_module": "@jupyter-widgets/controls",
       "_model_module_version": "2.0.0",
       "_model_name": "HTMLStyleModel",
       "_view_count": null,
       "_view_module": "@jupyter-widgets/base",
       "_view_module_version": "2.0.0",
       "_view_name": "StyleView",
       "background": null,
       "description_width": "",
       "font_size": null,
       "text_color": null
      }
     },
     "2e1de77195c5435e8ba01a484934b7f1": {
      "model_module": "@jupyter-widgets/controls",
      "model_module_version": "2.0.0",
      "model_name": "HBoxModel",
      "state": {
       "_dom_classes": [],
       "_model_module": "@jupyter-widgets/controls",
       "_model_module_version": "2.0.0",
       "_model_name": "HBoxModel",
       "_view_count": null,
       "_view_module": "@jupyter-widgets/controls",
       "_view_module_version": "2.0.0",
       "_view_name": "HBoxView",
       "box_style": "",
       "children": [
        "IPY_MODEL_af3272ddc4f547368d8af5a787bc7899",
        "IPY_MODEL_910f0925199e42349d8fcf04f03cdeb3",
        "IPY_MODEL_0a67b2c141654e3ea5e3e69ab272c19e"
       ],
       "layout": "IPY_MODEL_35a78d436b07484baca87386a3766095",
       "tabbable": null,
       "tooltip": null
      }
     },
     "35a78d436b07484baca87386a3766095": {
      "model_module": "@jupyter-widgets/base",
      "model_module_version": "2.0.0",
      "model_name": "LayoutModel",
      "state": {
       "_model_module": "@jupyter-widgets/base",
       "_model_module_version": "2.0.0",
       "_model_name": "LayoutModel",
       "_view_count": null,
       "_view_module": "@jupyter-widgets/base",
       "_view_module_version": "2.0.0",
       "_view_name": "LayoutView",
       "align_content": null,
       "align_items": null,
       "align_self": null,
       "border_bottom": null,
       "border_left": null,
       "border_right": null,
       "border_top": null,
       "bottom": null,
       "display": null,
       "flex": null,
       "flex_flow": null,
       "grid_area": null,
       "grid_auto_columns": null,
       "grid_auto_flow": null,
       "grid_auto_rows": null,
       "grid_column": null,
       "grid_gap": null,
       "grid_row": null,
       "grid_template_areas": null,
       "grid_template_columns": null,
       "grid_template_rows": null,
       "height": null,
       "justify_content": null,
       "justify_items": null,
       "left": null,
       "margin": null,
       "max_height": null,
       "max_width": null,
       "min_height": null,
       "min_width": null,
       "object_fit": null,
       "object_position": null,
       "order": null,
       "overflow": null,
       "padding": null,
       "right": null,
       "top": null,
       "visibility": null,
       "width": null
      }
     },
     "360de3b9709e459cb0fcf534463ee8ac": {
      "model_module": "@jupyter-widgets/base",
      "model_module_version": "2.0.0",
      "model_name": "LayoutModel",
      "state": {
       "_model_module": "@jupyter-widgets/base",
       "_model_module_version": "2.0.0",
       "_model_name": "LayoutModel",
       "_view_count": null,
       "_view_module": "@jupyter-widgets/base",
       "_view_module_version": "2.0.0",
       "_view_name": "LayoutView",
       "align_content": null,
       "align_items": null,
       "align_self": null,
       "border_bottom": null,
       "border_left": null,
       "border_right": null,
       "border_top": null,
       "bottom": null,
       "display": null,
       "flex": null,
       "flex_flow": null,
       "grid_area": null,
       "grid_auto_columns": null,
       "grid_auto_flow": null,
       "grid_auto_rows": null,
       "grid_column": null,
       "grid_gap": null,
       "grid_row": null,
       "grid_template_areas": null,
       "grid_template_columns": null,
       "grid_template_rows": null,
       "height": null,
       "justify_content": null,
       "justify_items": null,
       "left": null,
       "margin": null,
       "max_height": null,
       "max_width": null,
       "min_height": null,
       "min_width": null,
       "object_fit": null,
       "object_position": null,
       "order": null,
       "overflow": null,
       "padding": null,
       "right": null,
       "top": null,
       "visibility": null,
       "width": null
      }
     },
     "362692432daf406f8132de6797403b3f": {
      "model_module": "@jupyter-widgets/base",
      "model_module_version": "2.0.0",
      "model_name": "LayoutModel",
      "state": {
       "_model_module": "@jupyter-widgets/base",
       "_model_module_version": "2.0.0",
       "_model_name": "LayoutModel",
       "_view_count": null,
       "_view_module": "@jupyter-widgets/base",
       "_view_module_version": "2.0.0",
       "_view_name": "LayoutView",
       "align_content": null,
       "align_items": null,
       "align_self": null,
       "border_bottom": null,
       "border_left": null,
       "border_right": null,
       "border_top": null,
       "bottom": null,
       "display": null,
       "flex": null,
       "flex_flow": null,
       "grid_area": null,
       "grid_auto_columns": null,
       "grid_auto_flow": null,
       "grid_auto_rows": null,
       "grid_column": null,
       "grid_gap": null,
       "grid_row": null,
       "grid_template_areas": null,
       "grid_template_columns": null,
       "grid_template_rows": null,
       "height": null,
       "justify_content": null,
       "justify_items": null,
       "left": null,
       "margin": null,
       "max_height": null,
       "max_width": null,
       "min_height": null,
       "min_width": null,
       "object_fit": null,
       "object_position": null,
       "order": null,
       "overflow": null,
       "padding": null,
       "right": null,
       "top": null,
       "visibility": null,
       "width": null
      }
     },
     "36c6fd7616d44e43a247969a5b567f05": {
      "model_module": "@jupyter-widgets/controls",
      "model_module_version": "2.0.0",
      "model_name": "HTMLStyleModel",
      "state": {
       "_model_module": "@jupyter-widgets/controls",
       "_model_module_version": "2.0.0",
       "_model_name": "HTMLStyleModel",
       "_view_count": null,
       "_view_module": "@jupyter-widgets/base",
       "_view_module_version": "2.0.0",
       "_view_name": "StyleView",
       "background": null,
       "description_width": "",
       "font_size": null,
       "text_color": null
      }
     },
     "36e528a8deaa41fb978b753f3cda9fe0": {
      "model_module": "@jupyter-widgets/base",
      "model_module_version": "2.0.0",
      "model_name": "LayoutModel",
      "state": {
       "_model_module": "@jupyter-widgets/base",
       "_model_module_version": "2.0.0",
       "_model_name": "LayoutModel",
       "_view_count": null,
       "_view_module": "@jupyter-widgets/base",
       "_view_module_version": "2.0.0",
       "_view_name": "LayoutView",
       "align_content": null,
       "align_items": null,
       "align_self": null,
       "border_bottom": null,
       "border_left": null,
       "border_right": null,
       "border_top": null,
       "bottom": null,
       "display": null,
       "flex": null,
       "flex_flow": null,
       "grid_area": null,
       "grid_auto_columns": null,
       "grid_auto_flow": null,
       "grid_auto_rows": null,
       "grid_column": null,
       "grid_gap": null,
       "grid_row": null,
       "grid_template_areas": null,
       "grid_template_columns": null,
       "grid_template_rows": null,
       "height": null,
       "justify_content": null,
       "justify_items": null,
       "left": null,
       "margin": null,
       "max_height": null,
       "max_width": null,
       "min_height": null,
       "min_width": null,
       "object_fit": null,
       "object_position": null,
       "order": null,
       "overflow": null,
       "padding": null,
       "right": null,
       "top": null,
       "visibility": null,
       "width": null
      }
     },
     "3793a1886bab41549ae63f2ffb4f54b4": {
      "model_module": "@jupyter-widgets/controls",
      "model_module_version": "2.0.0",
      "model_name": "HTMLStyleModel",
      "state": {
       "_model_module": "@jupyter-widgets/controls",
       "_model_module_version": "2.0.0",
       "_model_name": "HTMLStyleModel",
       "_view_count": null,
       "_view_module": "@jupyter-widgets/base",
       "_view_module_version": "2.0.0",
       "_view_name": "StyleView",
       "background": null,
       "description_width": "",
       "font_size": null,
       "text_color": null
      }
     },
     "3b9c1e2d8a09424ea7a8cc7d16a8cc36": {
      "model_module": "@jupyter-widgets/base",
      "model_module_version": "2.0.0",
      "model_name": "LayoutModel",
      "state": {
       "_model_module": "@jupyter-widgets/base",
       "_model_module_version": "2.0.0",
       "_model_name": "LayoutModel",
       "_view_count": null,
       "_view_module": "@jupyter-widgets/base",
       "_view_module_version": "2.0.0",
       "_view_name": "LayoutView",
       "align_content": null,
       "align_items": null,
       "align_self": null,
       "border_bottom": null,
       "border_left": null,
       "border_right": null,
       "border_top": null,
       "bottom": null,
       "display": null,
       "flex": null,
       "flex_flow": null,
       "grid_area": null,
       "grid_auto_columns": null,
       "grid_auto_flow": null,
       "grid_auto_rows": null,
       "grid_column": null,
       "grid_gap": null,
       "grid_row": null,
       "grid_template_areas": null,
       "grid_template_columns": null,
       "grid_template_rows": null,
       "height": null,
       "justify_content": null,
       "justify_items": null,
       "left": null,
       "margin": null,
       "max_height": null,
       "max_width": null,
       "min_height": null,
       "min_width": null,
       "object_fit": null,
       "object_position": null,
       "order": null,
       "overflow": null,
       "padding": null,
       "right": null,
       "top": null,
       "visibility": null,
       "width": null
      }
     },
     "403b6fc8b62641dcb7e3ecf998978171": {
      "model_module": "@jupyter-widgets/controls",
      "model_module_version": "2.0.0",
      "model_name": "HTMLModel",
      "state": {
       "_dom_classes": [],
       "_model_module": "@jupyter-widgets/controls",
       "_model_module_version": "2.0.0",
       "_model_name": "HTMLModel",
       "_view_count": null,
       "_view_module": "@jupyter-widgets/controls",
       "_view_module_version": "2.0.0",
       "_view_name": "HTMLView",
       "description": "",
       "description_allow_html": false,
       "layout": "IPY_MODEL_ff54ed8dd1954c6e899063a18314f78d",
       "placeholder": "​",
       "style": "IPY_MODEL_3793a1886bab41549ae63f2ffb4f54b4",
       "tabbable": null,
       "tooltip": null,
       "value": "tokenizer_config.json: 100%"
      }
     },
     "4347057f9b9a487a917fc92f6a9dde94": {
      "model_module": "@jupyter-widgets/base",
      "model_module_version": "2.0.0",
      "model_name": "LayoutModel",
      "state": {
       "_model_module": "@jupyter-widgets/base",
       "_model_module_version": "2.0.0",
       "_model_name": "LayoutModel",
       "_view_count": null,
       "_view_module": "@jupyter-widgets/base",
       "_view_module_version": "2.0.0",
       "_view_name": "LayoutView",
       "align_content": null,
       "align_items": null,
       "align_self": null,
       "border_bottom": null,
       "border_left": null,
       "border_right": null,
       "border_top": null,
       "bottom": null,
       "display": null,
       "flex": null,
       "flex_flow": null,
       "grid_area": null,
       "grid_auto_columns": null,
       "grid_auto_flow": null,
       "grid_auto_rows": null,
       "grid_column": null,
       "grid_gap": null,
       "grid_row": null,
       "grid_template_areas": null,
       "grid_template_columns": null,
       "grid_template_rows": null,
       "height": null,
       "justify_content": null,
       "justify_items": null,
       "left": null,
       "margin": null,
       "max_height": null,
       "max_width": null,
       "min_height": null,
       "min_width": null,
       "object_fit": null,
       "object_position": null,
       "order": null,
       "overflow": null,
       "padding": null,
       "right": null,
       "top": null,
       "visibility": null,
       "width": null
      }
     },
     "461250e078334990ab6b7ec3afdf9d93": {
      "model_module": "@jupyter-widgets/controls",
      "model_module_version": "2.0.0",
      "model_name": "ProgressStyleModel",
      "state": {
       "_model_module": "@jupyter-widgets/controls",
       "_model_module_version": "2.0.0",
       "_model_name": "ProgressStyleModel",
       "_view_count": null,
       "_view_module": "@jupyter-widgets/base",
       "_view_module_version": "2.0.0",
       "_view_name": "StyleView",
       "bar_color": null,
       "description_width": ""
      }
     },
     "483ed6e5530b47678ff4e5955a6548a7": {
      "model_module": "@jupyter-widgets/controls",
      "model_module_version": "2.0.0",
      "model_name": "HBoxModel",
      "state": {
       "_dom_classes": [],
       "_model_module": "@jupyter-widgets/controls",
       "_model_module_version": "2.0.0",
       "_model_name": "HBoxModel",
       "_view_count": null,
       "_view_module": "@jupyter-widgets/controls",
       "_view_module_version": "2.0.0",
       "_view_name": "HBoxView",
       "box_style": "",
       "children": [
        "IPY_MODEL_403b6fc8b62641dcb7e3ecf998978171",
        "IPY_MODEL_1220fde98a744fcfad6f52ee21fc43ed",
        "IPY_MODEL_a8bce576f8b44d42bccdfa865804c930"
       ],
       "layout": "IPY_MODEL_da2891baf5f44caaaa9b9b687a64a8b8",
       "tabbable": null,
       "tooltip": null
      }
     },
     "4c1df40bca67484db2accc28ca654101": {
      "model_module": "@jupyter-widgets/controls",
      "model_module_version": "2.0.0",
      "model_name": "HTMLModel",
      "state": {
       "_dom_classes": [],
       "_model_module": "@jupyter-widgets/controls",
       "_model_module_version": "2.0.0",
       "_model_name": "HTMLModel",
       "_view_count": null,
       "_view_module": "@jupyter-widgets/controls",
       "_view_module_version": "2.0.0",
       "_view_name": "HTMLView",
       "description": "",
       "description_allow_html": false,
       "layout": "IPY_MODEL_7fb819716196446b8e3372f2071931d5",
       "placeholder": "​",
       "style": "IPY_MODEL_59423913963440a59f305e0db498d40c",
       "tabbable": null,
       "tooltip": null,
       "value": " 702/702 [00:00&lt;00:00, 103kB/s]"
      }
     },
     "4f385823d24c4e0ca9dafce25df8acca": {
      "model_module": "@jupyter-widgets/base",
      "model_module_version": "2.0.0",
      "model_name": "LayoutModel",
      "state": {
       "_model_module": "@jupyter-widgets/base",
       "_model_module_version": "2.0.0",
       "_model_name": "LayoutModel",
       "_view_count": null,
       "_view_module": "@jupyter-widgets/base",
       "_view_module_version": "2.0.0",
       "_view_name": "LayoutView",
       "align_content": null,
       "align_items": null,
       "align_self": null,
       "border_bottom": null,
       "border_left": null,
       "border_right": null,
       "border_top": null,
       "bottom": null,
       "display": null,
       "flex": null,
       "flex_flow": null,
       "grid_area": null,
       "grid_auto_columns": null,
       "grid_auto_flow": null,
       "grid_auto_rows": null,
       "grid_column": null,
       "grid_gap": null,
       "grid_row": null,
       "grid_template_areas": null,
       "grid_template_columns": null,
       "grid_template_rows": null,
       "height": null,
       "justify_content": null,
       "justify_items": null,
       "left": null,
       "margin": null,
       "max_height": null,
       "max_width": null,
       "min_height": null,
       "min_width": null,
       "object_fit": null,
       "object_position": null,
       "order": null,
       "overflow": null,
       "padding": null,
       "right": null,
       "top": null,
       "visibility": null,
       "width": null
      }
     },
     "50cd0cc4d82f4d2fbec26403d093f567": {
      "model_module": "@jupyter-widgets/base",
      "model_module_version": "2.0.0",
      "model_name": "LayoutModel",
      "state": {
       "_model_module": "@jupyter-widgets/base",
       "_model_module_version": "2.0.0",
       "_model_name": "LayoutModel",
       "_view_count": null,
       "_view_module": "@jupyter-widgets/base",
       "_view_module_version": "2.0.0",
       "_view_name": "LayoutView",
       "align_content": null,
       "align_items": null,
       "align_self": null,
       "border_bottom": null,
       "border_left": null,
       "border_right": null,
       "border_top": null,
       "bottom": null,
       "display": null,
       "flex": null,
       "flex_flow": null,
       "grid_area": null,
       "grid_auto_columns": null,
       "grid_auto_flow": null,
       "grid_auto_rows": null,
       "grid_column": null,
       "grid_gap": null,
       "grid_row": null,
       "grid_template_areas": null,
       "grid_template_columns": null,
       "grid_template_rows": null,
       "height": null,
       "justify_content": null,
       "justify_items": null,
       "left": null,
       "margin": null,
       "max_height": null,
       "max_width": null,
       "min_height": null,
       "min_width": null,
       "object_fit": null,
       "object_position": null,
       "order": null,
       "overflow": null,
       "padding": null,
       "right": null,
       "top": null,
       "visibility": null,
       "width": null
      }
     },
     "515cf621d18c44d48cdaeaa08cba1432": {
      "model_module": "@jupyter-widgets/controls",
      "model_module_version": "2.0.0",
      "model_name": "HTMLModel",
      "state": {
       "_dom_classes": [],
       "_model_module": "@jupyter-widgets/controls",
       "_model_module_version": "2.0.0",
       "_model_name": "HTMLModel",
       "_view_count": null,
       "_view_module": "@jupyter-widgets/controls",
       "_view_module_version": "2.0.0",
       "_view_name": "HTMLView",
       "description": "",
       "description_allow_html": false,
       "layout": "IPY_MODEL_362692432daf406f8132de6797403b3f",
       "placeholder": "​",
       "style": "IPY_MODEL_5e549871a7294c27a5a5280093905690",
       "tabbable": null,
       "tooltip": null,
       "value": " 14022/14022 [00:02&lt;00:00, 6707.19 examples/s]"
      }
     },
     "517e1be63efa42998cc3732dba2f1ea4": {
      "model_module": "@jupyter-widgets/base",
      "model_module_version": "2.0.0",
      "model_name": "LayoutModel",
      "state": {
       "_model_module": "@jupyter-widgets/base",
       "_model_module_version": "2.0.0",
       "_model_name": "LayoutModel",
       "_view_count": null,
       "_view_module": "@jupyter-widgets/base",
       "_view_module_version": "2.0.0",
       "_view_name": "LayoutView",
       "align_content": null,
       "align_items": null,
       "align_self": null,
       "border_bottom": null,
       "border_left": null,
       "border_right": null,
       "border_top": null,
       "bottom": null,
       "display": null,
       "flex": null,
       "flex_flow": null,
       "grid_area": null,
       "grid_auto_columns": null,
       "grid_auto_flow": null,
       "grid_auto_rows": null,
       "grid_column": null,
       "grid_gap": null,
       "grid_row": null,
       "grid_template_areas": null,
       "grid_template_columns": null,
       "grid_template_rows": null,
       "height": null,
       "justify_content": null,
       "justify_items": null,
       "left": null,
       "margin": null,
       "max_height": null,
       "max_width": null,
       "min_height": null,
       "min_width": null,
       "object_fit": null,
       "object_position": null,
       "order": null,
       "overflow": null,
       "padding": null,
       "right": null,
       "top": null,
       "visibility": null,
       "width": null
      }
     },
     "56d8bbafdd8344d6b176617d5e31afae": {
      "model_module": "@jupyter-widgets/controls",
      "model_module_version": "2.0.0",
      "model_name": "HTMLStyleModel",
      "state": {
       "_model_module": "@jupyter-widgets/controls",
       "_model_module_version": "2.0.0",
       "_model_name": "HTMLStyleModel",
       "_view_count": null,
       "_view_module": "@jupyter-widgets/base",
       "_view_module_version": "2.0.0",
       "_view_name": "StyleView",
       "background": null,
       "description_width": "",
       "font_size": null,
       "text_color": null
      }
     },
     "56fa8bec985d40ddb95f09deab5ca0fb": {
      "model_module": "@jupyter-widgets/controls",
      "model_module_version": "2.0.0",
      "model_name": "HTMLModel",
      "state": {
       "_dom_classes": [],
       "_model_module": "@jupyter-widgets/controls",
       "_model_module_version": "2.0.0",
       "_model_name": "HTMLModel",
       "_view_count": null,
       "_view_module": "@jupyter-widgets/controls",
       "_view_module_version": "2.0.0",
       "_view_name": "HTMLView",
       "description": "",
       "description_allow_html": false,
       "layout": "IPY_MODEL_f8ec7bda7e724aa38f7ee4141af98d84",
       "placeholder": "​",
       "style": "IPY_MODEL_b1cc4284d8e54fb587a44ca68f7931a5",
       "tabbable": null,
       "tooltip": null,
       "value": "Map: 100%"
      }
     },
     "56fe7652e19a4ad89839db79c68dfb1a": {
      "model_module": "@jupyter-widgets/controls",
      "model_module_version": "2.0.0",
      "model_name": "FloatProgressModel",
      "state": {
       "_dom_classes": [],
       "_model_module": "@jupyter-widgets/controls",
       "_model_module_version": "2.0.0",
       "_model_name": "FloatProgressModel",
       "_view_count": null,
       "_view_module": "@jupyter-widgets/controls",
       "_view_module_version": "2.0.0",
       "_view_name": "ProgressView",
       "bar_style": "success",
       "description": "",
       "description_allow_html": false,
       "layout": "IPY_MODEL_517e1be63efa42998cc3732dba2f1ea4",
       "max": 2329735129.0,
       "min": 0.0,
       "orientation": "horizontal",
       "style": "IPY_MODEL_461250e078334990ab6b7ec3afdf9d93",
       "tabbable": null,
       "tooltip": null,
       "value": 2329735129.0
      }
     },
     "59423913963440a59f305e0db498d40c": {
      "model_module": "@jupyter-widgets/controls",
      "model_module_version": "2.0.0",
      "model_name": "HTMLStyleModel",
      "state": {
       "_model_module": "@jupyter-widgets/controls",
       "_model_module_version": "2.0.0",
       "_model_name": "HTMLStyleModel",
       "_view_count": null,
       "_view_module": "@jupyter-widgets/base",
       "_view_module_version": "2.0.0",
       "_view_name": "StyleView",
       "background": null,
       "description_width": "",
       "font_size": null,
       "text_color": null
      }
     },
     "5d1d428cced54cc3a237f048749d5e14": {
      "model_module": "@jupyter-widgets/controls",
      "model_module_version": "2.0.0",
      "model_name": "HTMLStyleModel",
      "state": {
       "_model_module": "@jupyter-widgets/controls",
       "_model_module_version": "2.0.0",
       "_model_name": "HTMLStyleModel",
       "_view_count": null,
       "_view_module": "@jupyter-widgets/base",
       "_view_module_version": "2.0.0",
       "_view_name": "StyleView",
       "background": null,
       "description_width": "",
       "font_size": null,
       "text_color": null
      }
     },
     "5e549871a7294c27a5a5280093905690": {
      "model_module": "@jupyter-widgets/controls",
      "model_module_version": "2.0.0",
      "model_name": "HTMLStyleModel",
      "state": {
       "_model_module": "@jupyter-widgets/controls",
       "_model_module_version": "2.0.0",
       "_model_name": "HTMLStyleModel",
       "_view_count": null,
       "_view_module": "@jupyter-widgets/base",
       "_view_module_version": "2.0.0",
       "_view_name": "StyleView",
       "background": null,
       "description_width": "",
       "font_size": null,
       "text_color": null
      }
     },
     "5f9342dc49fd4cdf890a002caead2d42": {
      "model_module": "@jupyter-widgets/base",
      "model_module_version": "2.0.0",
      "model_name": "LayoutModel",
      "state": {
       "_model_module": "@jupyter-widgets/base",
       "_model_module_version": "2.0.0",
       "_model_name": "LayoutModel",
       "_view_count": null,
       "_view_module": "@jupyter-widgets/base",
       "_view_module_version": "2.0.0",
       "_view_name": "LayoutView",
       "align_content": null,
       "align_items": null,
       "align_self": null,
       "border_bottom": null,
       "border_left": null,
       "border_right": null,
       "border_top": null,
       "bottom": null,
       "display": null,
       "flex": null,
       "flex_flow": null,
       "grid_area": null,
       "grid_auto_columns": null,
       "grid_auto_flow": null,
       "grid_auto_rows": null,
       "grid_column": null,
       "grid_gap": null,
       "grid_row": null,
       "grid_template_areas": null,
       "grid_template_columns": null,
       "grid_template_rows": null,
       "height": null,
       "justify_content": null,
       "justify_items": null,
       "left": null,
       "margin": null,
       "max_height": null,
       "max_width": null,
       "min_height": null,
       "min_width": null,
       "object_fit": null,
       "object_position": null,
       "order": null,
       "overflow": null,
       "padding": null,
       "right": null,
       "top": null,
       "visibility": null,
       "width": null
      }
     },
     "60d7a167c6cf4e6dac4f43db91bb9356": {
      "model_module": "@jupyter-widgets/controls",
      "model_module_version": "2.0.0",
      "model_name": "HBoxModel",
      "state": {
       "_dom_classes": [],
       "_model_module": "@jupyter-widgets/controls",
       "_model_module_version": "2.0.0",
       "_model_name": "HBoxModel",
       "_view_count": null,
       "_view_module": "@jupyter-widgets/controls",
       "_view_module_version": "2.0.0",
       "_view_name": "HBoxView",
       "box_style": "",
       "children": [
        "IPY_MODEL_fd8191bf429e4eabb0d7ed228628a2ed",
        "IPY_MODEL_f15ad56189d6458e93807d1da9e9c393",
        "IPY_MODEL_14bca69e39274620b203916de4dee12f"
       ],
       "layout": "IPY_MODEL_907c465882e34c458d5a2f7cbbc197ae",
       "tabbable": null,
       "tooltip": null
      }
     },
     "61769b56d41f4df59da7e7c8174f2cb5": {
      "model_module": "@jupyter-widgets/base",
      "model_module_version": "2.0.0",
      "model_name": "LayoutModel",
      "state": {
       "_model_module": "@jupyter-widgets/base",
       "_model_module_version": "2.0.0",
       "_model_name": "LayoutModel",
       "_view_count": null,
       "_view_module": "@jupyter-widgets/base",
       "_view_module_version": "2.0.0",
       "_view_name": "LayoutView",
       "align_content": null,
       "align_items": null,
       "align_self": null,
       "border_bottom": null,
       "border_left": null,
       "border_right": null,
       "border_top": null,
       "bottom": null,
       "display": null,
       "flex": null,
       "flex_flow": null,
       "grid_area": null,
       "grid_auto_columns": null,
       "grid_auto_flow": null,
       "grid_auto_rows": null,
       "grid_column": null,
       "grid_gap": null,
       "grid_row": null,
       "grid_template_areas": null,
       "grid_template_columns": null,
       "grid_template_rows": null,
       "height": null,
       "justify_content": null,
       "justify_items": null,
       "left": null,
       "margin": null,
       "max_height": null,
       "max_width": null,
       "min_height": null,
       "min_width": null,
       "object_fit": null,
       "object_position": null,
       "order": null,
       "overflow": null,
       "padding": null,
       "right": null,
       "top": null,
       "visibility": null,
       "width": null
      }
     },
     "63f839f3c7ae49a8a818fa9e968d45de": {
      "model_module": "@jupyter-widgets/controls",
      "model_module_version": "2.0.0",
      "model_name": "FloatProgressModel",
      "state": {
       "_dom_classes": [],
       "_model_module": "@jupyter-widgets/controls",
       "_model_module_version": "2.0.0",
       "_model_name": "FloatProgressModel",
       "_view_count": null,
       "_view_module": "@jupyter-widgets/controls",
       "_view_module_version": "2.0.0",
       "_view_name": "ProgressView",
       "bar_style": "success",
       "description": "",
       "description_allow_html": false,
       "layout": "IPY_MODEL_8491bee5e7664e36878b480d7a180548",
       "max": 702.0,
       "min": 0.0,
       "orientation": "horizontal",
       "style": "IPY_MODEL_df2e65b88c2c4d3ca25bbbbcc29281eb",
       "tabbable": null,
       "tooltip": null,
       "value": 702.0
      }
     },
     "64e29d64e0e143308bc63db072aae5c6": {
      "model_module": "@jupyter-widgets/base",
      "model_module_version": "2.0.0",
      "model_name": "LayoutModel",
      "state": {
       "_model_module": "@jupyter-widgets/base",
       "_model_module_version": "2.0.0",
       "_model_name": "LayoutModel",
       "_view_count": null,
       "_view_module": "@jupyter-widgets/base",
       "_view_module_version": "2.0.0",
       "_view_name": "LayoutView",
       "align_content": null,
       "align_items": null,
       "align_self": null,
       "border_bottom": null,
       "border_left": null,
       "border_right": null,
       "border_top": null,
       "bottom": null,
       "display": null,
       "flex": null,
       "flex_flow": null,
       "grid_area": null,
       "grid_auto_columns": null,
       "grid_auto_flow": null,
       "grid_auto_rows": null,
       "grid_column": null,
       "grid_gap": null,
       "grid_row": null,
       "grid_template_areas": null,
       "grid_template_columns": null,
       "grid_template_rows": null,
       "height": null,
       "justify_content": null,
       "justify_items": null,
       "left": null,
       "margin": null,
       "max_height": null,
       "max_width": null,
       "min_height": null,
       "min_width": null,
       "object_fit": null,
       "object_position": null,
       "order": null,
       "overflow": null,
       "padding": null,
       "right": null,
       "top": null,
       "visibility": null,
       "width": null
      }
     },
     "6660bb5b3ae241079b99806a0be481c8": {
      "model_module": "@jupyter-widgets/base",
      "model_module_version": "2.0.0",
      "model_name": "LayoutModel",
      "state": {
       "_model_module": "@jupyter-widgets/base",
       "_model_module_version": "2.0.0",
       "_model_name": "LayoutModel",
       "_view_count": null,
       "_view_module": "@jupyter-widgets/base",
       "_view_module_version": "2.0.0",
       "_view_name": "LayoutView",
       "align_content": null,
       "align_items": null,
       "align_self": null,
       "border_bottom": null,
       "border_left": null,
       "border_right": null,
       "border_top": null,
       "bottom": null,
       "display": null,
       "flex": null,
       "flex_flow": null,
       "grid_area": null,
       "grid_auto_columns": null,
       "grid_auto_flow": null,
       "grid_auto_rows": null,
       "grid_column": null,
       "grid_gap": null,
       "grid_row": null,
       "grid_template_areas": null,
       "grid_template_columns": null,
       "grid_template_rows": null,
       "height": null,
       "justify_content": null,
       "justify_items": null,
       "left": null,
       "margin": null,
       "max_height": null,
       "max_width": null,
       "min_height": null,
       "min_width": null,
       "object_fit": null,
       "object_position": null,
       "order": null,
       "overflow": null,
       "padding": null,
       "right": null,
       "top": null,
       "visibility": null,
       "width": null
      }
     },
     "6e24d68f10834da1804c6ec27ab4ef02": {
      "model_module": "@jupyter-widgets/controls",
      "model_module_version": "2.0.0",
      "model_name": "FloatProgressModel",
      "state": {
       "_dom_classes": [],
       "_model_module": "@jupyter-widgets/controls",
       "_model_module_version": "2.0.0",
       "_model_name": "FloatProgressModel",
       "_view_count": null,
       "_view_module": "@jupyter-widgets/controls",
       "_view_module_version": "2.0.0",
       "_view_name": "ProgressView",
       "bar_style": "success",
       "description": "",
       "description_allow_html": false,
       "layout": "IPY_MODEL_c78279e12fc944b78855ce9a03535a41",
       "max": 147.0,
       "min": 0.0,
       "orientation": "horizontal",
       "style": "IPY_MODEL_c1a97d89ec6c499c83c3cce04f32d04c",
       "tabbable": null,
       "tooltip": null,
       "value": 147.0
      }
     },
     "707f071bfc534ca08b6ec905eeecd059": {
      "model_module": "@jupyter-widgets/controls",
      "model_module_version": "2.0.0",
      "model_name": "FloatProgressModel",
      "state": {
       "_dom_classes": [],
       "_model_module": "@jupyter-widgets/controls",
       "_model_module_version": "2.0.0",
       "_model_name": "FloatProgressModel",
       "_view_count": null,
       "_view_module": "@jupyter-widgets/controls",
       "_view_module_version": "2.0.0",
       "_view_name": "ProgressView",
       "bar_style": "success",
       "description": "",
       "description_allow_html": false,
       "layout": "IPY_MODEL_5f9342dc49fd4cdf890a002caead2d42",
       "max": 1753.0,
       "min": 0.0,
       "orientation": "horizontal",
       "style": "IPY_MODEL_8e6bad85b12d4daeba03df2625b1b363",
       "tabbable": null,
       "tooltip": null,
       "value": 1753.0
      }
     },
     "760bb5c6431c4d33b752aee4b517d0cb": {
      "model_module": "@jupyter-widgets/controls",
      "model_module_version": "2.0.0",
      "model_name": "HTMLStyleModel",
      "state": {
       "_model_module": "@jupyter-widgets/controls",
       "_model_module_version": "2.0.0",
       "_model_name": "HTMLStyleModel",
       "_view_count": null,
       "_view_module": "@jupyter-widgets/base",
       "_view_module_version": "2.0.0",
       "_view_name": "StyleView",
       "background": null,
       "description_width": "",
       "font_size": null,
       "text_color": null
      }
     },
     "77eea445aa3a48b68966dde3a7b089cb": {
      "model_module": "@jupyter-widgets/base",
      "model_module_version": "2.0.0",
      "model_name": "LayoutModel",
      "state": {
       "_model_module": "@jupyter-widgets/base",
       "_model_module_version": "2.0.0",
       "_model_name": "LayoutModel",
       "_view_count": null,
       "_view_module": "@jupyter-widgets/base",
       "_view_module_version": "2.0.0",
       "_view_name": "LayoutView",
       "align_content": null,
       "align_items": null,
       "align_self": null,
       "border_bottom": null,
       "border_left": null,
       "border_right": null,
       "border_top": null,
       "bottom": null,
       "display": null,
       "flex": null,
       "flex_flow": null,
       "grid_area": null,
       "grid_auto_columns": null,
       "grid_auto_flow": null,
       "grid_auto_rows": null,
       "grid_column": null,
       "grid_gap": null,
       "grid_row": null,
       "grid_template_areas": null,
       "grid_template_columns": null,
       "grid_template_rows": null,
       "height": null,
       "justify_content": null,
       "justify_items": null,
       "left": null,
       "margin": null,
       "max_height": null,
       "max_width": null,
       "min_height": null,
       "min_width": null,
       "object_fit": null,
       "object_position": null,
       "order": null,
       "overflow": null,
       "padding": null,
       "right": null,
       "top": null,
       "visibility": null,
       "width": null
      }
     },
     "7c3b0e80514e45a5b430f68d1f135af2": {
      "model_module": "@jupyter-widgets/base",
      "model_module_version": "2.0.0",
      "model_name": "LayoutModel",
      "state": {
       "_model_module": "@jupyter-widgets/base",
       "_model_module_version": "2.0.0",
       "_model_name": "LayoutModel",
       "_view_count": null,
       "_view_module": "@jupyter-widgets/base",
       "_view_module_version": "2.0.0",
       "_view_name": "LayoutView",
       "align_content": null,
       "align_items": null,
       "align_self": null,
       "border_bottom": null,
       "border_left": null,
       "border_right": null,
       "border_top": null,
       "bottom": null,
       "display": null,
       "flex": null,
       "flex_flow": null,
       "grid_area": null,
       "grid_auto_columns": null,
       "grid_auto_flow": null,
       "grid_auto_rows": null,
       "grid_column": null,
       "grid_gap": null,
       "grid_row": null,
       "grid_template_areas": null,
       "grid_template_columns": null,
       "grid_template_rows": null,
       "height": null,
       "justify_content": null,
       "justify_items": null,
       "left": null,
       "margin": null,
       "max_height": null,
       "max_width": null,
       "min_height": null,
       "min_width": null,
       "object_fit": null,
       "object_position": null,
       "order": null,
       "overflow": null,
       "padding": null,
       "right": null,
       "top": null,
       "visibility": null,
       "width": null
      }
     },
     "7d75729ccf9e444daedcfa9b69a1f567": {
      "model_module": "@jupyter-widgets/base",
      "model_module_version": "2.0.0",
      "model_name": "LayoutModel",
      "state": {
       "_model_module": "@jupyter-widgets/base",
       "_model_module_version": "2.0.0",
       "_model_name": "LayoutModel",
       "_view_count": null,
       "_view_module": "@jupyter-widgets/base",
       "_view_module_version": "2.0.0",
       "_view_name": "LayoutView",
       "align_content": null,
       "align_items": null,
       "align_self": null,
       "border_bottom": null,
       "border_left": null,
       "border_right": null,
       "border_top": null,
       "bottom": null,
       "display": null,
       "flex": null,
       "flex_flow": null,
       "grid_area": null,
       "grid_auto_columns": null,
       "grid_auto_flow": null,
       "grid_auto_rows": null,
       "grid_column": null,
       "grid_gap": null,
       "grid_row": null,
       "grid_template_areas": null,
       "grid_template_columns": null,
       "grid_template_rows": null,
       "height": null,
       "justify_content": null,
       "justify_items": null,
       "left": null,
       "margin": null,
       "max_height": null,
       "max_width": null,
       "min_height": null,
       "min_width": null,
       "object_fit": null,
       "object_position": null,
       "order": null,
       "overflow": null,
       "padding": null,
       "right": null,
       "top": null,
       "visibility": null,
       "width": null
      }
     },
     "7fb819716196446b8e3372f2071931d5": {
      "model_module": "@jupyter-widgets/base",
      "model_module_version": "2.0.0",
      "model_name": "LayoutModel",
      "state": {
       "_model_module": "@jupyter-widgets/base",
       "_model_module_version": "2.0.0",
       "_model_name": "LayoutModel",
       "_view_count": null,
       "_view_module": "@jupyter-widgets/base",
       "_view_module_version": "2.0.0",
       "_view_name": "LayoutView",
       "align_content": null,
       "align_items": null,
       "align_self": null,
       "border_bottom": null,
       "border_left": null,
       "border_right": null,
       "border_top": null,
       "bottom": null,
       "display": null,
       "flex": null,
       "flex_flow": null,
       "grid_area": null,
       "grid_auto_columns": null,
       "grid_auto_flow": null,
       "grid_auto_rows": null,
       "grid_column": null,
       "grid_gap": null,
       "grid_row": null,
       "grid_template_areas": null,
       "grid_template_columns": null,
       "grid_template_rows": null,
       "height": null,
       "justify_content": null,
       "justify_items": null,
       "left": null,
       "margin": null,
       "max_height": null,
       "max_width": null,
       "min_height": null,
       "min_width": null,
       "object_fit": null,
       "object_position": null,
       "order": null,
       "overflow": null,
       "padding": null,
       "right": null,
       "top": null,
       "visibility": null,
       "width": null
      }
     },
     "80ef3b17e36a48fa8557887d45e128af": {
      "model_module": "@jupyter-widgets/base",
      "model_module_version": "2.0.0",
      "model_name": "LayoutModel",
      "state": {
       "_model_module": "@jupyter-widgets/base",
       "_model_module_version": "2.0.0",
       "_model_name": "LayoutModel",
       "_view_count": null,
       "_view_module": "@jupyter-widgets/base",
       "_view_module_version": "2.0.0",
       "_view_name": "LayoutView",
       "align_content": null,
       "align_items": null,
       "align_self": null,
       "border_bottom": null,
       "border_left": null,
       "border_right": null,
       "border_top": null,
       "bottom": null,
       "display": null,
       "flex": null,
       "flex_flow": null,
       "grid_area": null,
       "grid_auto_columns": null,
       "grid_auto_flow": null,
       "grid_auto_rows": null,
       "grid_column": null,
       "grid_gap": null,
       "grid_row": null,
       "grid_template_areas": null,
       "grid_template_columns": null,
       "grid_template_rows": null,
       "height": null,
       "justify_content": null,
       "justify_items": null,
       "left": null,
       "margin": null,
       "max_height": null,
       "max_width": null,
       "min_height": null,
       "min_width": null,
       "object_fit": null,
       "object_position": null,
       "order": null,
       "overflow": null,
       "padding": null,
       "right": null,
       "top": null,
       "visibility": null,
       "width": null
      }
     },
     "8116d447b2fe43ae9d9019125a137f29": {
      "model_module": "@jupyter-widgets/controls",
      "model_module_version": "2.0.0",
      "model_name": "HTMLModel",
      "state": {
       "_dom_classes": [],
       "_model_module": "@jupyter-widgets/controls",
       "_model_module_version": "2.0.0",
       "_model_name": "HTMLModel",
       "_view_count": null,
       "_view_module": "@jupyter-widgets/controls",
       "_view_module_version": "2.0.0",
       "_view_name": "HTMLView",
       "description": "",
       "description_allow_html": false,
       "layout": "IPY_MODEL_6660bb5b3ae241079b99806a0be481c8",
       "placeholder": "​",
       "style": "IPY_MODEL_931bb632b04b4131b0a29ac480941fa0",
       "tabbable": null,
       "tooltip": null,
       "value": "generation_config.json: 100%"
      }
     },
     "8491bee5e7664e36878b480d7a180548": {
      "model_module": "@jupyter-widgets/base",
      "model_module_version": "2.0.0",
      "model_name": "LayoutModel",
      "state": {
       "_model_module": "@jupyter-widgets/base",
       "_model_module_version": "2.0.0",
       "_model_name": "LayoutModel",
       "_view_count": null,
       "_view_module": "@jupyter-widgets/base",
       "_view_module_version": "2.0.0",
       "_view_name": "LayoutView",
       "align_content": null,
       "align_items": null,
       "align_self": null,
       "border_bottom": null,
       "border_left": null,
       "border_right": null,
       "border_top": null,
       "bottom": null,
       "display": null,
       "flex": null,
       "flex_flow": null,
       "grid_area": null,
       "grid_auto_columns": null,
       "grid_auto_flow": null,
       "grid_auto_rows": null,
       "grid_column": null,
       "grid_gap": null,
       "grid_row": null,
       "grid_template_areas": null,
       "grid_template_columns": null,
       "grid_template_rows": null,
       "height": null,
       "justify_content": null,
       "justify_items": null,
       "left": null,
       "margin": null,
       "max_height": null,
       "max_width": null,
       "min_height": null,
       "min_width": null,
       "object_fit": null,
       "object_position": null,
       "order": null,
       "overflow": null,
       "padding": null,
       "right": null,
       "top": null,
       "visibility": null,
       "width": null
      }
     },
     "853d1c2ba81f45d598d483b28d6c1489": {
      "model_module": "@jupyter-widgets/controls",
      "model_module_version": "2.0.0",
      "model_name": "ProgressStyleModel",
      "state": {
       "_model_module": "@jupyter-widgets/controls",
       "_model_module_version": "2.0.0",
       "_model_name": "ProgressStyleModel",
       "_view_count": null,
       "_view_module": "@jupyter-widgets/base",
       "_view_module_version": "2.0.0",
       "_view_name": "StyleView",
       "bar_color": null,
       "description_width": ""
      }
     },
     "85e38cbb00254ce0851bcb25e2e5f65b": {
      "model_module": "@jupyter-widgets/controls",
      "model_module_version": "2.0.0",
      "model_name": "HTMLStyleModel",
      "state": {
       "_model_module": "@jupyter-widgets/controls",
       "_model_module_version": "2.0.0",
       "_model_name": "HTMLStyleModel",
       "_view_count": null,
       "_view_module": "@jupyter-widgets/base",
       "_view_module_version": "2.0.0",
       "_view_name": "StyleView",
       "background": null,
       "description_width": "",
       "font_size": null,
       "text_color": null
      }
     },
     "8dbb8fb9799c40f6ab28aa4da16982cd": {
      "model_module": "@jupyter-widgets/controls",
      "model_module_version": "2.0.0",
      "model_name": "HBoxModel",
      "state": {
       "_dom_classes": [],
       "_model_module": "@jupyter-widgets/controls",
       "_model_module_version": "2.0.0",
       "_model_name": "HBoxModel",
       "_view_count": null,
       "_view_module": "@jupyter-widgets/controls",
       "_view_module_version": "2.0.0",
       "_view_name": "HBoxView",
       "box_style": "",
       "children": [
        "IPY_MODEL_8116d447b2fe43ae9d9019125a137f29",
        "IPY_MODEL_6e24d68f10834da1804c6ec27ab4ef02",
        "IPY_MODEL_af4d2d767ca341729d350818aab95f77"
       ],
       "layout": "IPY_MODEL_f7b8443744734d9290d26edd584b33f0",
       "tabbable": null,
       "tooltip": null
      }
     },
     "8dc57f7ac9cc4502962ec812ec641c32": {
      "model_module": "@jupyter-widgets/controls",
      "model_module_version": "2.0.0",
      "model_name": "HTMLStyleModel",
      "state": {
       "_model_module": "@jupyter-widgets/controls",
       "_model_module_version": "2.0.0",
       "_model_name": "HTMLStyleModel",
       "_view_count": null,
       "_view_module": "@jupyter-widgets/base",
       "_view_module_version": "2.0.0",
       "_view_name": "StyleView",
       "background": null,
       "description_width": "",
       "font_size": null,
       "text_color": null
      }
     },
     "8e6bad85b12d4daeba03df2625b1b363": {
      "model_module": "@jupyter-widgets/controls",
      "model_module_version": "2.0.0",
      "model_name": "ProgressStyleModel",
      "state": {
       "_model_module": "@jupyter-widgets/controls",
       "_model_module_version": "2.0.0",
       "_model_name": "ProgressStyleModel",
       "_view_count": null,
       "_view_module": "@jupyter-widgets/base",
       "_view_module_version": "2.0.0",
       "_view_name": "StyleView",
       "bar_color": null,
       "description_width": ""
      }
     },
     "8f7403a9980f4c4487614135607947c5": {
      "model_module": "@jupyter-widgets/controls",
      "model_module_version": "2.0.0",
      "model_name": "HTMLModel",
      "state": {
       "_dom_classes": [],
       "_model_module": "@jupyter-widgets/controls",
       "_model_module_version": "2.0.0",
       "_model_name": "HTMLModel",
       "_view_count": null,
       "_view_module": "@jupyter-widgets/controls",
       "_view_module_version": "2.0.0",
       "_view_name": "HTMLView",
       "description": "",
       "description_allow_html": false,
       "layout": "IPY_MODEL_ca8a413119f34ecc9533648aae29d4fc",
       "placeholder": "​",
       "style": "IPY_MODEL_8dc57f7ac9cc4502962ec812ec641c32",
       "tabbable": null,
       "tooltip": null,
       "value": " 2.33G/2.33G [00:06&lt;00:00, 760MB/s]"
      }
     },
     "907c465882e34c458d5a2f7cbbc197ae": {
      "model_module": "@jupyter-widgets/base",
      "model_module_version": "2.0.0",
      "model_name": "LayoutModel",
      "state": {
       "_model_module": "@jupyter-widgets/base",
       "_model_module_version": "2.0.0",
       "_model_name": "LayoutModel",
       "_view_count": null,
       "_view_module": "@jupyter-widgets/base",
       "_view_module_version": "2.0.0",
       "_view_name": "LayoutView",
       "align_content": null,
       "align_items": null,
       "align_self": null,
       "border_bottom": null,
       "border_left": null,
       "border_right": null,
       "border_top": null,
       "bottom": null,
       "display": null,
       "flex": null,
       "flex_flow": null,
       "grid_area": null,
       "grid_auto_columns": null,
       "grid_auto_flow": null,
       "grid_auto_rows": null,
       "grid_column": null,
       "grid_gap": null,
       "grid_row": null,
       "grid_template_areas": null,
       "grid_template_columns": null,
       "grid_template_rows": null,
       "height": null,
       "justify_content": null,
       "justify_items": null,
       "left": null,
       "margin": null,
       "max_height": null,
       "max_width": null,
       "min_height": null,
       "min_width": null,
       "object_fit": null,
       "object_position": null,
       "order": null,
       "overflow": null,
       "padding": null,
       "right": null,
       "top": null,
       "visibility": null,
       "width": null
      }
     },
     "908f53654f754cf290655677c744d715": {
      "model_module": "@jupyter-widgets/controls",
      "model_module_version": "2.0.0",
      "model_name": "ProgressStyleModel",
      "state": {
       "_model_module": "@jupyter-widgets/controls",
       "_model_module_version": "2.0.0",
       "_model_name": "ProgressStyleModel",
       "_view_count": null,
       "_view_module": "@jupyter-widgets/base",
       "_view_module_version": "2.0.0",
       "_view_name": "StyleView",
       "bar_color": null,
       "description_width": ""
      }
     },
     "910f0925199e42349d8fcf04f03cdeb3": {
      "model_module": "@jupyter-widgets/controls",
      "model_module_version": "2.0.0",
      "model_name": "FloatProgressModel",
      "state": {
       "_dom_classes": [],
       "_model_module": "@jupyter-widgets/controls",
       "_model_module_version": "2.0.0",
       "_model_name": "FloatProgressModel",
       "_view_count": null,
       "_view_module": "@jupyter-widgets/controls",
       "_view_module_version": "2.0.0",
       "_view_name": "ProgressView",
       "bar_style": "success",
       "description": "",
       "description_allow_html": false,
       "layout": "IPY_MODEL_f15d58db0b1a4cd9ab478374055b15dc",
       "max": 1753.0,
       "min": 0.0,
       "orientation": "horizontal",
       "style": "IPY_MODEL_908f53654f754cf290655677c744d715",
       "tabbable": null,
       "tooltip": null,
       "value": 1753.0
      }
     },
     "91ebc8cedac143de8955a1100c95db3b": {
      "model_module": "@jupyter-widgets/controls",
      "model_module_version": "2.0.0",
      "model_name": "HTMLStyleModel",
      "state": {
       "_model_module": "@jupyter-widgets/controls",
       "_model_module_version": "2.0.0",
       "_model_name": "HTMLStyleModel",
       "_view_count": null,
       "_view_module": "@jupyter-widgets/base",
       "_view_module_version": "2.0.0",
       "_view_name": "StyleView",
       "background": null,
       "description_width": "",
       "font_size": null,
       "text_color": null
      }
     },
     "931bb632b04b4131b0a29ac480941fa0": {
      "model_module": "@jupyter-widgets/controls",
      "model_module_version": "2.0.0",
      "model_name": "HTMLStyleModel",
      "state": {
       "_model_module": "@jupyter-widgets/controls",
       "_model_module_version": "2.0.0",
       "_model_name": "HTMLStyleModel",
       "_view_count": null,
       "_view_module": "@jupyter-widgets/base",
       "_view_module_version": "2.0.0",
       "_view_name": "StyleView",
       "background": null,
       "description_width": "",
       "font_size": null,
       "text_color": null
      }
     },
     "99bd2decb8614324afa19a299357c153": {
      "model_module": "@jupyter-widgets/controls",
      "model_module_version": "2.0.0",
      "model_name": "FloatProgressModel",
      "state": {
       "_dom_classes": [],
       "_model_module": "@jupyter-widgets/controls",
       "_model_module_version": "2.0.0",
       "_model_name": "FloatProgressModel",
       "_view_count": null,
       "_view_module": "@jupyter-widgets/controls",
       "_view_module_version": "2.0.0",
       "_view_name": "ProgressView",
       "bar_style": "success",
       "description": "",
       "description_allow_html": false,
       "layout": "IPY_MODEL_36e528a8deaa41fb978b753f3cda9fe0",
       "max": 14022.0,
       "min": 0.0,
       "orientation": "horizontal",
       "style": "IPY_MODEL_106e567932884d1495ccbc521e303239",
       "tabbable": null,
       "tooltip": null,
       "value": 14022.0
      }
     },
     "9b6de032f7124d25867712cdeb48013f": {
      "model_module": "@jupyter-widgets/controls",
      "model_module_version": "2.0.0",
      "model_name": "ProgressStyleModel",
      "state": {
       "_model_module": "@jupyter-widgets/controls",
       "_model_module_version": "2.0.0",
       "_model_name": "ProgressStyleModel",
       "_view_count": null,
       "_view_module": "@jupyter-widgets/base",
       "_view_module_version": "2.0.0",
       "_view_name": "StyleView",
       "bar_color": null,
       "description_width": ""
      }
     },
     "9ddeb912b47d45769a594da27e45d866": {
      "model_module": "@jupyter-widgets/base",
      "model_module_version": "2.0.0",
      "model_name": "LayoutModel",
      "state": {
       "_model_module": "@jupyter-widgets/base",
       "_model_module_version": "2.0.0",
       "_model_name": "LayoutModel",
       "_view_count": null,
       "_view_module": "@jupyter-widgets/base",
       "_view_module_version": "2.0.0",
       "_view_name": "LayoutView",
       "align_content": null,
       "align_items": null,
       "align_self": null,
       "border_bottom": null,
       "border_left": null,
       "border_right": null,
       "border_top": null,
       "bottom": null,
       "display": null,
       "flex": null,
       "flex_flow": null,
       "grid_area": null,
       "grid_auto_columns": null,
       "grid_auto_flow": null,
       "grid_auto_rows": null,
       "grid_column": null,
       "grid_gap": null,
       "grid_row": null,
       "grid_template_areas": null,
       "grid_template_columns": null,
       "grid_template_rows": null,
       "height": null,
       "justify_content": null,
       "justify_items": null,
       "left": null,
       "margin": null,
       "max_height": null,
       "max_width": null,
       "min_height": null,
       "min_width": null,
       "object_fit": null,
       "object_position": null,
       "order": null,
       "overflow": null,
       "padding": null,
       "right": null,
       "top": null,
       "visibility": null,
       "width": null
      }
     },
     "a8bce576f8b44d42bccdfa865804c930": {
      "model_module": "@jupyter-widgets/controls",
      "model_module_version": "2.0.0",
      "model_name": "HTMLModel",
      "state": {
       "_dom_classes": [],
       "_model_module": "@jupyter-widgets/controls",
       "_model_module_version": "2.0.0",
       "_model_name": "HTMLModel",
       "_view_count": null,
       "_view_module": "@jupyter-widgets/controls",
       "_view_module_version": "2.0.0",
       "_view_name": "HTMLView",
       "description": "",
       "description_allow_html": false,
       "layout": "IPY_MODEL_80ef3b17e36a48fa8557887d45e128af",
       "placeholder": "​",
       "style": "IPY_MODEL_56d8bbafdd8344d6b176617d5e31afae",
       "tabbable": null,
       "tooltip": null,
       "value": " 376/376 [00:00&lt;00:00, 26.3kB/s]"
      }
     },
     "a9520ee164084a6cbb99dd4c4ccdb9b5": {
      "model_module": "@jupyter-widgets/base",
      "model_module_version": "2.0.0",
      "model_name": "LayoutModel",
      "state": {
       "_model_module": "@jupyter-widgets/base",
       "_model_module_version": "2.0.0",
       "_model_name": "LayoutModel",
       "_view_count": null,
       "_view_module": "@jupyter-widgets/base",
       "_view_module_version": "2.0.0",
       "_view_name": "LayoutView",
       "align_content": null,
       "align_items": null,
       "align_self": null,
       "border_bottom": null,
       "border_left": null,
       "border_right": null,
       "border_top": null,
       "bottom": null,
       "display": null,
       "flex": null,
       "flex_flow": null,
       "grid_area": null,
       "grid_auto_columns": null,
       "grid_auto_flow": null,
       "grid_auto_rows": null,
       "grid_column": null,
       "grid_gap": null,
       "grid_row": null,
       "grid_template_areas": null,
       "grid_template_columns": null,
       "grid_template_rows": null,
       "height": null,
       "justify_content": null,
       "justify_items": null,
       "left": null,
       "margin": null,
       "max_height": null,
       "max_width": null,
       "min_height": null,
       "min_width": null,
       "object_fit": null,
       "object_position": null,
       "order": null,
       "overflow": null,
       "padding": null,
       "right": null,
       "top": null,
       "visibility": null,
       "width": null
      }
     },
     "ac7b04de948240b2b98cfa88227dfeb0": {
      "model_module": "@jupyter-widgets/controls",
      "model_module_version": "2.0.0",
      "model_name": "HTMLStyleModel",
      "state": {
       "_model_module": "@jupyter-widgets/controls",
       "_model_module_version": "2.0.0",
       "_model_name": "HTMLStyleModel",
       "_view_count": null,
       "_view_module": "@jupyter-widgets/base",
       "_view_module_version": "2.0.0",
       "_view_name": "StyleView",
       "background": null,
       "description_width": "",
       "font_size": null,
       "text_color": null
      }
     },
     "af3272ddc4f547368d8af5a787bc7899": {
      "model_module": "@jupyter-widgets/controls",
      "model_module_version": "2.0.0",
      "model_name": "HTMLModel",
      "state": {
       "_dom_classes": [],
       "_model_module": "@jupyter-widgets/controls",
       "_model_module_version": "2.0.0",
       "_model_name": "HTMLModel",
       "_view_count": null,
       "_view_module": "@jupyter-widgets/controls",
       "_view_module_version": "2.0.0",
       "_view_name": "HTMLView",
       "description": "",
       "description_allow_html": false,
       "layout": "IPY_MODEL_a9520ee164084a6cbb99dd4c4ccdb9b5",
       "placeholder": "​",
       "style": "IPY_MODEL_0009e70b95f6463baa62c340cdfd2267",
       "tabbable": null,
       "tooltip": null,
       "value": "Map: 100%"
      }
     },
     "af4d2d767ca341729d350818aab95f77": {
      "model_module": "@jupyter-widgets/controls",
      "model_module_version": "2.0.0",
      "model_name": "HTMLModel",
      "state": {
       "_dom_classes": [],
       "_model_module": "@jupyter-widgets/controls",
       "_model_module_version": "2.0.0",
       "_model_name": "HTMLModel",
       "_view_count": null,
       "_view_module": "@jupyter-widgets/controls",
       "_view_module_version": "2.0.0",
       "_view_name": "HTMLView",
       "description": "",
       "description_allow_html": false,
       "layout": "IPY_MODEL_d07916e709294b40b0fa83df3654ba4e",
       "placeholder": "​",
       "style": "IPY_MODEL_16a88816e1854e4d9b585d60a6982c4e",
       "tabbable": null,
       "tooltip": null,
       "value": " 147/147 [00:00&lt;00:00, 19.3kB/s]"
      }
     },
     "b16db3f95e1b4ac1a55941d03c0be76c": {
      "model_module": "@jupyter-widgets/controls",
      "model_module_version": "2.0.0",
      "model_name": "HTMLModel",
      "state": {
       "_dom_classes": [],
       "_model_module": "@jupyter-widgets/controls",
       "_model_module_version": "2.0.0",
       "_model_name": "HTMLModel",
       "_view_count": null,
       "_view_module": "@jupyter-widgets/controls",
       "_view_module_version": "2.0.0",
       "_view_name": "HTMLView",
       "description": "",
       "description_allow_html": false,
       "layout": "IPY_MODEL_360de3b9709e459cb0fcf534463ee8ac",
       "placeholder": "​",
       "style": "IPY_MODEL_e98d5c488dbf47b2b407de200b463daf",
       "tabbable": null,
       "tooltip": null,
       "value": " 2.33G/2.33G [00:08&lt;00:00, 468MB/s]"
      }
     },
     "b1cc4284d8e54fb587a44ca68f7931a5": {
      "model_module": "@jupyter-widgets/controls",
      "model_module_version": "2.0.0",
      "model_name": "HTMLStyleModel",
      "state": {
       "_model_module": "@jupyter-widgets/controls",
       "_model_module_version": "2.0.0",
       "_model_name": "HTMLStyleModel",
       "_view_count": null,
       "_view_module": "@jupyter-widgets/base",
       "_view_module_version": "2.0.0",
       "_view_name": "StyleView",
       "background": null,
       "description_width": "",
       "font_size": null,
       "text_color": null
      }
     },
     "b5fc77f4607c4b8285ce3848228d870d": {
      "model_module": "@jupyter-widgets/base",
      "model_module_version": "2.0.0",
      "model_name": "LayoutModel",
      "state": {
       "_model_module": "@jupyter-widgets/base",
       "_model_module_version": "2.0.0",
       "_model_name": "LayoutModel",
       "_view_count": null,
       "_view_module": "@jupyter-widgets/base",
       "_view_module_version": "2.0.0",
       "_view_name": "LayoutView",
       "align_content": null,
       "align_items": null,
       "align_self": null,
       "border_bottom": null,
       "border_left": null,
       "border_right": null,
       "border_top": null,
       "bottom": null,
       "display": null,
       "flex": null,
       "flex_flow": null,
       "grid_area": null,
       "grid_auto_columns": null,
       "grid_auto_flow": null,
       "grid_auto_rows": null,
       "grid_column": null,
       "grid_gap": null,
       "grid_row": null,
       "grid_template_areas": null,
       "grid_template_columns": null,
       "grid_template_rows": null,
       "height": null,
       "justify_content": null,
       "justify_items": null,
       "left": null,
       "margin": null,
       "max_height": null,
       "max_width": null,
       "min_height": null,
       "min_width": null,
       "object_fit": null,
       "object_position": null,
       "order": null,
       "overflow": null,
       "padding": null,
       "right": null,
       "top": null,
       "visibility": null,
       "width": null
      }
     },
     "be63e26cc5cb4b56896ddfd7858db688": {
      "model_module": "@jupyter-widgets/controls",
      "model_module_version": "2.0.0",
      "model_name": "HTMLStyleModel",
      "state": {
       "_model_module": "@jupyter-widgets/controls",
       "_model_module_version": "2.0.0",
       "_model_name": "HTMLStyleModel",
       "_view_count": null,
       "_view_module": "@jupyter-widgets/base",
       "_view_module_version": "2.0.0",
       "_view_name": "StyleView",
       "background": null,
       "description_width": "",
       "font_size": null,
       "text_color": null
      }
     },
     "c1a97d89ec6c499c83c3cce04f32d04c": {
      "model_module": "@jupyter-widgets/controls",
      "model_module_version": "2.0.0",
      "model_name": "ProgressStyleModel",
      "state": {
       "_model_module": "@jupyter-widgets/controls",
       "_model_module_version": "2.0.0",
       "_model_name": "ProgressStyleModel",
       "_view_count": null,
       "_view_module": "@jupyter-widgets/base",
       "_view_module_version": "2.0.0",
       "_view_name": "StyleView",
       "bar_color": null,
       "description_width": ""
      }
     },
     "c73cda9d590f4d8e959b4783b09e95c2": {
      "model_module": "@jupyter-widgets/controls",
      "model_module_version": "2.0.0",
      "model_name": "HBoxModel",
      "state": {
       "_dom_classes": [],
       "_model_module": "@jupyter-widgets/controls",
       "_model_module_version": "2.0.0",
       "_model_name": "HBoxModel",
       "_view_count": null,
       "_view_module": "@jupyter-widgets/controls",
       "_view_module_version": "2.0.0",
       "_view_name": "HBoxView",
       "box_style": "",
       "children": [
        "IPY_MODEL_17165cd74e8b43a7b42898e2aa0caf00",
        "IPY_MODEL_c9a6eb88bffa4cd1a3e934e3ff8eb0b9",
        "IPY_MODEL_b16db3f95e1b4ac1a55941d03c0be76c"
       ],
       "layout": "IPY_MODEL_7c3b0e80514e45a5b430f68d1f135af2",
       "tabbable": null,
       "tooltip": null
      }
     },
     "c78279e12fc944b78855ce9a03535a41": {
      "model_module": "@jupyter-widgets/base",
      "model_module_version": "2.0.0",
      "model_name": "LayoutModel",
      "state": {
       "_model_module": "@jupyter-widgets/base",
       "_model_module_version": "2.0.0",
       "_model_name": "LayoutModel",
       "_view_count": null,
       "_view_module": "@jupyter-widgets/base",
       "_view_module_version": "2.0.0",
       "_view_name": "LayoutView",
       "align_content": null,
       "align_items": null,
       "align_self": null,
       "border_bottom": null,
       "border_left": null,
       "border_right": null,
       "border_top": null,
       "bottom": null,
       "display": null,
       "flex": null,
       "flex_flow": null,
       "grid_area": null,
       "grid_auto_columns": null,
       "grid_auto_flow": null,
       "grid_auto_rows": null,
       "grid_column": null,
       "grid_gap": null,
       "grid_row": null,
       "grid_template_areas": null,
       "grid_template_columns": null,
       "grid_template_rows": null,
       "height": null,
       "justify_content": null,
       "justify_items": null,
       "left": null,
       "margin": null,
       "max_height": null,
       "max_width": null,
       "min_height": null,
       "min_width": null,
       "object_fit": null,
       "object_position": null,
       "order": null,
       "overflow": null,
       "padding": null,
       "right": null,
       "top": null,
       "visibility": null,
       "width": null
      }
     },
     "c9a6eb88bffa4cd1a3e934e3ff8eb0b9": {
      "model_module": "@jupyter-widgets/controls",
      "model_module_version": "2.0.0",
      "model_name": "FloatProgressModel",
      "state": {
       "_dom_classes": [],
       "_model_module": "@jupyter-widgets/controls",
       "_model_module_version": "2.0.0",
       "_model_name": "FloatProgressModel",
       "_view_count": null,
       "_view_module": "@jupyter-widgets/controls",
       "_view_module_version": "2.0.0",
       "_view_name": "ProgressView",
       "bar_style": "success",
       "description": "",
       "description_allow_html": false,
       "layout": "IPY_MODEL_d29f24c515f14798931017fe0aecad1b",
       "max": 2329638856.0,
       "min": 0.0,
       "orientation": "horizontal",
       "style": "IPY_MODEL_13e26a257e494ed8bdf502c5e99cc376",
       "tabbable": null,
       "tooltip": null,
       "value": 2329638856.0
      }
     },
     "ca8a413119f34ecc9533648aae29d4fc": {
      "model_module": "@jupyter-widgets/base",
      "model_module_version": "2.0.0",
      "model_name": "LayoutModel",
      "state": {
       "_model_module": "@jupyter-widgets/base",
       "_model_module_version": "2.0.0",
       "_model_name": "LayoutModel",
       "_view_count": null,
       "_view_module": "@jupyter-widgets/base",
       "_view_module_version": "2.0.0",
       "_view_name": "LayoutView",
       "align_content": null,
       "align_items": null,
       "align_self": null,
       "border_bottom": null,
       "border_left": null,
       "border_right": null,
       "border_top": null,
       "bottom": null,
       "display": null,
       "flex": null,
       "flex_flow": null,
       "grid_area": null,
       "grid_auto_columns": null,
       "grid_auto_flow": null,
       "grid_auto_rows": null,
       "grid_column": null,
       "grid_gap": null,
       "grid_row": null,
       "grid_template_areas": null,
       "grid_template_columns": null,
       "grid_template_rows": null,
       "height": null,
       "justify_content": null,
       "justify_items": null,
       "left": null,
       "margin": null,
       "max_height": null,
       "max_width": null,
       "min_height": null,
       "min_width": null,
       "object_fit": null,
       "object_position": null,
       "order": null,
       "overflow": null,
       "padding": null,
       "right": null,
       "top": null,
       "visibility": null,
       "width": null
      }
     },
     "cc55b685a0b546e5afb292af2ce6cfae": {
      "model_module": "@jupyter-widgets/controls",
      "model_module_version": "2.0.0",
      "model_name": "HTMLModel",
      "state": {
       "_dom_classes": [],
       "_model_module": "@jupyter-widgets/controls",
       "_model_module_version": "2.0.0",
       "_model_name": "HTMLModel",
       "_view_count": null,
       "_view_module": "@jupyter-widgets/controls",
       "_view_module_version": "2.0.0",
       "_view_name": "HTMLView",
       "description": "",
       "description_allow_html": false,
       "layout": "IPY_MODEL_9ddeb912b47d45769a594da27e45d866",
       "placeholder": "​",
       "style": "IPY_MODEL_ac7b04de948240b2b98cfa88227dfeb0",
       "tabbable": null,
       "tooltip": null,
       "value": " 4.31M/4.31M [00:00&lt;00:00, 67.7MB/s]"
      }
     },
     "d07916e709294b40b0fa83df3654ba4e": {
      "model_module": "@jupyter-widgets/base",
      "model_module_version": "2.0.0",
      "model_name": "LayoutModel",
      "state": {
       "_model_module": "@jupyter-widgets/base",
       "_model_module_version": "2.0.0",
       "_model_name": "LayoutModel",
       "_view_count": null,
       "_view_module": "@jupyter-widgets/base",
       "_view_module_version": "2.0.0",
       "_view_name": "LayoutView",
       "align_content": null,
       "align_items": null,
       "align_self": null,
       "border_bottom": null,
       "border_left": null,
       "border_right": null,
       "border_top": null,
       "bottom": null,
       "display": null,
       "flex": null,
       "flex_flow": null,
       "grid_area": null,
       "grid_auto_columns": null,
       "grid_auto_flow": null,
       "grid_auto_rows": null,
       "grid_column": null,
       "grid_gap": null,
       "grid_row": null,
       "grid_template_areas": null,
       "grid_template_columns": null,
       "grid_template_rows": null,
       "height": null,
       "justify_content": null,
       "justify_items": null,
       "left": null,
       "margin": null,
       "max_height": null,
       "max_width": null,
       "min_height": null,
       "min_width": null,
       "object_fit": null,
       "object_position": null,
       "order": null,
       "overflow": null,
       "padding": null,
       "right": null,
       "top": null,
       "visibility": null,
       "width": null
      }
     },
     "d29f24c515f14798931017fe0aecad1b": {
      "model_module": "@jupyter-widgets/base",
      "model_module_version": "2.0.0",
      "model_name": "LayoutModel",
      "state": {
       "_model_module": "@jupyter-widgets/base",
       "_model_module_version": "2.0.0",
       "_model_name": "LayoutModel",
       "_view_count": null,
       "_view_module": "@jupyter-widgets/base",
       "_view_module_version": "2.0.0",
       "_view_name": "LayoutView",
       "align_content": null,
       "align_items": null,
       "align_self": null,
       "border_bottom": null,
       "border_left": null,
       "border_right": null,
       "border_top": null,
       "bottom": null,
       "display": null,
       "flex": null,
       "flex_flow": null,
       "grid_area": null,
       "grid_auto_columns": null,
       "grid_auto_flow": null,
       "grid_auto_rows": null,
       "grid_column": null,
       "grid_gap": null,
       "grid_row": null,
       "grid_template_areas": null,
       "grid_template_columns": null,
       "grid_template_rows": null,
       "height": null,
       "justify_content": null,
       "justify_items": null,
       "left": null,
       "margin": null,
       "max_height": null,
       "max_width": null,
       "min_height": null,
       "min_width": null,
       "object_fit": null,
       "object_position": null,
       "order": null,
       "overflow": null,
       "padding": null,
       "right": null,
       "top": null,
       "visibility": null,
       "width": null
      }
     },
     "da2891baf5f44caaaa9b9b687a64a8b8": {
      "model_module": "@jupyter-widgets/base",
      "model_module_version": "2.0.0",
      "model_name": "LayoutModel",
      "state": {
       "_model_module": "@jupyter-widgets/base",
       "_model_module_version": "2.0.0",
       "_model_name": "LayoutModel",
       "_view_count": null,
       "_view_module": "@jupyter-widgets/base",
       "_view_module_version": "2.0.0",
       "_view_name": "LayoutView",
       "align_content": null,
       "align_items": null,
       "align_self": null,
       "border_bottom": null,
       "border_left": null,
       "border_right": null,
       "border_top": null,
       "bottom": null,
       "display": null,
       "flex": null,
       "flex_flow": null,
       "grid_area": null,
       "grid_auto_columns": null,
       "grid_auto_flow": null,
       "grid_auto_rows": null,
       "grid_column": null,
       "grid_gap": null,
       "grid_row": null,
       "grid_template_areas": null,
       "grid_template_columns": null,
       "grid_template_rows": null,
       "height": null,
       "justify_content": null,
       "justify_items": null,
       "left": null,
       "margin": null,
       "max_height": null,
       "max_width": null,
       "min_height": null,
       "min_width": null,
       "object_fit": null,
       "object_position": null,
       "order": null,
       "overflow": null,
       "padding": null,
       "right": null,
       "top": null,
       "visibility": null,
       "width": null
      }
     },
     "da4bad5bf3464a6780c2af3798b732cd": {
      "model_module": "@jupyter-widgets/base",
      "model_module_version": "2.0.0",
      "model_name": "LayoutModel",
      "state": {
       "_model_module": "@jupyter-widgets/base",
       "_model_module_version": "2.0.0",
       "_model_name": "LayoutModel",
       "_view_count": null,
       "_view_module": "@jupyter-widgets/base",
       "_view_module_version": "2.0.0",
       "_view_name": "LayoutView",
       "align_content": null,
       "align_items": null,
       "align_self": null,
       "border_bottom": null,
       "border_left": null,
       "border_right": null,
       "border_top": null,
       "bottom": null,
       "display": null,
       "flex": null,
       "flex_flow": null,
       "grid_area": null,
       "grid_auto_columns": null,
       "grid_auto_flow": null,
       "grid_auto_rows": null,
       "grid_column": null,
       "grid_gap": null,
       "grid_row": null,
       "grid_template_areas": null,
       "grid_template_columns": null,
       "grid_template_rows": null,
       "height": null,
       "justify_content": null,
       "justify_items": null,
       "left": null,
       "margin": null,
       "max_height": null,
       "max_width": null,
       "min_height": null,
       "min_width": null,
       "object_fit": null,
       "object_position": null,
       "order": null,
       "overflow": null,
       "padding": null,
       "right": null,
       "top": null,
       "visibility": null,
       "width": null
      }
     },
     "df2e65b88c2c4d3ca25bbbbcc29281eb": {
      "model_module": "@jupyter-widgets/controls",
      "model_module_version": "2.0.0",
      "model_name": "ProgressStyleModel",
      "state": {
       "_model_module": "@jupyter-widgets/controls",
       "_model_module_version": "2.0.0",
       "_model_name": "ProgressStyleModel",
       "_view_count": null,
       "_view_module": "@jupyter-widgets/base",
       "_view_module_version": "2.0.0",
       "_view_name": "StyleView",
       "bar_color": null,
       "description_width": ""
      }
     },
     "e54d9d5dab3b4f08b9aad9b754a8b7e3": {
      "model_module": "@jupyter-widgets/controls",
      "model_module_version": "2.0.0",
      "model_name": "HTMLModel",
      "state": {
       "_dom_classes": [],
       "_model_module": "@jupyter-widgets/controls",
       "_model_module_version": "2.0.0",
       "_model_name": "HTMLModel",
       "_view_count": null,
       "_view_module": "@jupyter-widgets/controls",
       "_view_module_version": "2.0.0",
       "_view_name": "HTMLView",
       "description": "",
       "description_allow_html": false,
       "layout": "IPY_MODEL_f9021fde54c1400296223d63353b8fee",
       "placeholder": "​",
       "style": "IPY_MODEL_16c397a7e6644cdf83404c7b54289a2c",
       "tabbable": null,
       "tooltip": null,
       "value": " 1753/1753 [00:00&lt;00:00, 6839.56 examples/s]"
      }
     },
     "e98d5c488dbf47b2b407de200b463daf": {
      "model_module": "@jupyter-widgets/controls",
      "model_module_version": "2.0.0",
      "model_name": "HTMLStyleModel",
      "state": {
       "_model_module": "@jupyter-widgets/controls",
       "_model_module_version": "2.0.0",
       "_model_name": "HTMLStyleModel",
       "_view_count": null,
       "_view_module": "@jupyter-widgets/base",
       "_view_module_version": "2.0.0",
       "_view_name": "StyleView",
       "background": null,
       "description_width": "",
       "font_size": null,
       "text_color": null
      }
     },
     "ebebab07a96f4f2f911ed0175d661bfc": {
      "model_module": "@jupyter-widgets/controls",
      "model_module_version": "2.0.0",
      "model_name": "HTMLStyleModel",
      "state": {
       "_model_module": "@jupyter-widgets/controls",
       "_model_module_version": "2.0.0",
       "_model_name": "HTMLStyleModel",
       "_view_count": null,
       "_view_module": "@jupyter-widgets/base",
       "_view_module_version": "2.0.0",
       "_view_name": "StyleView",
       "background": null,
       "description_width": "",
       "font_size": null,
       "text_color": null
      }
     },
     "f0657659957d41afb06d7c78eeeddce2": {
      "model_module": "@jupyter-widgets/controls",
      "model_module_version": "2.0.0",
      "model_name": "HTMLModel",
      "state": {
       "_dom_classes": [],
       "_model_module": "@jupyter-widgets/controls",
       "_model_module_version": "2.0.0",
       "_model_name": "HTMLModel",
       "_view_count": null,
       "_view_module": "@jupyter-widgets/controls",
       "_view_module_version": "2.0.0",
       "_view_name": "HTMLView",
       "description": "",
       "description_allow_html": false,
       "layout": "IPY_MODEL_0b204957e1b2453692cf98fa9d55c493",
       "placeholder": "​",
       "style": "IPY_MODEL_91ebc8cedac143de8955a1100c95db3b",
       "tabbable": null,
       "tooltip": null,
       "value": "pytorch_model.bin: 100%"
      }
     },
     "f15ad56189d6458e93807d1da9e9c393": {
      "model_module": "@jupyter-widgets/controls",
      "model_module_version": "2.0.0",
      "model_name": "FloatProgressModel",
      "state": {
       "_dom_classes": [],
       "_model_module": "@jupyter-widgets/controls",
       "_model_module_version": "2.0.0",
       "_model_name": "FloatProgressModel",
       "_view_count": null,
       "_view_module": "@jupyter-widgets/controls",
       "_view_module_version": "2.0.0",
       "_view_name": "ProgressView",
       "bar_style": "success",
       "description": "",
       "description_allow_html": false,
       "layout": "IPY_MODEL_64e29d64e0e143308bc63db072aae5c6",
       "max": 65.0,
       "min": 0.0,
       "orientation": "horizontal",
       "style": "IPY_MODEL_9b6de032f7124d25867712cdeb48013f",
       "tabbable": null,
       "tooltip": null,
       "value": 65.0
      }
     },
     "f15d58db0b1a4cd9ab478374055b15dc": {
      "model_module": "@jupyter-widgets/base",
      "model_module_version": "2.0.0",
      "model_name": "LayoutModel",
      "state": {
       "_model_module": "@jupyter-widgets/base",
       "_model_module_version": "2.0.0",
       "_model_name": "LayoutModel",
       "_view_count": null,
       "_view_module": "@jupyter-widgets/base",
       "_view_module_version": "2.0.0",
       "_view_name": "LayoutView",
       "align_content": null,
       "align_items": null,
       "align_self": null,
       "border_bottom": null,
       "border_left": null,
       "border_right": null,
       "border_top": null,
       "bottom": null,
       "display": null,
       "flex": null,
       "flex_flow": null,
       "grid_area": null,
       "grid_auto_columns": null,
       "grid_auto_flow": null,
       "grid_auto_rows": null,
       "grid_column": null,
       "grid_gap": null,
       "grid_row": null,
       "grid_template_areas": null,
       "grid_template_columns": null,
       "grid_template_rows": null,
       "height": null,
       "justify_content": null,
       "justify_items": null,
       "left": null,
       "margin": null,
       "max_height": null,
       "max_width": null,
       "min_height": null,
       "min_width": null,
       "object_fit": null,
       "object_position": null,
       "order": null,
       "overflow": null,
       "padding": null,
       "right": null,
       "top": null,
       "visibility": null,
       "width": null
      }
     },
     "f504bfc8bd4749eda8824756b9dd6d1c": {
      "model_module": "@jupyter-widgets/controls",
      "model_module_version": "2.0.0",
      "model_name": "HBoxModel",
      "state": {
       "_dom_classes": [],
       "_model_module": "@jupyter-widgets/controls",
       "_model_module_version": "2.0.0",
       "_model_name": "HBoxModel",
       "_view_count": null,
       "_view_module": "@jupyter-widgets/controls",
       "_view_module_version": "2.0.0",
       "_view_name": "HBoxView",
       "box_style": "",
       "children": [
        "IPY_MODEL_f0657659957d41afb06d7c78eeeddce2",
        "IPY_MODEL_56fe7652e19a4ad89839db79c68dfb1a",
        "IPY_MODEL_8f7403a9980f4c4487614135607947c5"
       ],
       "layout": "IPY_MODEL_50cd0cc4d82f4d2fbec26403d093f567",
       "tabbable": null,
       "tooltip": null
      }
     },
     "f5b07aaa7a93462483cc44a8bd6c5476": {
      "model_module": "@jupyter-widgets/base",
      "model_module_version": "2.0.0",
      "model_name": "LayoutModel",
      "state": {
       "_model_module": "@jupyter-widgets/base",
       "_model_module_version": "2.0.0",
       "_model_name": "LayoutModel",
       "_view_count": null,
       "_view_module": "@jupyter-widgets/base",
       "_view_module_version": "2.0.0",
       "_view_name": "LayoutView",
       "align_content": null,
       "align_items": null,
       "align_self": null,
       "border_bottom": null,
       "border_left": null,
       "border_right": null,
       "border_top": null,
       "bottom": null,
       "display": null,
       "flex": null,
       "flex_flow": null,
       "grid_area": null,
       "grid_auto_columns": null,
       "grid_auto_flow": null,
       "grid_auto_rows": null,
       "grid_column": null,
       "grid_gap": null,
       "grid_row": null,
       "grid_template_areas": null,
       "grid_template_columns": null,
       "grid_template_rows": null,
       "height": null,
       "justify_content": null,
       "justify_items": null,
       "left": null,
       "margin": null,
       "max_height": null,
       "max_width": null,
       "min_height": null,
       "min_width": null,
       "object_fit": null,
       "object_position": null,
       "order": null,
       "overflow": null,
       "padding": null,
       "right": null,
       "top": null,
       "visibility": null,
       "width": null
      }
     },
     "f613c5bb28824b2db1380232c63fb9dd": {
      "model_module": "@jupyter-widgets/base",
      "model_module_version": "2.0.0",
      "model_name": "LayoutModel",
      "state": {
       "_model_module": "@jupyter-widgets/base",
       "_model_module_version": "2.0.0",
       "_model_name": "LayoutModel",
       "_view_count": null,
       "_view_module": "@jupyter-widgets/base",
       "_view_module_version": "2.0.0",
       "_view_name": "LayoutView",
       "align_content": null,
       "align_items": null,
       "align_self": null,
       "border_bottom": null,
       "border_left": null,
       "border_right": null,
       "border_top": null,
       "bottom": null,
       "display": null,
       "flex": null,
       "flex_flow": null,
       "grid_area": null,
       "grid_auto_columns": null,
       "grid_auto_flow": null,
       "grid_auto_rows": null,
       "grid_column": null,
       "grid_gap": null,
       "grid_row": null,
       "grid_template_areas": null,
       "grid_template_columns": null,
       "grid_template_rows": null,
       "height": null,
       "justify_content": null,
       "justify_items": null,
       "left": null,
       "margin": null,
       "max_height": null,
       "max_width": null,
       "min_height": null,
       "min_width": null,
       "object_fit": null,
       "object_position": null,
       "order": null,
       "overflow": null,
       "padding": null,
       "right": null,
       "top": null,
       "visibility": null,
       "width": null
      }
     },
     "f701a83576284db6b6dd90fcf30283fd": {
      "model_module": "@jupyter-widgets/controls",
      "model_module_version": "2.0.0",
      "model_name": "HBoxModel",
      "state": {
       "_dom_classes": [],
       "_model_module": "@jupyter-widgets/controls",
       "_model_module_version": "2.0.0",
       "_model_name": "HBoxModel",
       "_view_count": null,
       "_view_module": "@jupyter-widgets/controls",
       "_view_module_version": "2.0.0",
       "_view_name": "HBoxView",
       "box_style": "",
       "children": [
        "IPY_MODEL_56fa8bec985d40ddb95f09deab5ca0fb",
        "IPY_MODEL_707f071bfc534ca08b6ec905eeecd059",
        "IPY_MODEL_e54d9d5dab3b4f08b9aad9b754a8b7e3"
       ],
       "layout": "IPY_MODEL_4f385823d24c4e0ca9dafce25df8acca",
       "tabbable": null,
       "tooltip": null
      }
     },
     "f7b8443744734d9290d26edd584b33f0": {
      "model_module": "@jupyter-widgets/base",
      "model_module_version": "2.0.0",
      "model_name": "LayoutModel",
      "state": {
       "_model_module": "@jupyter-widgets/base",
       "_model_module_version": "2.0.0",
       "_model_name": "LayoutModel",
       "_view_count": null,
       "_view_module": "@jupyter-widgets/base",
       "_view_module_version": "2.0.0",
       "_view_name": "LayoutView",
       "align_content": null,
       "align_items": null,
       "align_self": null,
       "border_bottom": null,
       "border_left": null,
       "border_right": null,
       "border_top": null,
       "bottom": null,
       "display": null,
       "flex": null,
       "flex_flow": null,
       "grid_area": null,
       "grid_auto_columns": null,
       "grid_auto_flow": null,
       "grid_auto_rows": null,
       "grid_column": null,
       "grid_gap": null,
       "grid_row": null,
       "grid_template_areas": null,
       "grid_template_columns": null,
       "grid_template_rows": null,
       "height": null,
       "justify_content": null,
       "justify_items": null,
       "left": null,
       "margin": null,
       "max_height": null,
       "max_width": null,
       "min_height": null,
       "min_width": null,
       "object_fit": null,
       "object_position": null,
       "order": null,
       "overflow": null,
       "padding": null,
       "right": null,
       "top": null,
       "visibility": null,
       "width": null
      }
     },
     "f7cfdc9c042b4e8abe88cfcf2e1737f9": {
      "model_module": "@jupyter-widgets/controls",
      "model_module_version": "2.0.0",
      "model_name": "HTMLModel",
      "state": {
       "_dom_classes": [],
       "_model_module": "@jupyter-widgets/controls",
       "_model_module_version": "2.0.0",
       "_model_name": "HTMLModel",
       "_view_count": null,
       "_view_module": "@jupyter-widgets/controls",
       "_view_module_version": "2.0.0",
       "_view_name": "HTMLView",
       "description": "",
       "description_allow_html": false,
       "layout": "IPY_MODEL_000d61e6965f4ad999786e545cf35b2f",
       "placeholder": "​",
       "style": "IPY_MODEL_2651adf6f42a4eadb249bdcce2914c70",
       "tabbable": null,
       "tooltip": null,
       "value": "spiece.model: 100%"
      }
     },
     "f8ec7bda7e724aa38f7ee4141af98d84": {
      "model_module": "@jupyter-widgets/base",
      "model_module_version": "2.0.0",
      "model_name": "LayoutModel",
      "state": {
       "_model_module": "@jupyter-widgets/base",
       "_model_module_version": "2.0.0",
       "_model_name": "LayoutModel",
       "_view_count": null,
       "_view_module": "@jupyter-widgets/base",
       "_view_module_version": "2.0.0",
       "_view_name": "LayoutView",
       "align_content": null,
       "align_items": null,
       "align_self": null,
       "border_bottom": null,
       "border_left": null,
       "border_right": null,
       "border_top": null,
       "bottom": null,
       "display": null,
       "flex": null,
       "flex_flow": null,
       "grid_area": null,
       "grid_auto_columns": null,
       "grid_auto_flow": null,
       "grid_auto_rows": null,
       "grid_column": null,
       "grid_gap": null,
       "grid_row": null,
       "grid_template_areas": null,
       "grid_template_columns": null,
       "grid_template_rows": null,
       "height": null,
       "justify_content": null,
       "justify_items": null,
       "left": null,
       "margin": null,
       "max_height": null,
       "max_width": null,
       "min_height": null,
       "min_width": null,
       "object_fit": null,
       "object_position": null,
       "order": null,
       "overflow": null,
       "padding": null,
       "right": null,
       "top": null,
       "visibility": null,
       "width": null
      }
     },
     "f9021fde54c1400296223d63353b8fee": {
      "model_module": "@jupyter-widgets/base",
      "model_module_version": "2.0.0",
      "model_name": "LayoutModel",
      "state": {
       "_model_module": "@jupyter-widgets/base",
       "_model_module_version": "2.0.0",
       "_model_name": "LayoutModel",
       "_view_count": null,
       "_view_module": "@jupyter-widgets/base",
       "_view_module_version": "2.0.0",
       "_view_name": "LayoutView",
       "align_content": null,
       "align_items": null,
       "align_self": null,
       "border_bottom": null,
       "border_left": null,
       "border_right": null,
       "border_top": null,
       "bottom": null,
       "display": null,
       "flex": null,
       "flex_flow": null,
       "grid_area": null,
       "grid_auto_columns": null,
       "grid_auto_flow": null,
       "grid_auto_rows": null,
       "grid_column": null,
       "grid_gap": null,
       "grid_row": null,
       "grid_template_areas": null,
       "grid_template_columns": null,
       "grid_template_rows": null,
       "height": null,
       "justify_content": null,
       "justify_items": null,
       "left": null,
       "margin": null,
       "max_height": null,
       "max_width": null,
       "min_height": null,
       "min_width": null,
       "object_fit": null,
       "object_position": null,
       "order": null,
       "overflow": null,
       "padding": null,
       "right": null,
       "top": null,
       "visibility": null,
       "width": null
      }
     },
     "fa74acac1af34d30b551cb0b831bc759": {
      "model_module": "@jupyter-widgets/base",
      "model_module_version": "2.0.0",
      "model_name": "LayoutModel",
      "state": {
       "_model_module": "@jupyter-widgets/base",
       "_model_module_version": "2.0.0",
       "_model_name": "LayoutModel",
       "_view_count": null,
       "_view_module": "@jupyter-widgets/base",
       "_view_module_version": "2.0.0",
       "_view_name": "LayoutView",
       "align_content": null,
       "align_items": null,
       "align_self": null,
       "border_bottom": null,
       "border_left": null,
       "border_right": null,
       "border_top": null,
       "bottom": null,
       "display": null,
       "flex": null,
       "flex_flow": null,
       "grid_area": null,
       "grid_auto_columns": null,
       "grid_auto_flow": null,
       "grid_auto_rows": null,
       "grid_column": null,
       "grid_gap": null,
       "grid_row": null,
       "grid_template_areas": null,
       "grid_template_columns": null,
       "grid_template_rows": null,
       "height": null,
       "justify_content": null,
       "justify_items": null,
       "left": null,
       "margin": null,
       "max_height": null,
       "max_width": null,
       "min_height": null,
       "min_width": null,
       "object_fit": null,
       "object_position": null,
       "order": null,
       "overflow": null,
       "padding": null,
       "right": null,
       "top": null,
       "visibility": null,
       "width": null
      }
     },
     "fd8191bf429e4eabb0d7ed228628a2ed": {
      "model_module": "@jupyter-widgets/controls",
      "model_module_version": "2.0.0",
      "model_name": "HTMLModel",
      "state": {
       "_dom_classes": [],
       "_model_module": "@jupyter-widgets/controls",
       "_model_module_version": "2.0.0",
       "_model_name": "HTMLModel",
       "_view_count": null,
       "_view_module": "@jupyter-widgets/controls",
       "_view_module_version": "2.0.0",
       "_view_name": "HTMLView",
       "description": "",
       "description_allow_html": false,
       "layout": "IPY_MODEL_f5b07aaa7a93462483cc44a8bd6c5476",
       "placeholder": "​",
       "style": "IPY_MODEL_85e38cbb00254ce0851bcb25e2e5f65b",
       "tabbable": null,
       "tooltip": null,
       "value": "special_tokens_map.json: 100%"
      }
     },
     "ff54ed8dd1954c6e899063a18314f78d": {
      "model_module": "@jupyter-widgets/base",
      "model_module_version": "2.0.0",
      "model_name": "LayoutModel",
      "state": {
       "_model_module": "@jupyter-widgets/base",
       "_model_module_version": "2.0.0",
       "_model_name": "LayoutModel",
       "_view_count": null,
       "_view_module": "@jupyter-widgets/base",
       "_view_module_version": "2.0.0",
       "_view_name": "LayoutView",
       "align_content": null,
       "align_items": null,
       "align_self": null,
       "border_bottom": null,
       "border_left": null,
       "border_right": null,
       "border_top": null,
       "bottom": null,
       "display": null,
       "flex": null,
       "flex_flow": null,
       "grid_area": null,
       "grid_auto_columns": null,
       "grid_auto_flow": null,
       "grid_auto_rows": null,
       "grid_column": null,
       "grid_gap": null,
       "grid_row": null,
       "grid_template_areas": null,
       "grid_template_columns": null,
       "grid_template_rows": null,
       "height": null,
       "justify_content": null,
       "justify_items": null,
       "left": null,
       "margin": null,
       "max_height": null,
       "max_width": null,
       "min_height": null,
       "min_width": null,
       "object_fit": null,
       "object_position": null,
       "order": null,
       "overflow": null,
       "padding": null,
       "right": null,
       "top": null,
       "visibility": null,
       "width": null
      }
     }
    },
    "version_major": 2,
    "version_minor": 0
   }
  }
 },
 "nbformat": 4,
 "nbformat_minor": 5
}
